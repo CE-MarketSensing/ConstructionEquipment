{
 "cells": [
  {
   "cell_type": "code",
   "execution_count": 1,
   "metadata": {},
   "outputs": [],
   "source": [
    "import time\n",
    "from selenium import webdriver\n",
    "from selenium.webdriver.common.by import By\n",
    "from selenium.webdriver.chrome.options import Options\n",
    "from selenium.webdriver.chrome.service import Service # 셀레니움 버전 4에서는 이걸 써야 한다. \n",
    "from webdriver_manager.chrome import ChromeDriverManager\n",
    "from bs4 import BeautifulSoup\n",
    "import pandas as pd\n",
    "from selenium.common.exceptions    import NoSuchWindowException\n",
    "from selenium.webdriver.support.ui import WebDriverWait"
   ]
  },
  {
   "cell_type": "code",
   "execution_count": 18,
   "metadata": {},
   "outputs": [],
   "source": [
    "def chrome_setting():\n",
    "    chrome_options = webdriver.ChromeOptions()\n",
    "#     chrome_options.add_argument('--headless') # 크롬 탭이 나타나지 않게 옵션 조정\n",
    "    chrome_options.add_argument('--no-sandbox')\n",
    "    # 공유 메모리를 담당하는 디렉토리 사용 x\n",
    "    chrome_options.add_argument('--disable-dev-shm-usage')\n",
    "    # 본인 user-agent값 입력\n",
    "    chrome_options.add_argument({\"User-Agent\":\"Mozilla/5.0 (Windows NT 10.0; Win64; x64) AppleWebKit/537.36 (KHTML, like Gecko) Chrome/113.0.0.0 Safari/537.36\"})\n",
    "    driver = webdriver.Chrome(service=Service(ChromeDriverManager().install()), options=chrome_options)\n",
    "    return driver"
   ]
  },
  {
   "cell_type": "code",
   "execution_count": 20,
   "metadata": {},
   "outputs": [],
   "source": [
    "options = Options()\n",
    "options.add_experimental_option(\"detach\", True) # 브라우저 바로 닫힘 방지\n",
    "options.add_experimental_option('excludeSwitches', ['enable-logging']) #불필요한 메세지 제거"
   ]
  },
  {
   "cell_type": "code",
   "execution_count": null,
   "metadata": {},
   "outputs": [
    {
     "ename": "",
     "evalue": "",
     "output_type": "error",
     "traceback": [
      "\u001b[1;31mFailed to start the Kernel. \n",
      "\u001b[1;31mUnable to start Kernel 'base (Python 3.9.12)' due to connection timeout. \n",
      "\u001b[1;31mView Jupyter <a href='command:jupyter.viewOutput'>log</a> for further details."
     ]
    }
   ],
   "source": [
    "# 웹드라이버 오픈\n",
    "driver = webdriver.Chrome('chromedriver', options=options)\n",
    "driver.implicitly_wait(1)\n",
    "url = \"https://www.liebherr.com/en/usa/latest-news/news-press-releases/detail/liebherr-wins-esta-award-in-the-training-category.html\"\n",
    "driver.get(url)\n",
    "\n",
    "driver.find_element(By.CSS_SELECTOR, \"[aria-label='Decline']\").click()\n",
    "time.sleep(1)\n",
    "\n",
    "html = driver.page_source\n",
    "soup = BeautifulSoup(html, \"lxml\")\n",
    "print(\"title : \", soup.h1.text)"
   ]
  },
  {
   "cell_type": "code",
   "execution_count": 37,
   "metadata": {},
   "outputs": [
    {
     "data": {
      "text/plain": [
       "[<section class=\"top_of_page\">\n",
       " <h1>\n",
       " <span class=\"date\">Press releases | 05/10/2023</span>\n",
       " Liebherr wins ESTA Award in the 'Training' category\n",
       " </h1>\n",
       " <ul class=\"bold\">\n",
       " <li>\n",
       " <span class=\"icons\"></span>\n",
       " 'Training' category recently introduced to underline importance of the topic\n",
       " </li><li>\n",
       " <span class=\"icons\"></span>\n",
       " Liebherr offers target group-specific training to promote safety in the industry\n",
       " </li><li>\n",
       " <span class=\"icons\"></span>\n",
       " Digital training formats provide maximum flexibility worldwide\n",
       " </li>\n",
       " </ul>\n",
       " <p class=\"bold\">The winners of the ESTA Awards of Excellence 2023 were announced on 20<nbsp> </nbsp>April at an awards ceremony in Noordwijk, the Netherlands. Liebherr received an award in the 'Training' category for a novel training concept. With a new generation of training offers, Liebherr provides target group-specific training for customers in the crane industry and beyond to support the continuous development of jobs in this industry. The 'Training' category was newly introduced this year by ESTA (European association for the abnormal road transport and mobile crane rental industry) and, for the first time, an award was given for it to underline the importance of this topic.</p>\n",
       " </section>]"
      ]
     },
     "execution_count": 37,
     "metadata": {},
     "output_type": "execute_result"
    }
   ],
   "source": [
    "top_page = soup.select(\".top_of_page\")\n",
    "top_page"
   ]
  },
  {
   "cell_type": "code",
   "execution_count": 48,
   "metadata": {},
   "outputs": [
    {
     "name": "stdout",
     "output_type": "stream",
     "text": [
      "\n",
      "Press releases | 05/10/2023\n",
      "Liebherr wins ESTA Award in the 'Training' category\n",
      "\n"
     ]
    }
   ],
   "source": [
    "print(top_page[0].h1.text)"
   ]
  },
  {
   "cell_type": "code",
   "execution_count": 50,
   "metadata": {},
   "outputs": [
    {
     "data": {
      "text/plain": [
       "\"\\n\\n'Training' category recently introduced to underline importance of the topic\\n\""
      ]
     },
     "execution_count": 50,
     "metadata": {},
     "output_type": "execute_result"
    }
   ],
   "source": [
    "top_page[0].find_all(\"li\")[0].text"
   ]
  },
  {
   "cell_type": "code",
   "execution_count": 56,
   "metadata": {},
   "outputs": [
    {
     "data": {
      "text/plain": [
       "[<li>\n",
       " <span class=\"icons\"></span>\n",
       " 'Training' category recently introduced to underline importance of the topic\n",
       " </li>,\n",
       " <li>\n",
       " <span class=\"icons\"></span>\n",
       " Liebherr offers target group-specific training to promote safety in the industry\n",
       " </li>,\n",
       " <li>\n",
       " <span class=\"icons\"></span>\n",
       " Digital training formats provide maximum flexibility worldwide\n",
       " </li>]"
      ]
     },
     "execution_count": 56,
     "metadata": {},
     "output_type": "execute_result"
    }
   ],
   "source": [
    "top_page[0].select(\".bold\")[0].find_all(\"li\")"
   ]
  },
  {
   "cell_type": "code",
   "execution_count": 60,
   "metadata": {},
   "outputs": [
    {
     "data": {
      "text/plain": [
       "\"The winners of the ESTA Awards of Excellence 2023 were announced on 20 April at an awards ceremony in Noordwijk, the Netherlands. Liebherr received an award in the 'Training' category for a novel training concept. With a new generation of training offers, Liebherr provides target group-specific training for customers in the crane industry and beyond to support the continuous development of jobs in this industry. The 'Training' category was newly introduced this year by ESTA (European association for the abnormal road transport and mobile crane rental industry) and, for the first time, an award was given for it to underline the importance of this topic.\""
      ]
     },
     "execution_count": 60,
     "metadata": {},
     "output_type": "execute_result"
    }
   ],
   "source": [
    "top_page[0].select(\"p.bold\")[0].text"
   ]
  },
  {
   "cell_type": "code",
   "execution_count": 71,
   "metadata": {},
   "outputs": [
    {
     "data": {
      "text/plain": [
       "[<div class=\"text\">\n",
       " <p>With a variety of courses in different formats, Liebherr serves the relevant segments for crane operators, dispatchers and workshop personnel around the world. Liebherr's aim is to better train crane industry employees and, in doing so, support safety and accident-free operations in the industry.</p>\n",
       " <p>Christoph Kleiner, Managing Director Sales at Liebherr-Werk Ehingen GmbH, accepted the award and says: \"For us, in addition to training our own employees, training our customers has always been an important component in connection with the safe and efficient use of our cranes while ensuring maximum availability. In recent years, we have added further learning methods, which we consistently used and expanded during the pandemic. These were also aimed at new target groups, not just crane drivers. Overall, training is also a key pillar of our business model, both in terms of presence in our division's training centres worldwide, but also digitally within our MyLiebherr customer platform.\"</p>\n",
       " <p>Christoph Behmüller, head of the training department at Liebherr in Ehingen, adds: \"Finding skilled workers and, at the same time, developing and retaining them is becoming increasingly more difficult. This is exactly where we want to support our customers in our long-standing partnership. Together we have thought about how we can properly support them in developing their employees. A new concept has been developed in this way. This allows us to offer our customers the possibility of training their employees from beginners to experts. Three areas of professional training have emerged: Mobile crane operators, dispatchers and workshop personnel.\"</p>\n",
       " <p>For each target group, Liebherr offers a digital e-learning course that provides a basic introduction to cranes. Through these e-learning courses, a uniform level of knowledge is achieved for the following courses. \"This way, we support the development process from career changer to expert – optimally and individually. During practical training weeks in the training departments worldwide, crane class-specific equipment and controls can be studied in depth after successful completion of the e-learning courses. This means that the training groups are on the same level and are already able to exchange a lot of knowledge with each other,\" says Behmüller.</p>\n",
       " <p>Liebherr is thus creating a new standard in the crane industry: one that focusses on qualified personnel who are aware of the responsibility that comes with handling and operating mobile cranes. This advances the goal of zero accidents in the industry. Comprehensive offers are available for our crane operators, dispatchers and workshop personnel target groups.</p>\n",
       " <h3>E-learning – being mobile</h3>\n",
       " <p>With its e-learning courses, Liebherr offers tailored learning at any time and from anywhere. The learning units can be worked through independently and flexibly. This offers maximum flexibility for all target groups with ultimately the same level of knowledge.</p>\n",
       " <h3>Face-to-face training courses</h3>\n",
       " <p>Face-to-face training is a valuable part of Liebherr's training programme. In theoretical and practical sessions, highly qualified and certified trainers explain the complex crane technology using cutaway models, demonstration objects, training cranes and with the help of multimedia. Face-to-face training is offered worldwide in various Liebherr training centres or at customer sites in some cases.</p>\n",
       " <h3>Live streaming</h3>\n",
       " <p>The training programme has been expanded to include a wide range of online opportunities for live course participation. These digital solutions make it possible to attend courses via live streaming regardless of where you are, saving valuable resources while still ensuring the highest industry standards and knowledge transfer.</p>\n",
       " </div>,\n",
       " <div class=\"mam-download__intro\">\n",
       " <h2>\n",
       " Downloads\n",
       " </h2>\n",
       " </div>,\n",
       " <div class=\"mam-download__list mam-download__list--4-columns\">\n",
       " <div class=\"mam-download__list-item\">\n",
       " <div class=\"mam-download__list-item-image mam-download__list-item-image--empty\">\n",
       " <i class=\"font-icon-downloads\"></i>\n",
       " </div>\n",
       " <div class=\"mam-download__list-item-description\">\n",
       " <span class=\"title\">\n",
       " Presseinformation Deutsch </span>\n",
       " <a class=\"moreLink trackEvent\" data-event-action=\"liebherr-presseinformation-esta-award-2023-training\" data-event-category=\"DOCX Download\" data-event-data='{\"file_name\": \"liebherr-presseinformation-esta-award-2023-training\",\"file_extension\": \"DOCX\",\"link_domain\": \"https://www.liebherr.com\",\"link_url\": \"/shared/media/corporate/news/news-2023/05/10/lwe/liebherr-presseinformation-esta-award-2023-training.docx\",\"page_location\": \"liebherr-wins-esta-award-in-the-training-category.html\"}' data-event-label=\"/shared/media/corporate/news/news-2023/05/10/lwe/liebherr-presseinformation-esta-award-2023-training.docx\" data-event-name=\"file_download\" download=\"\" href=\"/shared/media/corporate/news/news-2023/05/10/lwe/liebherr-presseinformation-esta-award-2023-training.docx\" target=\"_blank\" title=\"\n",
       " Presseinformation Deutsch \">\n",
       " <span class=\"icons\"></span>\n",
       " DOCX (213 KB)\n",
       " </a>\n",
       " </div>\n",
       " </div>\n",
       " <div class=\"mam-download__list-item\">\n",
       " <div class=\"mam-download__list-item-image mam-download__list-item-image--empty\">\n",
       " <i class=\"font-icon-downloads\"></i>\n",
       " </div>\n",
       " <div class=\"mam-download__list-item-description\">\n",
       " <span class=\"title\">\n",
       " Presseinformation Deutsch </span>\n",
       " <a class=\"moreLink trackEvent\" data-event-action=\"liebherr-presseinformation-esta-award-2023-training\" data-event-category=\"PDF Download\" data-event-data='{\"file_name\": \"liebherr-presseinformation-esta-award-2023-training\",\"file_extension\": \"PDF\",\"link_domain\": \"https://www.liebherr.com\",\"link_url\": \"/shared/media/corporate/news/news-2023/05/10/lwe/liebherr-presseinformation-esta-award-2023-training.pdf\",\"page_location\": \"liebherr-wins-esta-award-in-the-training-category.html\"}' data-event-label=\"/shared/media/corporate/news/news-2023/05/10/lwe/liebherr-presseinformation-esta-award-2023-training.pdf\" data-event-name=\"file_download\" download=\"\" href=\"/shared/media/corporate/news/news-2023/05/10/lwe/liebherr-presseinformation-esta-award-2023-training.pdf\" target=\"_blank\" title=\"\n",
       " Presseinformation Deutsch \">\n",
       " <span class=\"icons\"></span>\n",
       " PDF (246 KB)\n",
       " </a>\n",
       " </div>\n",
       " </div>\n",
       " <div class=\"mam-download__list-item\">\n",
       " <div class=\"mam-download__list-item-image mam-download__list-item-image--empty\">\n",
       " <i class=\"font-icon-downloads\"></i>\n",
       " </div>\n",
       " <div class=\"mam-download__list-item-description\">\n",
       " <span class=\"title\">\n",
       " Press release English</span>\n",
       " <a class=\"moreLink trackEvent\" data-event-action=\"liebherr-press-release-esta-award-2023-training\" data-event-category=\"DOCX Download\" data-event-data='{\"file_name\": \"liebherr-press-release-esta-award-2023-training\",\"file_extension\": \"DOCX\",\"link_domain\": \"https://www.liebherr.com\",\"link_url\": \"/shared/media/corporate/news/news-2023/05/10/lwe/liebherr-press-release-esta-award-2023-training.docx\",\"page_location\": \"liebherr-wins-esta-award-in-the-training-category.html\"}' data-event-label=\"/shared/media/corporate/news/news-2023/05/10/lwe/liebherr-press-release-esta-award-2023-training.docx\" data-event-name=\"file_download\" download=\"\" href=\"/shared/media/corporate/news/news-2023/05/10/lwe/liebherr-press-release-esta-award-2023-training.docx\" target=\"_blank\" title=\"\n",
       " Press release English\">\n",
       " <span class=\"icons\"></span>\n",
       " DOCX (210 KB)\n",
       " </a>\n",
       " </div>\n",
       " </div>\n",
       " <div class=\"mam-download__list-item\">\n",
       " <div class=\"mam-download__list-item-image mam-download__list-item-image--empty\">\n",
       " <i class=\"font-icon-downloads\"></i>\n",
       " </div>\n",
       " <div class=\"mam-download__list-item-description\">\n",
       " <span class=\"title\">\n",
       " Press release English</span>\n",
       " <a class=\"moreLink trackEvent\" data-event-action=\"liebherr-press-release-esta-award-2023-training\" data-event-category=\"PDF Download\" data-event-data='{\"file_name\": \"liebherr-press-release-esta-award-2023-training\",\"file_extension\": \"PDF\",\"link_domain\": \"https://www.liebherr.com\",\"link_url\": \"/shared/media/corporate/news/news-2023/05/10/lwe/liebherr-press-release-esta-award-2023-training.pdf\",\"page_location\": \"liebherr-wins-esta-award-in-the-training-category.html\"}' data-event-label=\"/shared/media/corporate/news/news-2023/05/10/lwe/liebherr-press-release-esta-award-2023-training.pdf\" data-event-name=\"file_download\" download=\"\" href=\"/shared/media/corporate/news/news-2023/05/10/lwe/liebherr-press-release-esta-award-2023-training.pdf\" target=\"_blank\" title=\"\n",
       " Press release English\">\n",
       " <span class=\"icons\"></span>\n",
       " PDF (240 KB)\n",
       " </a>\n",
       " </div>\n",
       " </div>\n",
       " </div>,\n",
       " <div class=\"image imgColLeft\" style=\"width:310px\">\n",
       " <img alt=\"\" src=\"/shared/media/corporate/images/contact-persons/liebherr-werk-ehingen-wolfgang-beringer.jpg\"/>\n",
       " </div>,\n",
       " <div class=\"text\" style=\"margin-left:310px;\">\n",
       " <address>\n",
       " <h3>\n",
       " Wolfgang Beringer\n",
       " </h3>\n",
       " <p>Marketing and Communication</p>\n",
       " <br/>\n",
       " <p>Liebherr-Werk Ehingen GmbH</p>\n",
       " <p></p>\n",
       " <p>Dr.-Hans-Liebherr-Straße 1</p>\n",
       " <p>89584 Ehingen (Donau)</p>\n",
       " <p>Germany</p>\n",
       " </address><ul>\n",
       " <li><span class=\"phone icons\">Phone</span><a href=\"tel:+4973915020\">+49 7391 502-0</a></li>\n",
       " <li><span class=\"fax icons\">Fax</span>+49 7391 502-3403</li>\n",
       " </ul>\n",
       " <button class=\"button ghost generic-webforms-opener\" data-mwf-extended-tracking=\"mwfExtendedTrackingParamsEN948546_160192_2111670_0\" data-mwf-form=\"mwfOptionsEN948546_160192_2111670_0\" data-target=\"#wfModal\">\n",
       " Send contact request\n",
       " </button>\n",
       " <script type=\"text/javascript\">\n",
       " var mwfOptionsEN948546_160192_2111670_0 = {\n",
       " uid: 'EN948546_160192',\n",
       " selector: '#ajaxreplaceEN948546_160192',\n",
       " url: '/wa/webform/servlet/form',\n",
       " query: 'to=H4sIAAAAAAAAAPPXbly-MS1zB2_ZWu3drOuM7mb6SrHdcEsNXMeTa9WpxwcAZ_PM6CAAAAA=',\n",
       " appendUrlVars: true,\n",
       " data: {\n",
       " _view: 'webform',\n",
       " _fd: 'aoFDCCHK-XrU0t9jsTkv8NYcyTNk0pNZMkaxS8BEEMQMIDXiUgBgl7P5BsJDzG-TY-4NWph9ftPTq-gbLm6Nk1MhXbuhkKiSRxzm6IygQ2JVHGK_wseeu3AM6H9nPHjCKgZP3iXnV87tSrSsXVCobQBPI7PAUyGusViHRrVbxmFgqHotLHkIwlIrIyn1KP8JjJaie8MpBcQmwZzOk6NdgqXpj5i9q66U14UCifagfTuoQz0eG9fB4fSKkC89_10z3hMWj_D4toxY1PePIKkrb0RU_MZoOEgbJ04IRw0F7ImSnUPtyzk5MhOLHgamOhqTOoqa676uio0L_VNKub0YWW6Ma6GEE2lxtPRdlONVxr0tNYleHHvYiwPxunyf7DZKGYSz3XVe1py8r4kpvnFXg29qsNqbb9RI9Cs8vM7CI7bY1Wt-AIpopGA3W4k9OAxf62qMKyqV-PdgLC4fZcyToXJjnHs3clxkIZrWziAVQGmaFyQugj-VSS9ZzczgPv0lbiYc-nUgZrHlZE_lq2RCpTSgNeMDt4xOBWKczsYt3-LzvU2otQo2V0aJmdGXcu-tcM1phWfumvp5oP3Keez9SzRcFfPKcikC0cF4_CGDo__S4KjnXgjf_faQgK1fVZeC-symyvpj7Rt2cbQXLzWiKAwxX7pWuLhAPdk4g36yOACyOyndq3-9Oj5GfxIixqhssW8K0FmCqOSPFz3AV4ggDgPYtm_mEWr6eY6R9ZUKIUenAETIZX0ZtMRIg5tTU2tAB4OChK0VrobW0xGKeVctSD79PHnkUT7tMJiLmnxQPFKNFfNhK4P538apD0DIgLC42iC5xRSKjJVffElbUnzCA695pGCynmtP4eIbQKR3eoWVp8SToVShAlGtwkOV0yRFYOdbWa_4NOotnHFV7XXE3AmzdlKXwKe6TX1zRAkt96Vk_DG4iWVb38AU3n7WY3LvbN-MDPJ_FjnMlsAgXATbh6UXCGrAwzYtefOpz72ht9DPcOmKKpv88CmUEl9JZQbgAfLtL3kiSKnbrfwqsyEX5JQC5AKh0BAjz3zP01EnhUmpTWNhRhIDRz8raL7u-6kJiLLMOY52R1MJwJTuNcic5mkYcWFjb1jbaJEE2oeYLtMqiZVPGE0sBCUYPRb0iAkgZk_QfDBirI1t-dxz22nDF5fTWZecLwhoeJtAI46xsNrP_BlEeWm1v3XwDZskLS-CRMDjet2aj5k3KDqRer0Nm57SHejVpBUPI9XRYDV_kATBthT_Pmq0hLwm_l5boH4SRf6oK0h_zS8SxD3CxQDjIkCVHQThQyYo-28Du3FYX_r6vdAb6IcyJ8HwFlnWHDLKOHSBpOTymjo-swn6m3PHrrMv0gnzxFdXMd9z8VZSWV66DsYQsg8ezvmNd_ZXMLIxxiyW1d83wJ_5HY0lUp4xhgpMYBSvQKjfzA0FN6GNe99cHHvf2kBxFgvXaa4cLm2sZbI_HRyfOWPMziE_Hze7Cg45sHRrQWvFyq8EY0y4T-33n7ZblVv0eKomDNppTuLYKcAAYFGWc8_xh5isOHiri_fvDPXzTHzc_Cj3G_7ZyJgJjefeA1td0S2_PPYMxOxuSu9Vw7ggtJVzll97uwgeYuyxzcfKM1Oq7-jPT_yVH18XlcW1pR_rq0ZSjtT48tNqJ11BCQStwFGgzmWuWKGRN0LbuLsf_bQ1Nh0f-sIS2z4Iw2DGu2btOZ9mSF5_y-MbhRROcmmwKInr-1HjkAOLqLW6kCLLsSKRGPGBfAf-0gDrXabDYgS5bpsMa5xdQFGKp5CwMwEadoC8lWOxra2TxpmtIfvlP5Ngw-2Q6_y-PUWxO2jWEkl4Hd0QQm5byUdDdXoSpRc6QEeKYnVCvukehWpLy0_pfYMhIUKFExOTIY4veRM8akzQaWvODgNIiJBneKkb5tNv4CcojjlF8vrip24jH347YpNL12Ot9hnpSD3N4hwWF4Z8JZNhyt0DaAAKNpiNk3ZW1C9dar3An3g90ah2mKnYXEt32zOVOue89eS5qKdZ16QzgKNIDzX7y0klXwU9AclzKj_ReEnIdeuQNjy53hTAKC1tcBrs_Q-5439-_Ha5xAEo3_SkDuK8GpModv7kzAtAX28yE99bMy13XxskfYXqCszNdIXMrDNt-eHwbvNJHAmmnxrbVsx-Qiew1JZZ5D-73oV1vo9rPsNzNpr6voFNbmlwbeUkzPGWcnLhgH6WDOaHO6WLwQFD-Jbciq7WIXgknchYELIbbuhvn0PrirlWcpTIhKM8ZH6M6b-xI6494AmC9k55MV07rmeA',\n",
       " _refs: '',\n",
       " _lang: 'en_GB',\n",
       " _ticket: '&_ticket='\n",
       " },\n",
       " onSuccess:function (data, status, jqXHR) {\n",
       " jQuery.mwfCustomOnSuccessInit(data, status, jqXHR,'EN948546_160192','null');\n",
       " }\n",
       " };\n",
       " var mwfExtendedTrackingParamsEN948546_160192_2111670_0 = {\n",
       " type: 'form',\n",
       " subject: '',\n",
       " companyName: 'Liebherr-Werk Ehingen GmbH'\n",
       " };\n",
       " </script>\n",
       " </div>,\n",
       " <div class=\"addressBlock\">\n",
       " </div>]"
      ]
     },
     "execution_count": 71,
     "metadata": {},
     "output_type": "execute_result"
    }
   ],
   "source": [
    "news2 = soup.select(\"#news2 > div\")\n",
    "news2"
   ]
  },
  {
   "cell_type": "code",
   "execution_count": 72,
   "metadata": {},
   "outputs": [
    {
     "name": "stdout",
     "output_type": "stream",
     "text": [
      "\n",
      "With a variety of courses in different formats, Liebherr serves the relevant segments for crane operators, dispatchers and workshop personnel around the world. Liebherr's aim is to better train crane industry employees and, in doing so, support safety and accident-free operations in the industry.\n",
      "Christoph Kleiner, Managing Director Sales at Liebherr-Werk Ehingen GmbH, accepted the award and says: \"For us, in addition to training our own employees, training our customers has always been an important component in connection with the safe and efficient use of our cranes while ensuring maximum availability. In recent years, we have added further learning methods, which we consistently used and expanded during the pandemic. These were also aimed at new target groups, not just crane drivers. Overall, training is also a key pillar of our business model, both in terms of presence in our division's training centres worldwide, but also digitally within our MyLiebherr customer platform.\"\n",
      "Christoph Behmüller, head of the training department at Liebherr in Ehingen, adds: \"Finding skilled workers and, at the same time, developing and retaining them is becoming increasingly more difficult. This is exactly where we want to support our customers in our long-standing partnership. Together we have thought about how we can properly support them in developing their employees. A new concept has been developed in this way. This allows us to offer our customers the possibility of training their employees from beginners to experts. Three areas of professional training have emerged: Mobile crane operators, dispatchers and workshop personnel.\"\n",
      "For each target group, Liebherr offers a digital e-learning course that provides a basic introduction to cranes. Through these e-learning courses, a uniform level of knowledge is achieved for the following courses. \"This way, we support the development process from career changer to expert – optimally and individually. During practical training weeks in the training departments worldwide, crane class-specific equipment and controls can be studied in depth after successful completion of the e-learning courses. This means that the training groups are on the same level and are already able to exchange a lot of knowledge with each other,\" says Behmüller.\n",
      "Liebherr is thus creating a new standard in the crane industry: one that focusses on qualified personnel who are aware of the responsibility that comes with handling and operating mobile cranes. This advances the goal of zero accidents in the industry. Comprehensive offers are available for our crane operators, dispatchers and workshop personnel target groups.\n",
      "E-learning – being mobile\n",
      "With its e-learning courses, Liebherr offers tailored learning at any time and from anywhere. The learning units can be worked through independently and flexibly. This offers maximum flexibility for all target groups with ultimately the same level of knowledge.\n",
      "Face-to-face training courses\n",
      "Face-to-face training is a valuable part of Liebherr's training programme. In theoretical and practical sessions, highly qualified and certified trainers explain the complex crane technology using cutaway models, demonstration objects, training cranes and with the help of multimedia. Face-to-face training is offered worldwide in various Liebherr training centres or at customer sites in some cases.\n",
      "Live streaming\n",
      "The training programme has been expanded to include a wide range of online opportunities for live course participation. These digital solutions make it possible to attend courses via live streaming regardless of where you are, saving valuable resources while still ensuring the highest industry standards and knowledge transfer.\n",
      "\n",
      "\n",
      "\n",
      "Downloads\n",
      "\n",
      "\n",
      "\n",
      "\n",
      "\n",
      "\n",
      "\n",
      "\n",
      "\n",
      "Presseinformation Deutsch \n",
      "\n",
      "\n",
      "DOCX (213 KB)\n",
      "\n",
      "\n",
      "\n",
      "\n",
      "\n",
      "\n",
      "\n",
      "\n",
      "\n",
      "Presseinformation Deutsch \n",
      "\n",
      "\n",
      "PDF (246 KB)\n",
      "\n",
      "\n",
      "\n",
      "\n",
      "\n",
      "\n",
      "\n",
      "\n",
      "\n",
      "Press release English\n",
      "\n",
      "\n",
      "DOCX (210 KB)\n",
      "\n",
      "\n",
      "\n",
      "\n",
      "\n",
      "\n",
      "\n",
      "\n",
      "\n",
      "Press release English\n",
      "\n",
      "\n",
      "PDF (240 KB)\n",
      "\n",
      "\n",
      "\n",
      "\n",
      "\n",
      "\n",
      "\n",
      "\n",
      "\n",
      "\n",
      "Wolfgang Beringer\n",
      "\n",
      "Marketing and Communication\n",
      "\n",
      "Liebherr-Werk Ehingen GmbH\n",
      "\n",
      "Dr.-Hans-Liebherr-Straße 1\n",
      "89584 Ehingen (Donau)\n",
      "Germany\n",
      "\n",
      "Phone+49 7391 502-0\n",
      "Fax+49 7391 502-3403\n",
      "\n",
      "\n",
      "Send contact request\n",
      "\n",
      "\n",
      "\n",
      "\n",
      "\n"
     ]
    }
   ],
   "source": [
    "for news in news2:\n",
    "    print(news.text)"
   ]
  },
  {
   "cell_type": "code",
   "execution_count": 76,
   "metadata": {},
   "outputs": [
    {
     "name": "stdout",
     "output_type": "stream",
     "text": [
      "title :  \n",
      "News | 05/04/2023\n",
      "Liebherr to exhibit at 2023 Elko Mining Expo\n",
      "\n"
     ]
    }
   ],
   "source": [
    "url = \"https://www.liebherr.com/en/usa/latest-news/news-press-releases/detail/liebherr-to-exhibit-at-2023-elko-mining-expo.html\"\n",
    "driver.get(url)\n",
    "\n",
    "# driver.find_element(By.CSS_SELECTOR, \"[aria-label='Decline']\").click()\n",
    "# time.sleep(1)\n",
    "\n",
    "html = driver.page_source\n",
    "soup = BeautifulSoup(html, \"lxml\")\n",
    "print(\"title : \", soup.h1.text)"
   ]
  },
  {
   "cell_type": "code",
   "execution_count": 78,
   "metadata": {},
   "outputs": [
    {
     "data": {
      "text/plain": [
       "[<section class=\"top_of_page\">\n",
       " <h1>\n",
       " <span class=\"date\">News | 05/04/2023</span>\n",
       " Liebherr to exhibit at 2023 Elko Mining Expo\n",
       " </h1>\n",
       " <p class=\"bold\">Liebherr USA, Co. will be exhibiting at 2023 Elko Mining Expo in June 2023 showcasing multiple machines. </p><p class=\"bold\"><nbsp>Location: Elko Convention Center, Elko NV </nbsp></p><p class=\"bold\"><nbsp>Show dates: June 5-8, 2023 </nbsp></p><p class=\"bold\"><nbsp>Liebherr Booth # 574-576</nbsp></p>\n",
       " </section>]"
      ]
     },
     "execution_count": 78,
     "metadata": {},
     "output_type": "execute_result"
    }
   ],
   "source": [
    "top_page = soup.select(\".top_of_page\")\n",
    "top_page"
   ]
  },
  {
   "cell_type": "code",
   "execution_count": 83,
   "metadata": {},
   "outputs": [
    {
     "name": "stdout",
     "output_type": "stream",
     "text": [
      "Liebherr USA, Co. will be exhibiting at 2023 Elko Mining Expo in June 2023 showcasing multiple machines. \n",
      "Location: Elko Convention Center, Elko NV \n",
      "Show dates: June 5-8, 2023 \n",
      "Liebherr Booth # 574-576\n"
     ]
    }
   ],
   "source": [
    "for p in top_page[0].select(\"p.bold\"):\n",
    "    print(p.text)"
   ]
  },
  {
   "cell_type": "code",
   "execution_count": 84,
   "metadata": {},
   "outputs": [
    {
     "name": "stdout",
     "output_type": "stream",
     "text": [
      "\n",
      "The 37th annual Elko Mining Expo will take place in Elko, Nevada from June 5-8, 2023. Organized by the Elko Convention & Visitors Authority since 1985, this is one of the oldest mining expos in the United States. It allows visitors from all over the world to come together to view the latest equipment and technology in the industry and provides an excellent opportunity for professional networking on an international scale.\n",
      "Liebherr USA, Co. will be showcasing multiple machines from the Mining and Earthmoving product segments. Regional Sales Manager, Brent Adams, as well as multiple product representatives will be on site at the Liebherr booth for any inquiries.\n",
      "Liebherr will also be the premier sponsor of the 2023 Elko Mining Expo, and will be highlighted as such at the opening reception on June 7, 2023. Liebherr has held this sponsorship for multiple years.\n",
      "Digging, Hauling, and Dozing \n",
      "Liebherr Mining offers a full line of products for the mining industry including mining excavators, trucks, and dozers, as well as personal assistance to customer specific projects and site requirements. Quality, reliability, and innovative technologies ensure that mining operations are safe and efficient at all times. Liebherr also offers aftermarket support for components and a remanufacturing program that enables customers to significantly reduce the total lifecycle cost of Liebherr mining equipment.\n",
      "\n"
     ]
    }
   ],
   "source": [
    "news2 = soup.select(\"#news2 > div\")\n",
    "for news in news2:\n",
    "    print(news.text)"
   ]
  },
  {
   "cell_type": "code",
   "execution_count": null,
   "metadata": {},
   "outputs": [],
   "source": []
  }
 ],
 "metadata": {
  "kernelspec": {
   "display_name": "base",
   "language": "python",
   "name": "python3"
  },
  "language_info": {
   "codemirror_mode": {
    "name": "ipython",
    "version": 3
   },
   "file_extension": ".py",
   "mimetype": "text/x-python",
   "name": "python",
   "nbconvert_exporter": "python",
   "pygments_lexer": "ipython3",
   "version": "3.9.12"
  },
  "orig_nbformat": 4
 },
 "nbformat": 4,
 "nbformat_minor": 2
}
