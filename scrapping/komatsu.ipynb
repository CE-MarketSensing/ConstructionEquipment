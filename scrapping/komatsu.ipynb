{
 "cells": [
  {
   "cell_type": "code",
   "execution_count": 1,
   "metadata": {},
   "outputs": [],
   "source": [
    "import time\n",
    "from selenium import webdriver\n",
    "from selenium.webdriver.common.by import By\n",
    "\n",
    "import pandas as pd"
   ]
  },
  {
   "cell_type": "code",
   "execution_count": 2,
   "metadata": {},
   "outputs": [],
   "source": [
    "options = webdriver.ChromeOptions()\n",
    "# 새 창을 띄워서 확인하기 위해 해당 코드는 주석 처리\n",
    "# options.add_argument('--headless')        # Head-less 설정\n",
    "options.add_argument('--no-sandbox')\n",
    "options.add_argument('--disable-dev-shm-usage')\n",
    "\n",
    "# 웹 드라이버 객체 생성\n",
    "driver = webdriver.Chrome('chromedriver', options=options)"
   ]
  },
  {
   "cell_type": "code",
   "execution_count": 37,
   "metadata": {},
   "outputs": [],
   "source": [
    "driver.implicitly_wait(10)\n",
    "\n",
    "url = \"https://www.komatsu.jp/en/newsroom\"\n",
    "driver.get(url)"
   ]
  },
  {
   "cell_type": "code",
   "execution_count": 28,
   "metadata": {},
   "outputs": [],
   "source": [
    "# 더보기 한 번에 5번 정도 클릭\n",
    "for i in range(1, 6):\n",
    "    more_botton = driver.find_element(By.CSS_SELECTOR, '#newsloadmore')\n",
    "    if more_botton.is_displayed():\n",
    "        more_botton.click()"
   ]
  },
  {
   "cell_type": "code",
   "execution_count": 32,
   "metadata": {},
   "outputs": [
    {
     "data": {
      "text/plain": [
       "80"
      ]
     },
     "execution_count": 32,
     "metadata": {},
     "output_type": "execute_result"
    }
   ],
   "source": [
    "# 총 기사 갯수\n",
    "# 처음 5개, 더보기 한 번 누를 때마다 15개\n",
    "news_count = 5 + (15*5)\n",
    "news_count"
   ]
  },
  {
   "cell_type": "code",
   "execution_count": 47,
   "metadata": {},
   "outputs": [],
   "source": [
    "# 스크래핑 담을 리스트\n",
    "news_title = []\n",
    "news_article = []"
   ]
  },
  {
   "cell_type": "code",
   "execution_count": 48,
   "metadata": {},
   "outputs": [
    {
     "name": "stdout",
     "output_type": "stream",
     "text": [
      "Newsroom May 12, 2022\n",
      "  Komatsu Ltd. (President and CEO: Hiroyuki Ogawa) has developed a concept machine for a medium-sized hydraulic excavator that combines a hydrogen fuel cell and Komatsu-developed key components, to achieve carbon neutrality at workplaces of construction equipment. By advancing the PoC (Proof of Concept) tests it started in May 2023, Komatsu will accelerate its efforts to embark on the commercial production of medium-sized and large construction equipment powered by hydrogen fuel cells in the near future.\n",
      "\n",
      "\n",
      "\n",
      "\n",
      "[Concept machine for a medium-sized hydraulic excavator equipped with a hydrogen fuel cell]\n",
      "\n",
      "\n",
      "In its mid-term management plan, Komatsu committed to minimizing environmental impact through its business, targeting a 50% reduction in CO2 emissions from use of its products and production of its equipment by 2030 (compared to 2010 levels) and a challenge target of achieving carbon neutrality by 2050. To help its customers achieve carbon neutrality, Komatsu has been providing a variety of products, services, and solutions that reduce environmental impact, such as hybrid hydraulic excavators and electric mini excavators. Komatsu is also engaged in research and development to provide products equipped with new power sources.\n",
      "For the new concept machine, Komatsu adopted a hydrogen fuel cell system and hydrogen tank, which were produced by Toyota Motor Corporation (Operating Officer, President: Koji Sato) (hereafter \"Toyota\"), on Komatsu's medium-sized hydraulic excavator. In addition to Komatsu's comprehensive control technology, the combination of Toyota’s hydrogen fuel cell system and Komatsu key components, Komatsu is working toward zero exhaust emissions and a significant reduction in noise and vibration, while delivering the same powerful digging performance and high operability as engine-driven excavators.\n",
      "Medium-sized and large construction equipment requires a power source with higher energy density than that of small construction equipment, which has led the move to electrification with batteries. Because hydrogen has a higher energy density and can be refueled in a shorter time than recharging batteries, Komatsu has been advancing its R&D efforts as a promising electrification choice for medium-sized and large models. To contribute to realizing a hydrogen society and carbon neutrality, Komatsu will continue its efforts toward the commercial production of medium-sized and large construction machinery equipped with hydrogen fuel cells by conducting PoC tests of this new concept machine.\n",
      "DANTOTSU Value is defined as customer value creation that generates a positive cycle of improvement of earnings and ESG resolutions in Komatsu’s new mid-term management plan, entitled “DANTOTSU Value – Together, to “The Next” for sustainable growth”. Through this DANTOTSU Value, Komatsu will strive to create new values in order to take steady steps forward to the next stage for the workplace of the future and pass on a sustainable future to the next generation.\n",
      "\n",
      "\n",
      "No : 0018(3241)\n",
      "Corporate Communications Department\n",
      "Sustainability Promotion Division\n",
      "Komatsu Ltd.\n",
      "tel: +81-(0)3-5561-2616\n",
      "mail: JP00MB_cc_department@global.komatsu\n",
      "\n",
      "*The information may be subject to change without notice.\n"
     ]
    }
   ],
   "source": [
    "# 본문을 담는 변수인 article에 날짜까지 한 번에 스크래핑\n",
    "# 추후 전처리로 날짜는 날짜 컬럼에, 본문은 본문 컬럼에 할당하는 작업 필요\n",
    "title = driver.find_element(By.CSS_SELECTOR, '#content\\ cp_base > div.cp_PageTitle.cp_base > div > h1').text\n",
    "article = driver.find_element(By.CSS_SELECTOR, '#F01546F0-A9B5-4495-AA76-2D806CD55682 > div > div').text\n",
    "print(title, article)"
   ]
  },
  {
   "cell_type": "code",
   "execution_count": null,
   "metadata": {},
   "outputs": [],
   "source": [
    "# 그냥 제목만 클릭하면 클릭 에러가 떠서, 링크가 있는 범위 내에서 a태그만 있는 것을 클릭해보려고 함\n",
    "# 정상 작동하지만 범위를 설정이 잘못되서 같은 기사만 반복해서 클릭\n",
    "for i in range(1, 5):\n",
    "    time.sleep(5)\n",
    "    link_click = driver.find_element(By.CLASS_NAME, 'newsList_dd')\n",
    "    link_click.find_element(By.TAG_NAME, 'a').click()\n",
    "    \n",
    "    driver.back()"
   ]
  },
  {
   "cell_type": "code",
   "execution_count": 38,
   "metadata": {},
   "outputs": [
    {
     "ename": "InvalidSelectorException",
     "evalue": "Message: invalid selector: An invalid or illegal selector was specified\n  (Session info: chrome=113.0.5672.93)\nStacktrace:\nBacktrace:\n\tGetHandleVerifier [0x007C8893+48451]\n\t(No symbol) [0x0075B8A1]\n\t(No symbol) [0x00665058]\n\t(No symbol) [0x006683F1]\n\t(No symbol) [0x00669631]\n\t(No symbol) [0x006696D0]\n\t(No symbol) [0x006900C0]\n\t(No symbol) [0x0069069B]\n\t(No symbol) [0x006BDD92]\n\t(No symbol) [0x006AA304]\n\t(No symbol) [0x006BC482]\n\t(No symbol) [0x006AA0B6]\n\t(No symbol) [0x00687E08]\n\t(No symbol) [0x00688F2D]\n\tGetHandleVerifier [0x00A28E3A+2540266]\n\tGetHandleVerifier [0x00A68959+2801161]\n\tGetHandleVerifier [0x00A6295C+2776588]\n\tGetHandleVerifier [0x00852280+612144]\n\t(No symbol) [0x00764F6C]\n\t(No symbol) [0x007611D8]\n\t(No symbol) [0x007612BB]\n\t(No symbol) [0x00754857]\n\tBaseThreadInitThunk [0x773900C9+25]\n\tRtlGetAppContainerNamedObjectPath [0x77897B4E+286]\n\tRtlGetAppContainerNamedObjectPath [0x77897B1E+238]\n",
     "output_type": "error",
     "traceback": [
      "\u001b[1;31m---------------------------------------------------------------------------\u001b[0m",
      "\u001b[1;31mInvalidSelectorException\u001b[0m                  Traceback (most recent call last)",
      "\u001b[1;32m~\\AppData\\Local\\Temp\\ipykernel_18388\\2746160935.py\u001b[0m in \u001b[0;36m<module>\u001b[1;34m\u001b[0m\n\u001b[0;32m      2\u001b[0m \u001b[1;32mfor\u001b[0m \u001b[0mz\u001b[0m \u001b[1;32min\u001b[0m \u001b[0mrange\u001b[0m\u001b[1;33m(\u001b[0m\u001b[1;36m1\u001b[0m\u001b[1;33m,\u001b[0m\u001b[1;36m5\u001b[0m\u001b[1;33m)\u001b[0m\u001b[1;33m:\u001b[0m\u001b[1;33m\u001b[0m\u001b[1;33m\u001b[0m\u001b[0m\n\u001b[0;32m      3\u001b[0m     \u001b[0mtime\u001b[0m\u001b[1;33m.\u001b[0m\u001b[0msleep\u001b[0m\u001b[1;33m(\u001b[0m\u001b[1;36m5\u001b[0m\u001b[1;33m)\u001b[0m\u001b[1;33m\u001b[0m\u001b[1;33m\u001b[0m\u001b[0m\n\u001b[1;32m----> 4\u001b[1;33m     \u001b[0mdriver\u001b[0m\u001b[1;33m.\u001b[0m\u001b[0mfind_element\u001b[0m\u001b[1;33m(\u001b[0m\u001b[0mBy\u001b[0m\u001b[1;33m.\u001b[0m\u001b[0mCSS_SELECTOR\u001b[0m\u001b[1;33m,\u001b[0m \u001b[1;34mf'#\\31 619EE91-3F1B-4A3C-8925-E4E234198173 > div > dl > div:nth-child({z}) > dd.newsList_dd > div > a'\u001b[0m\u001b[1;33m)\u001b[0m\u001b[1;33m.\u001b[0m\u001b[0mclick\u001b[0m\u001b[1;33m(\u001b[0m\u001b[1;33m)\u001b[0m\u001b[1;33m\u001b[0m\u001b[1;33m\u001b[0m\u001b[0m\n\u001b[0m\u001b[0;32m      5\u001b[0m     \u001b[1;32mtry\u001b[0m\u001b[1;33m:\u001b[0m\u001b[1;33m\u001b[0m\u001b[1;33m\u001b[0m\u001b[0m\n\u001b[0;32m      6\u001b[0m         \u001b[0mtitle\u001b[0m \u001b[1;33m=\u001b[0m \u001b[0mdriver\u001b[0m\u001b[1;33m.\u001b[0m\u001b[0mfind_element\u001b[0m\u001b[1;33m(\u001b[0m\u001b[0mBy\u001b[0m\u001b[1;33m.\u001b[0m\u001b[0mCSS_SELECTOR\u001b[0m\u001b[1;33m,\u001b[0m \u001b[1;34m'#content\\ cp_base > div.cp_PageTitle.cp_base > div > h1'\u001b[0m\u001b[1;33m)\u001b[0m\u001b[1;33m.\u001b[0m\u001b[0mtext\u001b[0m\u001b[1;33m\u001b[0m\u001b[1;33m\u001b[0m\u001b[0m\n",
      "\u001b[1;32mc:\\Users\\User\\anaconda3\\lib\\site-packages\\selenium\\webdriver\\remote\\webdriver.py\u001b[0m in \u001b[0;36mfind_element\u001b[1;34m(self, by, value)\u001b[0m\n\u001b[0;32m    829\u001b[0m             \u001b[0mvalue\u001b[0m \u001b[1;33m=\u001b[0m \u001b[1;34mf'[name=\"{value}\"]'\u001b[0m\u001b[1;33m\u001b[0m\u001b[1;33m\u001b[0m\u001b[0m\n\u001b[0;32m    830\u001b[0m \u001b[1;33m\u001b[0m\u001b[0m\n\u001b[1;32m--> 831\u001b[1;33m         \u001b[1;32mreturn\u001b[0m \u001b[0mself\u001b[0m\u001b[1;33m.\u001b[0m\u001b[0mexecute\u001b[0m\u001b[1;33m(\u001b[0m\u001b[0mCommand\u001b[0m\u001b[1;33m.\u001b[0m\u001b[0mFIND_ELEMENT\u001b[0m\u001b[1;33m,\u001b[0m \u001b[1;33m{\u001b[0m\u001b[1;34m\"using\"\u001b[0m\u001b[1;33m:\u001b[0m \u001b[0mby\u001b[0m\u001b[1;33m,\u001b[0m \u001b[1;34m\"value\"\u001b[0m\u001b[1;33m:\u001b[0m \u001b[0mvalue\u001b[0m\u001b[1;33m}\u001b[0m\u001b[1;33m)\u001b[0m\u001b[1;33m[\u001b[0m\u001b[1;34m\"value\"\u001b[0m\u001b[1;33m]\u001b[0m\u001b[1;33m\u001b[0m\u001b[1;33m\u001b[0m\u001b[0m\n\u001b[0m\u001b[0;32m    832\u001b[0m \u001b[1;33m\u001b[0m\u001b[0m\n\u001b[0;32m    833\u001b[0m     \u001b[1;32mdef\u001b[0m \u001b[0mfind_elements\u001b[0m\u001b[1;33m(\u001b[0m\u001b[0mself\u001b[0m\u001b[1;33m,\u001b[0m \u001b[0mby\u001b[0m\u001b[1;33m=\u001b[0m\u001b[0mBy\u001b[0m\u001b[1;33m.\u001b[0m\u001b[0mID\u001b[0m\u001b[1;33m,\u001b[0m \u001b[0mvalue\u001b[0m\u001b[1;33m:\u001b[0m \u001b[0mOptional\u001b[0m\u001b[1;33m[\u001b[0m\u001b[0mstr\u001b[0m\u001b[1;33m]\u001b[0m \u001b[1;33m=\u001b[0m \u001b[1;32mNone\u001b[0m\u001b[1;33m)\u001b[0m \u001b[1;33m->\u001b[0m \u001b[0mList\u001b[0m\u001b[1;33m[\u001b[0m\u001b[0mWebElement\u001b[0m\u001b[1;33m]\u001b[0m\u001b[1;33m:\u001b[0m\u001b[1;33m\u001b[0m\u001b[1;33m\u001b[0m\u001b[0m\n",
      "\u001b[1;32mc:\\Users\\User\\anaconda3\\lib\\site-packages\\selenium\\webdriver\\remote\\webdriver.py\u001b[0m in \u001b[0;36mexecute\u001b[1;34m(self, driver_command, params)\u001b[0m\n\u001b[0;32m    438\u001b[0m         \u001b[0mresponse\u001b[0m \u001b[1;33m=\u001b[0m \u001b[0mself\u001b[0m\u001b[1;33m.\u001b[0m\u001b[0mcommand_executor\u001b[0m\u001b[1;33m.\u001b[0m\u001b[0mexecute\u001b[0m\u001b[1;33m(\u001b[0m\u001b[0mdriver_command\u001b[0m\u001b[1;33m,\u001b[0m \u001b[0mparams\u001b[0m\u001b[1;33m)\u001b[0m\u001b[1;33m\u001b[0m\u001b[1;33m\u001b[0m\u001b[0m\n\u001b[0;32m    439\u001b[0m         \u001b[1;32mif\u001b[0m \u001b[0mresponse\u001b[0m\u001b[1;33m:\u001b[0m\u001b[1;33m\u001b[0m\u001b[1;33m\u001b[0m\u001b[0m\n\u001b[1;32m--> 440\u001b[1;33m             \u001b[0mself\u001b[0m\u001b[1;33m.\u001b[0m\u001b[0merror_handler\u001b[0m\u001b[1;33m.\u001b[0m\u001b[0mcheck_response\u001b[0m\u001b[1;33m(\u001b[0m\u001b[0mresponse\u001b[0m\u001b[1;33m)\u001b[0m\u001b[1;33m\u001b[0m\u001b[1;33m\u001b[0m\u001b[0m\n\u001b[0m\u001b[0;32m    441\u001b[0m             \u001b[0mresponse\u001b[0m\u001b[1;33m[\u001b[0m\u001b[1;34m\"value\"\u001b[0m\u001b[1;33m]\u001b[0m \u001b[1;33m=\u001b[0m \u001b[0mself\u001b[0m\u001b[1;33m.\u001b[0m\u001b[0m_unwrap_value\u001b[0m\u001b[1;33m(\u001b[0m\u001b[0mresponse\u001b[0m\u001b[1;33m.\u001b[0m\u001b[0mget\u001b[0m\u001b[1;33m(\u001b[0m\u001b[1;34m\"value\"\u001b[0m\u001b[1;33m,\u001b[0m \u001b[1;32mNone\u001b[0m\u001b[1;33m)\u001b[0m\u001b[1;33m)\u001b[0m\u001b[1;33m\u001b[0m\u001b[1;33m\u001b[0m\u001b[0m\n\u001b[0;32m    442\u001b[0m             \u001b[1;32mreturn\u001b[0m \u001b[0mresponse\u001b[0m\u001b[1;33m\u001b[0m\u001b[1;33m\u001b[0m\u001b[0m\n",
      "\u001b[1;32mc:\\Users\\User\\anaconda3\\lib\\site-packages\\selenium\\webdriver\\remote\\errorhandler.py\u001b[0m in \u001b[0;36mcheck_response\u001b[1;34m(self, response)\u001b[0m\n\u001b[0;32m    243\u001b[0m                 \u001b[0malert_text\u001b[0m \u001b[1;33m=\u001b[0m \u001b[0mvalue\u001b[0m\u001b[1;33m[\u001b[0m\u001b[1;34m\"alert\"\u001b[0m\u001b[1;33m]\u001b[0m\u001b[1;33m.\u001b[0m\u001b[0mget\u001b[0m\u001b[1;33m(\u001b[0m\u001b[1;34m\"text\"\u001b[0m\u001b[1;33m)\u001b[0m\u001b[1;33m\u001b[0m\u001b[1;33m\u001b[0m\u001b[0m\n\u001b[0;32m    244\u001b[0m             \u001b[1;32mraise\u001b[0m \u001b[0mexception_class\u001b[0m\u001b[1;33m(\u001b[0m\u001b[0mmessage\u001b[0m\u001b[1;33m,\u001b[0m \u001b[0mscreen\u001b[0m\u001b[1;33m,\u001b[0m \u001b[0mstacktrace\u001b[0m\u001b[1;33m,\u001b[0m \u001b[0malert_text\u001b[0m\u001b[1;33m)\u001b[0m  \u001b[1;31m# type: ignore[call-arg]  # mypy is not smart enough here\u001b[0m\u001b[1;33m\u001b[0m\u001b[1;33m\u001b[0m\u001b[0m\n\u001b[1;32m--> 245\u001b[1;33m         \u001b[1;32mraise\u001b[0m \u001b[0mexception_class\u001b[0m\u001b[1;33m(\u001b[0m\u001b[0mmessage\u001b[0m\u001b[1;33m,\u001b[0m \u001b[0mscreen\u001b[0m\u001b[1;33m,\u001b[0m \u001b[0mstacktrace\u001b[0m\u001b[1;33m)\u001b[0m\u001b[1;33m\u001b[0m\u001b[1;33m\u001b[0m\u001b[0m\n\u001b[0m",
      "\u001b[1;31mInvalidSelectorException\u001b[0m: Message: invalid selector: An invalid or illegal selector was specified\n  (Session info: chrome=113.0.5672.93)\nStacktrace:\nBacktrace:\n\tGetHandleVerifier [0x007C8893+48451]\n\t(No symbol) [0x0075B8A1]\n\t(No symbol) [0x00665058]\n\t(No symbol) [0x006683F1]\n\t(No symbol) [0x00669631]\n\t(No symbol) [0x006696D0]\n\t(No symbol) [0x006900C0]\n\t(No symbol) [0x0069069B]\n\t(No symbol) [0x006BDD92]\n\t(No symbol) [0x006AA304]\n\t(No symbol) [0x006BC482]\n\t(No symbol) [0x006AA0B6]\n\t(No symbol) [0x00687E08]\n\t(No symbol) [0x00688F2D]\n\tGetHandleVerifier [0x00A28E3A+2540266]\n\tGetHandleVerifier [0x00A68959+2801161]\n\tGetHandleVerifier [0x00A6295C+2776588]\n\tGetHandleVerifier [0x00852280+612144]\n\t(No symbol) [0x00764F6C]\n\t(No symbol) [0x007611D8]\n\t(No symbol) [0x007612BB]\n\t(No symbol) [0x00754857]\n\tBaseThreadInitThunk [0x773900C9+25]\n\tRtlGetAppContainerNamedObjectPath [0x77897B4E+286]\n\tRtlGetAppContainerNamedObjectPath [0x77897B1E+238]\n"
     ]
    }
   ],
   "source": [
    "# 1페이지 당 3분 가량 소요\n",
    "for z in range(1,5):\n",
    "    time.sleep(5)\n",
    "    driver.find_element(By.CSS_SELECTOR, f'#\\31 619EE91-3F1B-4A3C-8925-E4E234198173 > div > dl > div:nth-child({z}) > dd.newsList_dd > div > a').click()\n",
    "    try:\n",
    "        title = driver.find_element(By.CSS_SELECTOR, '#content\\ cp_base > div.cp_PageTitle.cp_base > div > h1').text\n",
    "        article = driver.find_element(By.CSS_SELECTOR, '#F01546F0-A9B5-4495-AA76-2D806CD55682 > div > div').text\n",
    "            \n",
    "        news_title.append(title)\n",
    "        news_article.append(article)\n",
    "        \n",
    "    except:\n",
    "        print(\"에러 발생\")\n",
    "        \n",
    "    driver.back()"
   ]
  }
 ],
 "metadata": {
  "kernelspec": {
   "display_name": "base",
   "language": "python",
   "name": "python3"
  },
  "language_info": {
   "codemirror_mode": {
    "name": "ipython",
    "version": 3
   },
   "file_extension": ".py",
   "mimetype": "text/x-python",
   "name": "python",
   "nbconvert_exporter": "python",
   "pygments_lexer": "ipython3",
   "version": "3.9.13"
  },
  "orig_nbformat": 4
 },
 "nbformat": 4,
 "nbformat_minor": 2
}
