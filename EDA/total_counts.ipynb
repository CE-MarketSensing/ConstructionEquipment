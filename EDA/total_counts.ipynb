{
 "cells": [
  {
   "cell_type": "code",
   "execution_count": 2,
   "metadata": {},
   "outputs": [],
   "source": [
    "import pandas as pd\n",
    "import matplotlib.pyplot as plt\n",
    "import numpy as np\n",
    "\n",
    "import seaborn as sns\n",
    "pd.options.display.max_colwidth = 3000\n",
    "\n",
    "import warnings\n",
    "warnings.filterwarnings(action='ignore')"
   ]
  },
  {
   "cell_type": "code",
   "execution_count": 8,
   "metadata": {},
   "outputs": [
    {
     "data": {
      "text/html": [
       "<div>\n",
       "<style scoped>\n",
       "    .dataframe tbody tr th:only-of-type {\n",
       "        vertical-align: middle;\n",
       "    }\n",
       "\n",
       "    .dataframe tbody tr th {\n",
       "        vertical-align: top;\n",
       "    }\n",
       "\n",
       "    .dataframe thead th {\n",
       "        text-align: right;\n",
       "    }\n",
       "</style>\n",
       "<table border=\"1\" class=\"dataframe\">\n",
       "  <thead>\n",
       "    <tr style=\"text-align: right;\">\n",
       "      <th></th>\n",
       "      <th>날짜</th>\n",
       "      <th>기사_제목</th>\n",
       "      <th>기사_url</th>\n",
       "      <th>기사_내용</th>\n",
       "    </tr>\n",
       "  </thead>\n",
       "  <tbody>\n",
       "    <tr>\n",
       "      <th>154</th>\n",
       "      <td>15 December 2022</td>\n",
       "      <td>Cat announces collaboration with Luck Stone in USA</td>\n",
       "      <td>https://www.earthmoversmagazine.co.uk/news/view,cat-announces-collaboration-with-luck-stone-in-usa_5693.htm</td>\n",
       "      <td>Caterpillar Inc has announced a collaboration with Luck Stone, the USA’s largest family-owned and operated producer of crushed stone, sand and gravel, to deploy Caterpillar’s autonomous solution to Luck Stone’s Bull Run Plant in Chantilly, Virginia. This will be Caterpillar’s first autonomous deployment in the aggregates industry and will expand the company’s autonomous truck fleet to include the 100-ton-class (90-tonne-class) Cat 777. Looking to accelerate autonomous solutions beyond mining, Caterpillar will implement its existing Cat MineStar Command for Hauling system at the Bull Run quarry, on a fleet of 777G trucks. This will allow Caterpillar to gain greater insights on quarry operations in order to tailor the next generation of autonomous solutions specific to quarry and aggregate applications. This project supports the acceleration of autonomous technology for operations with fewer mobile assets to allow a step change in safety and productivity, as currently experienced at large mining operations. “Luck Stone and Caterpillar’s partnership has been grounded in shared values for many years,” said Charlie Luck, President and CEO of Luck Companies. “Together we believe that safety, innovation and a commitment to people are critical, not only to propelling important projects like this, but to ensuring our focus on the future and all of the exciting possibilities technology affords our industry. Our collaboration will provide opportunities for associates to learn and grow, improve safety and result in production efficiencies. We are thrilled to partner with Caterpillar to achieve this ‘first’ for our industry.” &lt;img alt=\"\" class=\"inline-image\" height=\"578\" src=\"/ugc-1/1/6/0/Catluck1.jpg\" width=\"800\"/&gt; Denise Johnson, Caterpillar Group President of Resource Industries said, “Caterpillar has a long-standing relationship with Luck Stone, and we look forward to working together to bring the demonstrated benefits of increased safety and productivity to the quarry industry. We’re excited to get in the dirt and work alongside Luck Stone’s innovative team, so we can learn how to scale our already proven mining solution for another industry.” The current autonomy solutions will be implemented in 2024. This project builds on Caterpillar’s long history in autonomy and automation. Caterpillar is recognised as the industry leader with the world’s largest fleet of autonomous haul trucks, now numbering more than 560 trucks. These trucks have travelled more than 187 million kilometres and autonomously moved more than 5.1 billion tonnes – most notably – all without a single zero lost-time injury.</td>\n",
       "    </tr>\n",
       "  </tbody>\n",
       "</table>\n",
       "</div>"
      ],
      "text/plain": [
       "                   날짜                                               기사_제목  \\\n",
       "154  15 December 2022  Cat announces collaboration with Luck Stone in USA   \n",
       "\n",
       "                                                                                                          기사_url  \\\n",
       "154  https://www.earthmoversmagazine.co.uk/news/view,cat-announces-collaboration-with-luck-stone-in-usa_5693.htm   \n",
       "\n",
       "                                                                                                                                                                                                                                                                                                                                                                                                                                                                                                                                                                                                                                                                                                                                                                                                                                                                                                                                                                                                                                                                                                                                                                                                                                                                                                                                                                                                                                                                                                                                                                                                                                                                                                                                                                                                                                                                                                                                                                                                                                                                                                                                                                                                                                                                                                                                                                                                                                                                                                                                                                                                                                                                                                                                     기사_내용  \n",
       "154  Caterpillar Inc has announced a collaboration with Luck Stone, the USA’s largest family-owned and operated producer of crushed stone, sand and gravel, to deploy Caterpillar’s autonomous solution to Luck Stone’s Bull Run Plant in Chantilly, Virginia. This will be Caterpillar’s first autonomous deployment in the aggregates industry and will expand the company’s autonomous truck fleet to include the 100-ton-class (90-tonne-class) Cat 777. Looking to accelerate autonomous solutions beyond mining, Caterpillar will implement its existing Cat MineStar Command for Hauling system at the Bull Run quarry, on a fleet of 777G trucks. This will allow Caterpillar to gain greater insights on quarry operations in order to tailor the next generation of autonomous solutions specific to quarry and aggregate applications. This project supports the acceleration of autonomous technology for operations with fewer mobile assets to allow a step change in safety and productivity, as currently experienced at large mining operations. “Luck Stone and Caterpillar’s partnership has been grounded in shared values for many years,” said Charlie Luck, President and CEO of Luck Companies. “Together we believe that safety, innovation and a commitment to people are critical, not only to propelling important projects like this, but to ensuring our focus on the future and all of the exciting possibilities technology affords our industry. Our collaboration will provide opportunities for associates to learn and grow, improve safety and result in production efficiencies. We are thrilled to partner with Caterpillar to achieve this ‘first’ for our industry.” <img alt=\"\" class=\"inline-image\" height=\"578\" src=\"/ugc-1/1/6/0/Catluck1.jpg\" width=\"800\"/> Denise Johnson, Caterpillar Group President of Resource Industries said, “Caterpillar has a long-standing relationship with Luck Stone, and we look forward to working together to bring the demonstrated benefits of increased safety and productivity to the quarry industry. We’re excited to get in the dirt and work alongside Luck Stone’s innovative team, so we can learn how to scale our already proven mining solution for another industry.” The current autonomy solutions will be implemented in 2024. This project builds on Caterpillar’s long history in autonomy and automation. Caterpillar is recognised as the industry leader with the world’s largest fleet of autonomous haul trucks, now numbering more than 560 trucks. These trucks have travelled more than 187 million kilometres and autonomously moved more than 5.1 billion tonnes – most notably – all without a single zero lost-time injury.   "
      ]
     },
     "execution_count": 8,
     "metadata": {},
     "output_type": "execute_result"
    }
   ],
   "source": [
    "earth = pd.read_csv(\"../data/[article]earthmoversmagazine.csv\")\n",
    "earth.sample(1)"
   ]
  },
  {
   "cell_type": "code",
   "execution_count": 35,
   "metadata": {},
   "outputs": [
    {
     "data": {
      "text/html": [
       "<div>\n",
       "<style scoped>\n",
       "    .dataframe tbody tr th:only-of-type {\n",
       "        vertical-align: middle;\n",
       "    }\n",
       "\n",
       "    .dataframe tbody tr th {\n",
       "        vertical-align: top;\n",
       "    }\n",
       "\n",
       "    .dataframe thead th {\n",
       "        text-align: right;\n",
       "    }\n",
       "</style>\n",
       "<table border=\"1\" class=\"dataframe\">\n",
       "  <thead>\n",
       "    <tr style=\"text-align: right;\">\n",
       "      <th></th>\n",
       "      <th>0</th>\n",
       "    </tr>\n",
       "  </thead>\n",
       "  <tbody>\n",
       "    <tr>\n",
       "      <th>229</th>\n",
       "      <td>year</td>\n",
       "    </tr>\n",
       "    <tr>\n",
       "      <th>230</th>\n",
       "      <td>years</td>\n",
       "    </tr>\n",
       "    <tr>\n",
       "      <th>231</th>\n",
       "      <td>crane</td>\n",
       "    </tr>\n",
       "    <tr>\n",
       "      <th>232</th>\n",
       "      <td>cranes</td>\n",
       "    </tr>\n",
       "    <tr>\n",
       "      <th>233</th>\n",
       "      <td>-</td>\n",
       "    </tr>\n",
       "    <tr>\n",
       "      <th>234</th>\n",
       "      <td>2023</td>\n",
       "    </tr>\n",
       "    <tr>\n",
       "      <th>235</th>\n",
       "      <td>2022</td>\n",
       "    </tr>\n",
       "    <tr>\n",
       "      <th>236</th>\n",
       "      <td>2022</td>\n",
       "    </tr>\n",
       "    <tr>\n",
       "      <th>237</th>\n",
       "      <td>–</td>\n",
       "    </tr>\n",
       "    <tr>\n",
       "      <th>238</th>\n",
       "      <td>NaN</td>\n",
       "    </tr>\n",
       "  </tbody>\n",
       "</table>\n",
       "</div>"
      ],
      "text/plain": [
       "          0\n",
       "229    year\n",
       "230   years\n",
       "231   crane\n",
       "232  cranes\n",
       "233       -\n",
       "234    2023\n",
       "235    2022\n",
       "236    2022\n",
       "237       –\n",
       "238     NaN"
      ]
     },
     "execution_count": 35,
     "metadata": {},
     "output_type": "execute_result"
    }
   ],
   "source": [
    "# 불용어 파일 불러오기\n",
    "stop_words = pd.read_csv(\"../data/stop_words.csv\")\n",
    "stop_words.tail(10)"
   ]
  },
  {
   "cell_type": "code",
   "execution_count": 219,
   "metadata": {},
   "outputs": [
    {
     "data": {
      "text/plain": [
       "['a',\n",
       " 'but',\n",
       " 'during',\n",
       " 'hows',\n",
       " \"it's\",\n",
       " 'said',\n",
       " 'this',\n",
       " 'we’re',\n",
       " 'who’ve',\n",
       " 'about',\n",
       " 'by',\n",
       " 'each',\n",
       " 'however',\n",
       " 'it’s',\n",
       " 'says',\n",
       " 'those',\n",
       " \"we've\",\n",
       " 'whove',\n",
       " 'above',\n",
       " 'can',\n",
       " 'either',\n",
       " 'i',\n",
       " 'its',\n",
       " 'see',\n",
       " 'through',\n",
       " 'we’ve',\n",
       " 'will',\n",
       " 'across',\n",
       " \"can't\",\n",
       " 'for',\n",
       " \"i'd\",\n",
       " \"let's\",\n",
       " 'she',\n",
       " 'to',\n",
       " 'weve',\n",
       " 'with',\n",
       " 'after',\n",
       " 'can’t',\n",
       " 'from',\n",
       " 'i’d',\n",
       " 'let’s',\n",
       " \"she'd\",\n",
       " 'too',\n",
       " 'were',\n",
       " 'within',\n",
       " 'all',\n",
       " 'cant',\n",
       " 'given',\n",
       " \"i'll\",\n",
       " 'lets',\n",
       " 'she’d',\n",
       " 'towards',\n",
       " 'what',\n",
       " 'without',\n",
       " 'along',\n",
       " 'cannot',\n",
       " 'had',\n",
       " 'i’ll',\n",
       " 'may',\n",
       " 'shed',\n",
       " 'under',\n",
       " \"what's\",\n",
       " \"won't\",\n",
       " 'also',\n",
       " 'could',\n",
       " 'has',\n",
       " \"i'm\",\n",
       " 'me',\n",
       " \"she'll\",\n",
       " 'until',\n",
       " 'what’s',\n",
       " 'won’t',\n",
       " 'am',\n",
       " \"couldn't\",\n",
       " 'have',\n",
       " 'i’m',\n",
       " 'more',\n",
       " 'she’ll',\n",
       " 'us',\n",
       " 'whats',\n",
       " 'would',\n",
       " 'an',\n",
       " 'couldn’t',\n",
       " 'having',\n",
       " 'im',\n",
       " 'most',\n",
       " 'shell',\n",
       " 'use',\n",
       " 'when',\n",
       " \"wouldn't\",\n",
       " 'and',\n",
       " 'couldnt',\n",
       " 'he',\n",
       " \"i've\",\n",
       " 'much',\n",
       " 'should',\n",
       " 'used',\n",
       " \"when's\",\n",
       " 'wouldn’t',\n",
       " 'any',\n",
       " 'did',\n",
       " \"he'd\",\n",
       " 'i’ve',\n",
       " 'must',\n",
       " 'since',\n",
       " 'uses',\n",
       " 'when’s',\n",
       " 'you',\n",
       " 'are',\n",
       " \"didn't\",\n",
       " 'he’d',\n",
       " 'ive',\n",
       " 'my',\n",
       " 'so',\n",
       " 'using',\n",
       " 'whens',\n",
       " \"you'd\",\n",
       " \"aren't\",\n",
       " 'didn’t',\n",
       " 'hed',\n",
       " 'if',\n",
       " 'no',\n",
       " 'some',\n",
       " 'very',\n",
       " 'where',\n",
       " 'you’d',\n",
       " 'aren’t',\n",
       " 'didnt',\n",
       " \"he'll\",\n",
       " 'in',\n",
       " 'not',\n",
       " 'such',\n",
       " 'want',\n",
       " 'whether',\n",
       " 'youd',\n",
       " 'arent',\n",
       " 'do',\n",
       " 'he’ll',\n",
       " 'instead',\n",
       " 'now',\n",
       " 'than',\n",
       " 'was',\n",
       " 'which',\n",
       " \"you'll\",\n",
       " 'as',\n",
       " 'does',\n",
       " 'her',\n",
       " 'into',\n",
       " 'of',\n",
       " 'that',\n",
       " \"wasn't\",\n",
       " 'while',\n",
       " 'you’ll',\n",
       " 'at',\n",
       " \"doesn't\",\n",
       " 'here',\n",
       " 'is',\n",
       " 'on',\n",
       " 'the',\n",
       " 'wasn’t',\n",
       " 'who',\n",
       " 'youll',\n",
       " 'be',\n",
       " 'doesn’t',\n",
       " 'hers',\n",
       " \"isn't\",\n",
       " 'one',\n",
       " 'their',\n",
       " 'wasnt',\n",
       " \"who'll\",\n",
       " \"you're\",\n",
       " 'because',\n",
       " 'doesnt',\n",
       " 'him',\n",
       " 'isn’t',\n",
       " 'only',\n",
       " 'them',\n",
       " 'we',\n",
       " 'who’ll',\n",
       " 'you’re',\n",
       " 'been',\n",
       " 'doing',\n",
       " 'himself',\n",
       " 'isnt',\n",
       " 'or',\n",
       " 'then',\n",
       " \"we'd\",\n",
       " 'wholl',\n",
       " 'youre',\n",
       " 'before',\n",
       " 'done',\n",
       " 'his',\n",
       " 'it',\n",
       " 'other',\n",
       " 'there',\n",
       " 'we’d',\n",
       " \"who's\",\n",
       " \"you've\",\n",
       " 'being',\n",
       " \"don't\",\n",
       " 'how',\n",
       " \"it'll\",\n",
       " 'our',\n",
       " 'therefore',\n",
       " \"we'll\",\n",
       " 'who’s',\n",
       " 'you’ve',\n",
       " 'between',\n",
       " 'don’t',\n",
       " \"how's\",\n",
       " 'it’ll',\n",
       " 'out',\n",
       " 'these',\n",
       " 'we’ll',\n",
       " 'whos',\n",
       " 'youve',\n",
       " 'both',\n",
       " 'dont',\n",
       " 'how’s',\n",
       " 'itll',\n",
       " 'over',\n",
       " 'they',\n",
       " \"we're\",\n",
       " \"who've\",\n",
       " 'your',\n",
       " 'customer',\n",
       " 'machine',\n",
       " \"liebherr's\",\n",
       " 'liebherr',\n",
       " 'year',\n",
       " 'years',\n",
       " 'crane',\n",
       " 'cranes',\n",
       " '-',\n",
       " '2023',\n",
       " '2022',\n",
       " '2022',\n",
       " '–',\n",
       " nan,\n",
       " ' ',\n",
       " 's',\n",
       " 'construction',\n",
       " 'equipment',\n",
       " 'machine',\n",
       " 'volvo',\n",
       " 'volvos',\n",
       " 'ce']"
      ]
     },
     "execution_count": 219,
     "metadata": {},
     "output_type": "execute_result"
    }
   ],
   "source": [
    "# 불용어로 쓸 단어 추가\n",
    "stop_words_list = list(stop_words[\"0\"])\n",
    "stop_words_list.extend([\" \", \"s\", \"construction\", \"equipment\", \"machine\", \"volvo\", \"volvos\", \"ce\"])\n",
    "stop_words_list"
   ]
  },
  {
   "cell_type": "code",
   "execution_count": 148,
   "metadata": {},
   "outputs": [],
   "source": [
    "# 추가 된 단어 포함하여 update 하기\n",
    "pd.Series(stop_words_list).to_csv(\"../data/stop_words.csv\", index=False)"
   ]
  },
  {
   "attachments": {},
   "cell_type": "markdown",
   "metadata": {},
   "source": [
    "## volvo 단어 빈도 추출해보기"
   ]
  },
  {
   "cell_type": "code",
   "execution_count": 46,
   "metadata": {},
   "outputs": [
    {
     "data": {
      "text/plain": [
       "Index(['뉴스구분', '날짜', '제목', '요약', '본문'], dtype='object')"
      ]
     },
     "metadata": {},
     "output_type": "display_data"
    },
    {
     "data": {
      "text/html": [
       "<div>\n",
       "<style scoped>\n",
       "    .dataframe tbody tr th:only-of-type {\n",
       "        vertical-align: middle;\n",
       "    }\n",
       "\n",
       "    .dataframe tbody tr th {\n",
       "        vertical-align: top;\n",
       "    }\n",
       "\n",
       "    .dataframe thead th {\n",
       "        text-align: right;\n",
       "    }\n",
       "</style>\n",
       "<table border=\"1\" class=\"dataframe\">\n",
       "  <thead>\n",
       "    <tr style=\"text-align: right;\">\n",
       "      <th></th>\n",
       "      <th>뉴스구분</th>\n",
       "      <th>날짜</th>\n",
       "      <th>제목</th>\n",
       "      <th>요약</th>\n",
       "      <th>본문</th>\n",
       "    </tr>\n",
       "  </thead>\n",
       "  <tbody>\n",
       "    <tr>\n",
       "      <th>32</th>\n",
       "      <td>By Press information</td>\n",
       "      <td>5/31/2022</td>\n",
       "      <td>CHANGE STARTS HERE - VOLVO DAYS 2022</td>\n",
       "      <td>Volvo Construction Equipment (Volvo CE) will use the return of its iconic Volvo Days to highlight its purpose driven message of industry transformation. Using the theme of its recently launched 'Change Starts Here' campaign, the event showcases the company's leading solutions in the areas of sustainability, electromobility and services.</td>\n",
       "      <td>Highlighting the best of its products, services and people, Volvo Days launches today (May 31) on home ground in Eskilstuna, Sweden, with its most impressive line-up yet including the industry's widest range of electric machines for a more sustainable construction towards net zero emissions.\\r\\nAnd for those who cannot attend the three-week program in person, Volvo CE is offering for the very first time a fully-immersive digital experience that will ensure anyone — wherever they are in the world — can still be a part of the excitement with a new virtual platform being made available in the coming days.\\r\\nMelker Jernberg, Head of Volvo CE, says: \"As a world leading manufacturer of construction solutions we have the power to make a difference and it starts with us. We want to drive change in our own industry towards net zero emissions but also support our customers to decarbonize their operations.\\r\\n\"Volvo Days is the perfect opportunity to show how we are achieving these ambitions with ready-today sustainable power solutions. It is a proud moment for me to meet our customers and partners, together with our passionate employees. Through close cooperation in the value chain, we can make this change happen.\"\\r\\nCHANGE STARTS WITH ACTION\\r\\nThrough a series of product demonstrations and tours — both physical and virtual — guests can experience the full line-up of Volvo's electric compact machines and charging solutions as well as the company's largest electric excavator the EC230 Electric, currently being piloted in Norway. Also on display is the allnew L200H High Lift wheel loader promoting greater productivity and fuel efficiency, and the upgraded L350H wheel loader for superior strength and durability.\\r\\nAlso taking center stage are Volvo CE's ever-expanding range of productivity and uptime services — increasing in importance as the industry transitions from a machine-only perspective to site optimal service solutions. These include the recently launched C02 Reduction Program, offering tailored plans to cut carbon emissions, the Efficient Load Out solution, designed to make every load count with a 95-99% fill rate, the EMMA electric charging application, Connected Map and other digital solutions set to come to the market.\\r\\nSTRENGTH IN PARTNERSHIP\\r\\nVolvo's new demo and test track for autonomous solutions, designed in conjunction with Volvo Autonomous Solutions, is also being unveiled to the public for the first time at Volvo Days, enabling a test and demonstration site for battery electric and autonomous transport solutions to make construction sites safer, more efficient and more sustainable. Volvo Trucks, also part of Volvo Group, is another welcome addition to the line-up with its own electric truck present at the show.\\r\\nCarl Slotte, Head of Sales Region Europe, says: \"This legendary event has always been a proud showcase of our ability to match customer value and increased productivity with more sustainable solutions. And now for th...</td>\n",
       "    </tr>\n",
       "  </tbody>\n",
       "</table>\n",
       "</div>"
      ],
      "text/plain": [
       "                    뉴스구분         날짜                                    제목  \\\n",
       "32  By Press information  5/31/2022  CHANGE STARTS HERE - VOLVO DAYS 2022   \n",
       "\n",
       "                                                                                                                                                                                                                                                                                                                                                    요약  \\\n",
       "32  Volvo Construction Equipment (Volvo CE) will use the return of its iconic Volvo Days to highlight its purpose driven message of industry transformation. Using the theme of its recently launched 'Change Starts Here' campaign, the event showcases the company's leading solutions in the areas of sustainability, electromobility and services.   \n",
       "\n",
       "                                                                                                                                                                                                                                                                                                                                                                                                                                                                                                                                                                                                                                                                                                                                                                                                                                                                                                                                                                                                                                                                                                                                                                                                                                                                                                                                                                                                                                                                                                                                                                                                                                                                                                                                                                                                                                                                                                                                                                                                                                                                                                                                                                                                                                                                                                                                                                                                                                                                                                                                                                                                                                                                                                                                                                                                                                                                                                                                                                                                                                                                                                                         본문  \n",
       "32  Highlighting the best of its products, services and people, Volvo Days launches today (May 31) on home ground in Eskilstuna, Sweden, with its most impressive line-up yet including the industry's widest range of electric machines for a more sustainable construction towards net zero emissions.\\r\\nAnd for those who cannot attend the three-week program in person, Volvo CE is offering for the very first time a fully-immersive digital experience that will ensure anyone — wherever they are in the world — can still be a part of the excitement with a new virtual platform being made available in the coming days.\\r\\nMelker Jernberg, Head of Volvo CE, says: \"As a world leading manufacturer of construction solutions we have the power to make a difference and it starts with us. We want to drive change in our own industry towards net zero emissions but also support our customers to decarbonize their operations.\\r\\n\"Volvo Days is the perfect opportunity to show how we are achieving these ambitions with ready-today sustainable power solutions. It is a proud moment for me to meet our customers and partners, together with our passionate employees. Through close cooperation in the value chain, we can make this change happen.\"\\r\\nCHANGE STARTS WITH ACTION\\r\\nThrough a series of product demonstrations and tours — both physical and virtual — guests can experience the full line-up of Volvo's electric compact machines and charging solutions as well as the company's largest electric excavator the EC230 Electric, currently being piloted in Norway. Also on display is the allnew L200H High Lift wheel loader promoting greater productivity and fuel efficiency, and the upgraded L350H wheel loader for superior strength and durability.\\r\\nAlso taking center stage are Volvo CE's ever-expanding range of productivity and uptime services — increasing in importance as the industry transitions from a machine-only perspective to site optimal service solutions. These include the recently launched C02 Reduction Program, offering tailored plans to cut carbon emissions, the Efficient Load Out solution, designed to make every load count with a 95-99% fill rate, the EMMA electric charging application, Connected Map and other digital solutions set to come to the market.\\r\\nSTRENGTH IN PARTNERSHIP\\r\\nVolvo's new demo and test track for autonomous solutions, designed in conjunction with Volvo Autonomous Solutions, is also being unveiled to the public for the first time at Volvo Days, enabling a test and demonstration site for battery electric and autonomous transport solutions to make construction sites safer, more efficient and more sustainable. Volvo Trucks, also part of Volvo Group, is another welcome addition to the line-up with its own electric truck present at the show.\\r\\nCarl Slotte, Head of Sales Region Europe, says: \"This legendary event has always been a proud showcase of our ability to match customer value and increased productivity with more sustainable solutions. And now for th...  "
      ]
     },
     "execution_count": 46,
     "metadata": {},
     "output_type": "execute_result"
    }
   ],
   "source": [
    "volvo = pd.read_csv(\"../data/volvo_newsscraping.csv\")\n",
    "display(volvo.columns)\n",
    "volvo.sample(1)"
   ]
  },
  {
   "attachments": {},
   "cell_type": "markdown",
   "metadata": {},
   "source": [
    "### volvo 데이터 정제하기\n",
    "- 혜민님 꺼 참조\n",
    "    - 데이터 정제\n",
    "    - 문장 파생변수\n",
    "    - 단어 파생변수\n",
    "    - 불용어처리"
   ]
  },
  {
   "cell_type": "code",
   "execution_count": 97,
   "metadata": {},
   "outputs": [],
   "source": [
    "volvo['날짜'] = pd.to_datetime(volvo['날짜'])\n",
    "# \\r\\n 기호 제거\n",
    "volvo = volvo.replace(\"\\r\\n\", \" \", regex=True)\n",
    "# 특수 기호 제거 후 단어로 만들기\n",
    "volvo[\"words\"] = volvo[\"본문\"].replace(\"\\\"|\\–|\\-|\\(|\\)|\\|\\:|\\,\", \"\", regex=True).map(lambda x : x.split(\" \"))"
   ]
  },
  {
   "cell_type": "code",
   "execution_count": 132,
   "metadata": {},
   "outputs": [],
   "source": [
    "# 's 를 제거 하고싶다. 근데 volvo 기사들은 ’ 이 기호를 쓴다. \n",
    "volvo[\"정제본문\"] = volvo[\"본문\"].replace(\"’s\", \"\", regex=True)\n",
    "# 잡다한 특수기호 제거\n",
    "volvo[\"정제본문\"] = volvo[\"정제본문\"].replace(\"\\“|\\”|\\‘|\\’|&|\\\"|\\–|\\-|\\(|\\)|\\:|\\,\", \"\", regex=True)\n",
    "# 띄어쓰기 두칸짜리 제거\n",
    "volvo[\"정제본문\"] = volvo[\"정제본문\"].replace(\" +\", \" \", regex=True)\n",
    "# 소문자로 변경\n",
    "volvo[\"정제본문\"] = volvo[\"정제본문\"].str.lower()"
   ]
  },
  {
   "cell_type": "code",
   "execution_count": 133,
   "metadata": {},
   "outputs": [
    {
     "data": {
      "text/plain": [
       "0    21\n",
       "1     4\n",
       "2    23\n",
       "3    20\n",
       "4    25\n",
       "Name: 문장, dtype: int64"
      ]
     },
     "execution_count": 133,
     "metadata": {},
     "output_type": "execute_result"
    }
   ],
   "source": [
    "# 문장 단위 파생변수 만들기\n",
    "volvo[\"문장\"] = volvo[\"정제본문\"].map(lambda x : x.split(\". \"))\n",
    "# 문장갯수 뽑아보기\n",
    "volvo[\"문장\"].str.len()[:5]"
   ]
  },
  {
   "cell_type": "code",
   "execution_count": 172,
   "metadata": {},
   "outputs": [
    {
     "data": {
      "text/plain": [
       "0                                                                                         [in, q1, 2023, volvo, ce, has, secured, good, profitability, and, a, boost, to, its, operating, margin, with, continued, demand, in, large, infrastructure, and, construction, projects, particularly, in, north, america, and, europe, while, increasing, its, own, investments, into, the, biggest, technological, shift, in, the, industry, history, compared, to, the, same, period, last, year, volvo, ce, is, reporting, a, strong, boost, in, sales, of, 17%, in, europe, and, 37%, in, north, america, this, is, more, than, compensating, for, a, dip, in, sales, in, asia, and, south, america, where, investment, levels, have, slowed, down, with, the, exception, of, china, activity, in, the, construction, ...]\n",
       "1                                                                            [kamel, who, has, held, the, position, of, acting, head, of, operations, since, last, september, when, jean, marc, des, courieres, retired, from, the, position, is, responsible, for, the, smooth, running, efficiency, quality, and, output, of, volvo, ce, global, operations, he, says, i, am, thrilled, to, continue, working, with, our, many, passionate, and, committed, colleagues, in, operations, and, together, drive, our, transformation, agenda, melker, jernberg, president, of, volvo, ce, adds, after, six, months, as, acting, head, of, operations, i, am, delighted, that, kamel, has, agreed, to, join, the, executive, management, team, as, a, permanent, member, he, has, wide, experience, both, inside, and, ...]\n",
       "2    [volvo, ce, presented, an, immersive, platform, of, strength, and, innovation, alongside, volvo, penta, volvo, trucks, and, volvo, financial, services, several, products, were, featured, that, have, benefits, beyond, jobsites, as, volvo, ce, continues, to, lead, the, industry, toward, a, more, sustainable, future, they, included, zeroemission, electric, machines, charging, solutions, an, articulated, hauler, made, using, fossilfree, steel, technology, that, can, improve, operator, efficiency, jobsite, safety, and, reduce, fuel, consumption, and, much, more, change, can, create, challenges, but, it, also, creates, opportunities, said, melker, jernberg, president, of, volvo, ce, the, transition, the, world, is, undergoing, has, made, clear, the, need, for, more, sustainable, ...]\n",
       "Name: 단어, dtype: object"
      ]
     },
     "execution_count": 172,
     "metadata": {},
     "output_type": "execute_result"
    }
   ],
   "source": [
    "# 불용어 처리 전 단어 파생변수 만들기\n",
    "volvo[\"단어\"] = volvo[\"문장\"].map(lambda x : \" \".join(x)).map(lambda x : x.split(\" \"))\n",
    "volvo[\"단어\"][:3]"
   ]
  },
  {
   "attachments": {},
   "cell_type": "markdown",
   "metadata": {},
   "source": [
    "### 불용어처리"
   ]
  },
  {
   "cell_type": "code",
   "execution_count": 173,
   "metadata": {},
   "outputs": [],
   "source": [
    "# 불용어 처리 함수\n",
    "def stop_words_out(words):\n",
    "    result = []\n",
    "    for w in words:\n",
    "        if w not in stop_words_list:\n",
    "            result.append(w)\n",
    "    return \" \".join(result)"
   ]
  },
  {
   "cell_type": "code",
   "execution_count": 178,
   "metadata": {},
   "outputs": [],
   "source": [
    "# 불용어 처리한 단어 모음 (str)\n",
    "volvo[\"clear_words_str\"] = volvo[\"단어\"].map(stop_words_out)\n",
    "# 불용어 처리한 단어의 리스트\n",
    "volvo[\"clear_words\"] = volvo[\"clear_words_str\"].map(lambda x: x.split(\" \"))"
   ]
  },
  {
   "cell_type": "code",
   "execution_count": 196,
   "metadata": {},
   "outputs": [],
   "source": [
    "# 전처리 및 불용어 처리 한 df 를 저장해주기\n",
    "volvo.to_csv(\"../data/clear/volvo_clear.csv\", index=False)"
   ]
  },
  {
   "attachments": {},
   "cell_type": "markdown",
   "metadata": {},
   "source": [
    "### 6개월동안 등장한 단어 빈도\n",
    "- 2022-11-01 이후로 생각하자"
   ]
  },
  {
   "cell_type": "code",
   "execution_count": 192,
   "metadata": {},
   "outputs": [
    {
     "data": {
      "text/plain": [
       "23"
      ]
     },
     "execution_count": 192,
     "metadata": {},
     "output_type": "execute_result"
    }
   ],
   "source": [
    "volvo_6month = volvo[[\"날짜\", \"clear_words\"]].loc[volvo[\"날짜\"] >= \"2022-11-01\"]\n",
    "# 2022-11-01 이후 기사 수\n",
    "volvo_6month.shape[0]"
   ]
  },
  {
   "cell_type": "code",
   "execution_count": 187,
   "metadata": {},
   "outputs": [
    {
     "name": "stdout",
     "output_type": "stream",
     "text": [
      "{'q1': 4, 'secured': 1, 'good': 7, 'profitability': 2, 'boost': 4, 'operating': 10, 'margin': 3, 'continued': 10, 'demand': 8, 'large': 10, 'infrastructure': 10, 'projects': 8, 'particularly': 2, 'north': 25, 'america': 27, 'europe': 16, 'increasing': 4, 'own': 9, 'investments': 7, 'biggest': 4, 'technological': 2, 'shift': 5, 'industry': 31, 'history': 2, 'compared': 3, 'same': 11, 'period': 1, 'last': 12, 'reporting': 3, 'strong': 4, 'sales': 23, '17%': 1, '37%': 1, 'compensating': 1, 'dip': 1, 'asia': 3, 'south': 9, 'investment': 14, 'levels': 5, 'slowed': 3, 'down': 6, 'exception': 1, 'china': 8, 'activity': 9, 'markets': 19, 'driven': 4, 'primarily': 2, 'ongoing': 4, 'mining': 1, 'benefits': 10, 'commodity': 2, 'prices': 2, 'melker': 9, 'jernberg': 9, 'president': 13, 'robust': 1, 'like': 12, 'kind': 2, 'quarter': 8, 'course': 1, 'important': 15, 'testament': 1, 'great': 5, 'products': 11, 'service': 21, 'solutions': 51, 'continue': 11, 'bring': 3, 'market': 22, 'results': 4, 'allow': 8, 'maintain': 3, 'lead': 7, 'sustainable': 15, 'transformation': 17, 'zero': 16, 'emission': 11, 'demonstrating': 2, 'innovative': 1, 'partnerships': 1, 'doubt': 1, 'ever': 2, 'happen': 1, 'first': 25, 'increased': 14, 'net': 12, '11%': 1, 'sek': 11, '25109': 1, 'm': 9, '22613': 1, 'majority': 1, 'coming': 6, 'remained': 7, 'flat': 2, 'adjusted': 6, 'income': 3, 'amounted': 1, '4587': 1, '2810': 1, 'corresponding': 2, '18.3%': 1, 'way': 12, 'up': 13, '12.4%': 1, 'positively': 2, 'impacted': 4, 'favorable': 3, 'brand': 3, 'product': 10, 'mix': 2, 'minimally': 1, 'offset': 3, 'lower': 6, 'volumes': 2, 'material': 8, 'costs': 5, 'rd': 1, 'expenses': 1, 'despite': 3, 'order': 7, 'intake': 2, 'declining': 1, 'heavily': 1, 'anticipated': 1, 'drop': 1, 'following': 2, 'prebuy': 2, 'effect': 4, 'emissions': 22, 'regulations': 7, 'change': 15, 'came': 1, 'end': 3, 'saw': 2, 'significant': 6, 'increase': 8, '107%': 1, 'outlook': 1, 'deliveries': 4, 'brazil': 3, 'excluding': 1, 'stopped': 2, 'russia': 2, 'development': 17, 'overall': 2, 'major': 2, 'outside': 4, 'stable': 1, 'notable': 2, 'growth': 3, 'many': 9, 'commercial': 1, 'weakness': 1, 'residential': 1, 'amid': 1, 'high': 11, 'interest': 3, 'rates': 1, 'influenced': 1, 'rental': 2, 'fleet': 4, 'replacements': 1, 'due': 7, 'business': 27, 'confidence': 1, 'among': 4, 'customers': 56, 'part': 10, 'chinese': 1, 'negative': 1, 'correction': 1, 'low': 4, 'economic': 2, 'fluctuation': 1, 'regions': 3, 'global': 14, 'power': 13, 'including': 17, 'milestone': 8, 'battery': 12, 'pack': 3, 'production': 25, 'excavator': 41, 'plant': 10, 'changwon': 9, 'korea': 9, 'electric': 150, 'wheel': 46, 'loaders': 33, 'arvika': 8, 'facility': 11, 'sweden': 11, 'launches': 2, 'already': 7, 'l120h': 7, 'conversation': 1, 'loader': 20, 'fulfilling': 2, 'appetite': 1, 'midsize': 9, 'range': 17, 'introduction': 7, 'new': 53, 'launch': 4, 'zeroemission': 9, 'ec55': 1, 'india': 1, 'another': 12, 'success': 2, 'conexpo': 12, 'trade': 5, 'show': 15, 'las': 8, 'vegas': 8, 'march': 2, 'launched': 3, 'offerings': 2, 'connected': 22, 'map': 14, 'task': 12, 'manager': 17, 'load': 32, 'designed': 10, 'connectivity': 2, 'productivity': 12, 'sustainability': 9, 'work': 30, 'site': 50, 'event': 2, 'marked': 1, 'handover': 4, 'articulated': 7, 'hauler': 8, 'made': 11, 'fossilfree': 22, 'steel': 17, 'crh': 8, 'pictured': 1, 'table': 2, '1': 6, 'area': 4, 'millions': 2, 'swedish': 3, 'krona': 2, 'kamel': 2, 'held': 1, 'position': 7, 'acting': 2, 'head': 15, 'operations': 13, 'september': 1, 'jean': 1, 'marc': 1, 'des': 1, 'courieres': 1, 'retired': 1, 'responsible': 3, 'smooth': 2, 'running': 1, 'efficiency': 10, 'quality': 3, 'output': 1, 'thrilled': 2, 'working': 18, 'passionate': 1, 'committed': 7, 'colleagues': 1, 'together': 10, 'drive': 12, 'agenda': 4, 'adds': 2, 'six': 4, 'months': 2, 'delighted': 2, 'agreed': 1, 'join': 3, 'executive': 3, 'management': 10, 'team': 4, 'permanent': 1, 'member': 2, 'wide': 5, 'experience': 3, 'inside': 5, 'group': 19, 'play': 5, 'role': 7, 'taking': 6, 'organization': 1, 'next': 8, 'level': 5, 'time': 20, 'business.': 1, 'presented': 1, 'immersive': 1, 'platform': 3, 'strength': 2, 'innovation': 4, 'alongside': 4, 'penta': 2, 'trucks': 10, 'financial': 8, 'services': 12, 'several': 1, 'featured': 2, 'beyond': 1, 'jobsites': 4, 'continues': 4, 'toward': 3, 'future': 20, 'included': 3, 'machines': 32, 'charging': 14, 'technology': 10, 'improve': 5, 'operator': 30, 'jobsite': 16, 'safety': 18, 'reduce': 9, 'fuel': 8, 'consumption': 3, 'create': 3, 'challenges': 4, 'creates': 2, 'opportunities': 3, 'transition': 2, 'world': 14, 'undergoing': 1, 'clear': 6, 'need': 10, 'strengthened': 2, 'commitment': 6, 'leading': 7, 'partners': 9, 'starts': 5, 'theme': 2, 'ready': 6, 'company': 26, '55000squarefoot': 1, 'booth': 11, 'provided': 3, 'attendees': 8, 'place': 3, 'just': 7, 'interact': 1, 'experts': 6, 'discuss': 1, 'changing': 3, 'take': 11, 'especially': 3, 'popular': 4, 'two': 7, 'areas': 7, 'testdrive': 1, 'compact': 26, 'excavators': 21, 'displayed': 1, 'ec230': 14, 'announced': 4, 'pilots': 1, 'starting': 1, 'soon': 3, 'u.s': 1, 'waste': 4, '22ton': 1, 'batteryelectric': 1, 'step': 9, 'vehicles': 2, 'thus': 1, 'far': 2, 'mostly': 2, 'models': 5, 'hub': 1, 'hall': 8, 'twostory': 1, 'building': 15, 'control': 14, 'systems': 2, 'advanced': 2, 'telematics': 3, 'tools': 6, 'organizations': 3, 'really': 2, 'emphasize': 1, 'enough': 1, 'today': 7, 'stephen': 3, 'roy': 3, 'region': 3, 'pairing': 1, 'right': 8, 'get': 6, 'comprehensive': 1, 'solution': 18, 'announcements': 4, 'unveiling': 2, 'ec500': 10, 'newest': 3, 'series': 2, 'opening': 1, 'reservations': 1, 'dd25': 21, 'asphalt': 15, 'compactor': 11, 'adding': 1, 'assist': 21, 'soil': 9, 'intelligent': 7, 'compaction': 18, 'system': 22, 'launching': 2, 'digital': 4, 'simplifies': 1, 'loadout': 1, 'process': 12, 'introducing': 2, 'remotecontrol': 1, 'device': 3, 'operate': 5, 'cab': 7, 'helping': 12, 'bigger': 2, 'picture': 1, 'keep': 4, 'track': 10, 'portfolio': 4, 'contracts': 10, 'handing': 1, 'keys': 1, 'international': 4, 'manufacturer': 6, 'supplier': 3, 'materials': 13, 'individual': 1, 'press': 5, 'releases': 1, 'found': 3, 'online': 3, 'kit': 1, 'volvoce.com/conexpo2023presskit': 1, 'inperson': 1, 'activities': 4, 'entertainment': 1, 'capital': 1, 'sure': 1, 'plenty': 1, 'fun': 2, 'arenas': 2, 'contests': 1, 'people': 3, 'test': 2, 'skills': 1, 'tv': 1, 'social': 1, 'media': 1, 'stars': 1, 'gold': 7, 'rush': 3, 'cast': 3, 'met': 1, 'fans': 1, 'dealer': 9, 'car': 2, 'drivers': 2, 'allelectric': 1, 'fia': 3, 'rallycross': 3, 'championship': 2, 'official': 2, 'streamed': 1, 'fourday': 1, 'virtual': 3, 'bringing': 2, 'make': 5, 'giving': 1, 'attended': 1, 'person': 2, 'opportunity': 3, 'additional': 3, 'content': 2, 'sessions': 3, 'available': 28, 'watch': 1, 'virtualevents.volvoce.com/enus/brandevents/volvoatconexpolive.': 1, 'azadeh': 1, 'fazl': 1, 'mashhadi': 1, 'offer': 5, 'owner': 3, 'explained': 2, 'users': 6, 'benefit': 4, 'complete': 6, 'visibility': 9, 'gives': 3, 'visual': 2, 'overview': 2, 'real': 2, 'every': 5, 'vehicle': 3, 'visitor': 2, 'app': 8, 'operation': 14, 'efficient': 6, 'productive': 3, 'total': 6, 'via': 8, 'office': 13, 'portal': 6, 'providing': 8, 'fingertips': 1, 'information': 9, 'needed': 3, 'optimize': 2, 'traffic': 3, 'conditions': 5, 'maximum': 2, 'transport': 2, 'help': 16, 'cut': 1, 'travel': 1, 'times': 6, 'minimize': 2, 'mixing': 1, 'works': 10, 'extracting': 1, 'positioning': 1, 'data': 7, 'android/ios': 3, 'devices': 1, 'sim': 2, 'cards': 1, 'uploads': 1, 'cloudbased': 3, 'nonvolvo': 3, 'temporary': 4, 'visualize': 3, 'unit': 3, 'installed': 2, '—': 4, 'copilot': 10, 'regularly': 1, 'recommends': 1, 'fitting': 1, 'generic/nonvolvo': 1, 'purchased': 2, 'aftermarket': 1, 'option': 5, 'alternatively': 1, 'operators': 20, 'gain': 1, 'access': 6, 'card': 1, 'visitors': 3, 'enabling': 4, 'easy': 4, 'familiarization': 1, 'host': 1, 'typical': 1, 'features': 7, 'landmarks': 1, 'roads': 1, 'navigating': 1, 'around': 9, 'zones': 5, 'dump': 1, 'speed': 6, 'well': 11, 'restricted': 2, 'points': 2, 'offices': 2, 'workshops': 1, 'stations': 1, 'visualized': 1, 'helpful': 1, 'single': 4, 'lane': 2, 'narrow': 1, 'road': 4, 'sections': 1, 'defined': 1, 'notifying': 1, 'approaching': 1, 'section': 1, 'avoid': 4, 'congestion': 1, 'farreaching': 1, 'managers': 4, 'makes': 8, 'easier': 2, 'manage': 5, 'larger': 7, 'sites': 4, 'even': 3, 'possibility': 3, 'multiple': 1, 'simultaneously': 1, 'provide': 7, 'allows': 9, 'react': 1, 'prevailing': 1, 'introduce': 3, 'measures': 1, 'oneway': 1, 'communicate': 2, 'changes': 3, 'instant': 1, 'awareness': 1, 'accidents': 10, 'stay': 5, 'know': 3, 'comes': 8, 'whereabouts': 1, 'thanks': 8, 'search': 1, 'functionality': 8, 'lookup': 1, 'find': 6, 'realtime': 6, 'visible': 2, '30': 1, 'days': 1, 'away': 1, 'become': 5, 'familiar': 1, 'everyone': 5, 'facilitate': 1, 'straightforward': 1, 'safer': 1, 'less': 4, 'stressful': 1, 'application': 5, 'free': 11, 'store': 1, 'google': 1, 'started': 2, 'contact': 2, 'https//www.volvoce.com/unitedstates/enus/services/volvoservices/productivityservices/connectedmap/.': 1, 'a30g': 3, 'pennsy': 5, 'supply': 7, 'inc': 3, 'longstanding': 3, 'east': 2, 'petersburg': 2, 'quarry': 5, 'pennsylvania': 2, 'usa': 1, 'produced': 5, 'supplied': 2, 'steelmaker': 2, 'ssab': 6, 'path': 1, 'value': 7, 'chain': 6, '2040': 8, 'celebrated': 1, 'ambition': 6, 'climate': 7, 'goals': 8, 'second': 2, 'handed': 1, 'scott': 2, 'parson': 2, 'americas': 2, 'conference': 2, 'believe': 2, 'partnership': 5, 'leadership': 2, 'demonstrates': 1, 'achieved': 3, 'likeminded': 2, 'forwardthinking': 1, 'share': 2, 'vision': 5, 'completely': 4, 'electricity': 3, 'hydrogen': 2, 'result': 4, 'significantly': 1, 'impact': 4, 'least': 4, '90%': 1, 'reduction': 5, 'co2': 6, 'netzero': 3, 'comments': 5, 'solve': 1, 'complex': 1, 'alone': 1, 'actively': 1, 'partner': 4, 'key': 7, 'players': 1, 'throughout': 1, 'innovate': 2, 'converted': 2, 'emerging': 1, 'model': 9, 'look': 5, 'recipient': 1, 'big': 1, 'actors': 1, 'efforts': 3, 'carbon': 11, 'footprint': 6, 'companies': 3, 'provider': 1, 'build': 6, 'connect': 1, '3000': 5, 'locations': 1, '29': 1, 'countries': 1, 'sciencebased': 3, 'target': 6, 'commitments': 2, 'aims': 2, '2050': 1, 'targeting': 1, '30%': 3, 'absolute': 1, 'groupwide': 1, '2030': 6, '8%': 1, 'come': 1, 'component': 2, 'ton': 1, '1.9': 1, 'tons': 5, 'emitted': 1, 'achieve': 5, 'targets': 8, 'reach': 5, 'recognizes': 1, 'importance': 2, 'reducing': 5, 'entire': 5, 'electrification': 5, 'groups': 1, 'journey': 6, 'october': 1, '2021': 2, 'unveiled': 4, 'parts': 1, 'june': 3, 'became': 1, 'deliver': 5, 'components': 6, 'dependent': 1, 'aspects': 2, 'availability.': 1, 'preorder': 1, 'interested': 3, 'buyers': 1, 'enjoy': 3, 'convenience': 1, 'ecommerce': 1, 'tool': 5, 'still': 6, 'getting': 1, 'support': 4, 'local': 3, 'debut': 2, 'roadbuilders': 1, 'fleets': 1, 'officials': 1, 'government': 1, 'departments': 1, 'exciting': 2, 'finally': 1, 'off': 3, 'justin': 1, 'zupanc': 1, 'proud': 2, 'tangible': 1, 'segment': 3, 'addition': 8, 'brings': 4, 'lineup': 3, 'commercially': 4, 'looking': 5, 'hood': 1, 'driveline': 3, 'based': 10, 'proven': 4, 'architecture': 2, 'ecr25': 6, 'l25': 15, 'successful': 3, 'variety': 4, 'different': 6, 'applications': 13, 'past': 1, 'few': 3, 'ideal': 7, 'sensitive': 3, 'urban': 6, 'environments': 4, 'strict': 2, 'meet': 5, 'tailpipe': 2, 'mean': 2, 'cleaner': 2, 'enjoyable': 2, 'environment': 4, 'teams': 2, 'passersby': 2, 'powered': 5, 'offers': 7, 'expected': 6, 'full': 6, 'charge': 4, 'depending': 6, 'upon': 4, 'type': 3, 'job': 9, 'intensity': 2, 'cycle': 5, 'forerunners': 2, 'choose': 7, 'charger': 5, 'integrated': 4, 'onboard': 6, 'enables': 5, '100%': 3, 'little': 3, 'three': 6, 'hours': 12, 'ac': 2, 'optional': 2, 'offboard': 2, 'dc': 2, 'fast': 3, 'hour': 2, 'doubledrum': 2, '24': 2, 'kw': 2, 'conventional': 3, 'dd25b': 2, 'responsive': 2, 'terms': 3, 'vibrations': 2, 'performs': 2, 'better': 11, 'grade': 2, 'size': 4, 'elevations': 2, 'diesel': 6, 'loses': 2, 'altitude': 2, 'preorders': 1, 'opened': 1, 'expand': 4, 'reserve': 1, 'visit': 4, 'volvoce.com/unitedstates/enus/products/electricmachines/reservation/.': 1, 'packages': 8, 'preferred': 1, 'existing': 7, 'lite': 4, 'start': 5, 'unlock': 2, 'varying': 1, 'degrees': 1, 'core': 6, 'functions': 4, 'pass': 3, 'mapping': 9, 'measurement': 1, 'cmv': 4, '10': 1, 'touchscreen': 1, 'tailored': 4, 'easily': 8, 'receiving': 1, 'useful': 4, 'turn': 2, 'achieving': 2, 'optimum': 1, 'fit': 2, 'needs': 5, 'suite': 3, 'simple': 3, 'measurements': 1, 'tracking': 1, 'coverage': 2, 'ensuring': 3, 'costeffective': 2, 'relevant': 3, 'specific': 2, 'bundles': 2, 'perfect': 2, 'steps': 3, 'improving': 3, 'integrates': 1, 'gauge': 1, 'rearview': 1, 'camera': 2, 'monitor': 2, 'allowing': 8, 'progress': 2, 'current': 3, 'recently': 2, 'completed': 3, 'behind': 1, 'package': 5, '2': 1, 'latest': 4, 'combines': 1, 'plus': 2, 'ability': 1, 'gps': 1, 'passes': 1, '3': 1, 'offering': 2, 'fullest': 1, 'provides': 6, 'everything': 1, 'boasts': 1, 'accuracy': 2, 'location': 1, 'recording': 1, 'creation': 2, 'reports': 4, 'finished': 4, 'extensive': 1, 'detail': 1, 'performance': 12, 'roller': 1, 'standard': 4, 'sd75b': 1, 'sd115b': 1, 'compactors': 6, 'selected': 6, 'sd135b': 1, 'sd160b': 1, 'facilitates': 1, 'understand': 2, 'ground': 2, 'adequately': 1, 'compacted': 2, 'attention': 1, 'essential': 1, 'whole': 3, 'making': 5, 'required': 4, 'saving': 2, 'money': 3, 'whereby': 1, 'image': 1, 'bearing': 1, 'identify': 2, 'mixture': 1, 'wet': 1, 'example': 3, 'buried': 1, 'helps': 2, 'require': 1, 'further': 7, 'investigation': 1, 'created': 4, 'highest': 3, 'moretailored': 1, 'integrate': 1, 'daytoday': 1, 'assured': 3, 'temperature': 1, 'density': 1, 'stiffness': 1, 'select': 4, 'american': 2, 'european': 1, 'details': 1, 'specifications': 2, 'please': 1, 'page.': 1, 'offered': 5, 'request': 4, 'ec250e': 4, 'ec300e': 3, 'ec350e': 3, 'powerful': 5, 'dangerous': 2, 'difficult': 1, 'upclose': 2, 'view': 13, 'itself': 2, 'enjoying': 1, 'function': 4, 'remarked': 1, 'ease': 2, 'enhanced': 5, 'provision': 1, 'fact': 3, 'set': 10, 'sights': 1, 'risk': 7, 'falling': 1, 'objects': 1, 'roll': 1, 'demolition': 2, 'jobs': 1, 'movement': 1, 'poor': 1, 'situations': 2, 'short': 2, 'remote': 5, 'put': 2, 'include': 4, 'tasks': 4, 'closer': 3, 'eye': 2, 'attached': 1, 'piling': 1, 'drilling': 1, 'precision': 2, 'replaces': 2, 'worker': 1, 'improved': 5, 'deficient': 1, 'demonstrated': 1, 'week': 1, 'delivering': 6, 'versatility': 2, '100meter': 1, 'distance': 1, 'sufficient': 2, 'close': 3, 'twoway': 1, 'communication': 1, 'radio': 2, 'transmitter': 1, 'receiver': 1, 'electronically': 1, 'turned': 1, 'switch': 2, 'light': 2, 'beacon': 1, 'alerts': 4, 'mode': 2, 'agile': 2, 'engineering': 5, 'customized': 2, 'adapted': 2, 'unique': 2, 'dealers': 2, 'available.': 1, 'connecting': 3, 'weighing': 4, 'dig': 5, 'traditional': 2, 'includes': 2, 'lot': 2, 'unplanned': 3, 'manual': 2, 'handling': 2, 'administration': 2, 'something': 3, 'affects': 1, 'nonproductive': 1, 'addresses': 1, 'pain': 1, 'truck': 6, 'face': 1, 'reduces': 2, 'miscommunication': 1, 'digitalizing': 3, 'orders': 7, 'tickets': 2, 'lowered': 1, 'cost': 5, 'savings': 2, 'reduced': 5, 'cecilia': 1, 'jonsson': 1, 'develop': 3, 'streamline': 2, 'maximize': 2, 'plan': 2, 'ahead': 1, 'match': 1, 'incoming': 2, 'shorter': 1, 'wait': 2, 'utilized': 1, 'sharing': 1, 'digitally': 2, 'sent': 2, 'directly': 1, 'estimated': 3, 'arrival': 1, 'efficiently': 1, 'stress': 2, 'errors': 1, 'once': 3, 'enters': 1, 'receives': 1, 'notification': 1, 'call': 1, 'forward': 6, 'loading': 2, 'dispatch': 1, 'ticket': 1, 'flow': 3, 'shares': 1, 'accessed': 4, 'web': 4, 'anytime': 1, 'anywhere': 1, 'worksite': 4, 'viewed': 1, 'dashboard': 1, 'human': 2, 'error': 1, 'paperwork': 1, 'smarter': 1, 'currently': 5, 'subscription': 2, 'easytouse': 1, 'connects': 1, 'busy': 1, 'ensure': 3, 'delivered': 4, 'budget': 2, 'robert': 2, 'nilsson': 1, 'facing': 1, 'creating': 1, 'accurate': 2, 'project': 6, 'timeline': 1, 'developed': 3, 'mind': 4, 'objective': 1, 'strain': 1, 'status': 4, 'onsite': 2, 'mobile': 2, 'desktop': 1, 'whatever': 2, 'instantly': 1, 'wherever': 1, 'home': 2, 'apprised': 1, 'developments': 1, 'possible': 4, 'moved': 1, 'mixed': 1, 'spent': 2, 'administrative': 1, 'collating': 1, 'consolidating': 1, 'leaving': 1, 'focus': 5, 'hand': 1, 'suitable': 1, 'supervisors': 1, 'subcontractors': 1, 'whom': 1, 'vital': 1, 'filtered': 1, 'frames': 1, 'updates': 1, 'facilitating': 1, 'update': 1, 'obw': 2, 'receipts': 2, 'automatically': 3, 'monthly': 1, 'https//www.volvoce.com/unitedstates/enus/services/volvoservices/productivityservices/taskmanager/': 1, '': 1, 'silver': 3, 'blue': 4, 'built': 8, 'agreements': 1, 'extended': 1, 'preventive': 3, 'maintenance': 10, 'options': 4, 'peace': 2, 'keeping': 1, 'performing': 2, 'best': 4, 'contract': 8, 'suit': 2, 'requirements': 7, 'machinery': 2, 'looked': 2, 'covers': 1, 'repairs': 2, 'uptime': 4, 'means': 3, 'leave': 1, 'trusted': 1, 'hands': 1, 'fixed': 1, 'repair': 2, 'enable': 3, 'budgeting': 1, 'josé': 1, 'rosales': 2, 'deserve': 1, 'backup': 1, 'rest': 1, 'volvotrained': 1, 'network': 1, 'concluded': 1, 'easytounderstand': 1, 'choosing': 1, 'according': 1, 'operational': 2, 'demands': 1, 'smart': 7, 'choice': 2, 'reliability': 1, 'www.volvoce.com/unitedstates/enus/services/volvoservices/uptimeservices/volvoservicecontracts/.': 1, 'comfort': 4, 'front': 1, 'interface': 2, 'cabin': 2, 'design': 3, 'line': 6, 'fitted': 4, 'obstacle': 6, 'detection': 6, 'surroundings': 1, 'automatic': 3, 'obstacles': 1, 'detected': 1, 'faster': 3, 'preproduction': 2, 'heralds': 1, 'generation': 7, 'improvements': 1, 'successor': 1, 'ec480e': 1, '50ton': 1, 'crawler': 2, 'toughest': 1, 'utilities': 1, 'quarrying': 1, 'aggregates': 1, 'agriculture': 1, 'landscaping': 1, 'a25g': 1, 'a35g': 1, 'regulated': 1, 'excited': 2, 'differences': 1, 'appearance': 1, 'insight': 1, 'operability': 1, 'proactively': 2, 'prototype': 1, 'seen': 1, 'styling': 1, 'layout': 1, 'highdefinition': 1, 'screen': 2, 'keyless': 1, 'engine': 2, 'wired': 1, 'wireless': 1, 'phone': 1, 'valuable': 3, 'delivers': 2, '360°': 1, 'radar': 3, 'approaches': 3, 'identifying': 2, 'classifying': 1, 'object': 1, 'remedial': 1, 'action': 4, 'threepoint': 1, 'guard': 1, 'rails': 1, 'foldable': 1, 'top': 1, 'handrail': 1, 'transportation': 1, 'safely': 1, 'coaching': 1, 'eliminating': 2, 'manually': 1, 'mark': 1, 'check': 2, 'depths': 1, 'grades': 1, 'lift': 2, 'active': 1, 'automated': 1, 'grading': 1, 'sejong': 1, 'ko': 1, 'utilizing': 1, 'technologies': 2, 'productively': 1, 'consistency': 1, 'joysticks': 2, 'give': 2, 'hydraulic': 4, 'pumps': 1, 'operated': 1, 'virtually': 2, 'disconnected': 1, 'boom': 1, 'affecting': 1, 'smoother': 1, 'ride': 1, 'increases': 1, 'controllability': 1, 'shortens': 1, 'improves': 1, 'higher': 1, 'driver': 2, 'move': 2, 'forwards': 1, 'backwards': 1, 'steer': 1, 'settings': 1, 'preferences': 1, 'save': 3, 'quickly': 1, 'cooling': 1, 'capacity': 4, 'handle': 2, 'extreme': 1, 'weather': 2, 'longer': 2, 'intervals': 1, '2000': 1, 'oil': 2, 'filter': 1, 'positive': 3, 'environmental': 3, 'compromising': 1, 'manufactured': 1, 'begin': 6, 'q4': 5, 'follow.': 1, 'conjunction': 1, 'parker': 1, 'hannifin': 1, '20ton': 1, 'conversion': 6, 'recognized': 1, 'base': 1, 'upside': 1, 'accelerate': 3, 'understands': 1, 'neutral': 2, 'act': 1, 'why': 3, 'electromobility': 5, 'availability': 1, 'commercialized': 1, 'segments': 1, 'collaboration': 3, 'follows': 1, 'dutch': 1, 'limach': 1, 'back': 1, 'broaden': 1, 'approach': 1, 'speedier': 1, 'implementation': 1, 'happens': 1, 'parallel': 1, '23ton': 4, 'greenhouse': 4, 'gas': 4, 'reductions': 1, 'early': 2, 'science': 4, 'initiative': 3, 'carl': 1, 'slotte': 1, 'decarbonization': 1, 'transforming': 2, 'fulfil': 2, 'scaling': 1, 'extending': 1, 'go': 2, '0%': 1, 'counterpart': 1, 'exhaust': 4, 'near': 3, 'silent': 1, 'combine': 1, '240': 1, 'kwh': 1, 'batteries': 2, 'runtime': 1, 'approximately': 4, 'five': 1, 'medium': 3, 'duty': 1, 'consistent': 1, '0100%': 1, '1.52': 1, 'collision': 8, 'mitigation': 7, 'supported': 1, 'dedicated': 3, 'preheat': 1, 'convert': 2, 'register': 2, 'email': 1, 'volvoce.electromobility.solutions@volvo.com': 1, 'specializes': 3, '80': 2, 'million': 9, '$7.8': 2, 'manufacturing': 2, 'ambitions': 3, 'fossil': 6, '35%': 4, '1.1': 1, 'sq': 3, 'largest': 7, 'producing': 1, '55%': 1, 'produce': 3, 'common': 1, 'storage': 1, 'packs': 2, 'competence': 1, 'center': 2, 'apac': 1, 'flexible': 1, 'logistics': 2, 'andy': 1, 'knight': 1, 'managing': 2, 'director': 2, 'forefront': 1, 'roadmap': 1, 'supports': 1, 'recent': 1, 'facilities': 4, 'ideally': 1, 'located': 1, 'module': 1, 'suppliers': 1, 'highly': 1, 'skilled': 1, 'motivated': 1, 'workforce': 1, 'fully': 2, 'meeting': 2, 'workshop': 1, 'disruption': 1, '2500': 1, 'meters': 1, 'assembly': 2, 'april': 1, 'commence': 1, '2024': 2, 'announcement': 2, 'invest': 3, 'haulers': 4, 'braås': 3, 'sign': 1, 'becoming': 1, 'paris': 2, 'agreement': 2, 'laid': 2, 'transform': 2, 'successfully': 2, 'introduced': 4, 'ecr18': 3, 'ec18': 3, 'ranges': 3, 'market.': 1, 'former': 1, 'emt': 3, 'finance': 8, 'strategy': 6, 'divided': 1, 'separate': 1, 'klara': 5, 'eiritz': 2, 'appointed': 4, 'accounting': 2, 'planning': 3, 'related': 2, 'matters': 1, 'philippe': 4, 'henriette': 2, 'serves': 2, 'sourcing': 1, 'latin': 1, 'ericsson': 2, 'previously': 1, 'served': 1, 'number': 2, 'senior': 3, 'positions': 1, '14': 1, 'sandvik': 1, 'analysis': 1, 'internal': 2, 'oem': 2, 'brussels': 1, 'report': 2, 'eskilstuna': 2, 'joining': 1, 'marketleader': 1, 'vice': 3, 'supporting': 1, 'address': 1, 'strategic': 1, 'issues': 2, 'cees': 1, 'gothenburg': 1, 'increasingly': 1, 'rapid': 1, 'rate': 2, 'grow': 2, 'critical': 2, 'challenge': 3, 'effective': 1, 'later': 3, 'august': 2, 'reenforce': 1, 'closely': 1, 'driving': 9, 'welcome': 2, 'mentioned': 1, 'roles': 2, 'ce.': 2, 'jonas': 4, 'evp': 2, 'legal': 2, 'ma': 1, 'procurement': 2, 'impressive': 1, 'record': 1, 'earlier': 2, 'career': 1, 'worked': 1, 'abb': 1, 'nina': 1, 'aresund': 1, 'communicated': 1, 'took': 1, 'compliance': 1, 'leader': 2, 'contribution': 2, 'enjoyed': 2, 'seeing': 1, 'rise': 1, '54%': 1, 'meanwhile': 2, 'covid19': 2, 'pandemic': 2, 'lockdowns': 2, '27%': 1, '27596': 1, '21812': 1, 'currency': 1, 'movements': 1, '13%': 1, '15%': 1, 'similar': 1, 'rose': 1, '9%': 1, 'amounting': 1, '100261': 1, '92031': 1, 'totaling': 1, '13244': 1, '12228': 1, '13.2%': 1, '13.3': 1, 'remain': 1, 'decline': 1, '23%': 1, 'although': 1, 'slightly': 2, 'q3': 1, 'largely': 1, 'restrictive': 1, 'slotting': 1, 'caused': 2, 'books': 1, 'long': 2, '4%': 1, 'again': 1, 'accelerated': 1, 'maintaining': 2, 'steady': 3, 'investing': 2, 'continuing': 2, 'accident': 2, 'worksites': 1, 'braking': 2, 'feature': 2, 'largescale': 1, 'types': 1, 'powertrains': 1, 'reliable': 3, 'except': 1, 'underlying': 1, 'solid': 1, 'slowdown': 1, 'relatively': 1, 'signals': 1, 'weakening': 1, 'asian': 1, 'commodities': 1, 'partially': 1, 'thailand': 1, 'affected': 1, 'restrictions': 1, 'prebought': 1, 'december': 1, 'sek.': 1, 'factory': 5, '65': 2, '$6.3': 2, 'phased': 3, 'entirely': 1, 'aim': 1, 'sold': 2, 'almost': 3, '140year': 1, 'moment': 1, 'determination': 1, 'pioneering': 2, 'signpost': 1, 'lines': 1, 'advance': 1, 'konz': 1, 'germany': 1, 'belley': 1, 'france': 1, 'mikael': 2, 'liljestrand': 1, 'signal': 1, 'live': 2, '40': 1, 'invested': 1, 'reason': 2, 'planet': 2, 'stakeholders': 1, 'rightly': 1, 'expectations': 1, 'hearts': 1, 'l20': 3, 'proving': 3, 'zeroexhaust': 2, 'capable': 1, 'erect': 1, '1500': 1, 'able': 2, 'yet': 1, 'exactly': 1, 'combustion': 1, 'engines': 2, 'account': 1, 'ecosystem': 1, 'actually': 1, 'managed': 1, '350': 1, 'goal': 2, 'climatesmart': 1, 'quite': 2, 'force': 1, 'ways': 1, 'come.': 1, 'oneofakind': 2, 'conexpocon/agg': 1, 'tradeshow': 1, 'everchanging': 1, '55000': 1, 'squarefoot': 1, 'f8926': 2, 'festival': 1, 'grounds': 1, 'cuttingedge': 1, 'influencers': 2, 'words': 2, 'moving': 2, 'that´s': 1, 'say': 1, 'developing': 1, 'prepared': 1, 'showcasing': 1, 'packaged': 1, 'alternatives': 1, 'showcase': 1, 'expansion': 1, 'preconexpo': 1, 'stop': 2, 'display': 2, 'autonomous': 1, 'concepts': 1, 'cell': 1, 'remotecontrolled': 1, 'morning': 1, 'opens': 1, 'upgraded': 1, 'l350': 1, 'triedandtrue': 1, 'answer': 1, 'questions': 1, 'representatives': 1, 'iron': 1, 'speak': 2, 'recommendations': 1, 'regardless': 1, 'setup': 1, 'transactions': 1, 'potential': 2, 'focused': 1, 'cash': 1, 'seasonal': 1, 'slowdowns': 1, 'activecare®': 1, 'direct': 1, 'monitoring': 1, 'proactive': 1, 'intelligence': 1, 'diagnosing': 1, 'members': 1, 'discovery': 1, 'channel': 1, 'tuesday': 1, 'friday': 1, 'meetandgreet': 1, 'wednesday': 1, 'afternoon': 1, 'race': 1, 'unable': 1, 'attend': 1, 'exclusive': 2, 'hosting': 1, 'homes': 4, 'watching': 1, 'experiencing': 1, 'walkarounds': 1, 'interacting': 1, 'someone': 1, 'joins': 1, 'planned': 1, 'handson': 1, 'educational': 1, 'confident': 1, 'enlightening': 1, 'page': 1, 'details.': 1, '1418': 1, 'small': 1, 'scale': 1, 'street': 1, 'patching': 1, 'parking': 1, 'lots': 1, 'driveways': 1, 'municipalities': 1, 'houses': 1, 'specifically': 2, 'validated': 1, 'ray': 1, 'gallant': 1, 'premium': 1, 'responsibility': 1, 'reallife': 1, 'extend': 1, 'paving': 1, '2020': 1, 'globe': 1, 'workplace': 1, '0': 1, 'practical': 1, 'topup': 1, 'lunch': 1, 'break': 1, 'combining': 1, '360degree': 1, 'frequency': 2, 'finish': 2, 'surface': 1, '3500': 1, 'vpm': 2, '/': 2, '55': 1, 'hz': 2, '4000': 1, '67': 1, 'cater': 1, 'motors': 1, 'ownership': 1, 'goals.': 1, 'original': 1, 'assists': 2, 'reverse': 5, 'applies': 1, 'brakes': 2, 'alerting': 1, 'spending': 1, 'average': 1, '4050%': 1, 'replace': 1, 'safe': 2, 'behavior': 2, 'enhance': 1, 'central': 1, 'inception': 2, 'lars': 1, 'eriksson': 1, 'mitigate': 1, 'consequences': 1, 'strive': 1, 'altogether': 1, 'interruptions': 2, 'incurred': 1, 'avoidable': 1, 'knocks': 1, 'bumps': 1, 'responding': 1, 'activating': 2, '23': 1, 'seconds': 1, 'slow': 1, 'prior': 1, 'initiation': 1, 'intervene': 1, 'enhances': 1, 'seamless': 1, 'stockpiling': 1, 'remember': 1, 'slope': 1, 'climbed': 1, 'pile': 1, 'temporarily': 1, 'deactivated': 1, 'functioning': 1, 'speeds': 1, '315': 1, 'km/h': 1, '1.869.32mp/h': 1, 'matter': 1, 'gear': 1, 'facilitator': 1, 'assistance': 1, 'totally': 1, 'eliminate': 1, 'though': 1, 'always': 1, 'advocates': 1, 'inhouse': 1, 'patentpending': 1, 'factoryfit': 1, 'l110h/l120h': 1, 'equipped': 1, 'optishift': 1, 'l150h': 2, 'l180h': 1, 'l220h': 1, 'l260h': 1, 'l200h': 1, 'requiring': 1, 'detect': 1, 'elevate': 1, 'city': 6, 'stockholm': 7, 'skanska': 4, 'swecon': 1, 'meat': 1, 'packing': 1, 'district': 2, 'constructing': 1, 'neighborhood': 1, '14000': 3, 'workplaces': 3, 'lowest': 1, '2012': 1, 'equivalent': 1, '35': 1, 'eight': 1, 'day': 3, '100yearold': 1, 'slakthusområdet': 1, 'known': 1, 'meatpacking': 1, 'testbed': 3, 'emissionfree': 2, 'begins': 1, '2033': 1, 'open': 1, 'public': 1, 'stipulation': 1, 'particular': 1, 'requirement': 1, 'industryleading': 1, 'peakshaving': 1, 'excavate': 1, '75000': 1, 'rock': 2, '96000': 1, 'stages': 1, '2700': 2, 'fredrik': 2, 'tjernström': 1, 'silence': 1, 'comfortable': 1, 'collaborating': 1, 'aligned': 1, 'mission': 1, 'holistic': 1, 'lisa': 2, 'kroon': 2, \"sweden's\": 1, 'contracting': 1, '35000': 1, 'standards': 2, 'innovations': 2, 'others': 1, 'insights': 1, 'instrumental': 1, 'factors': 1, 'scalability': 1, 'prove': 1, 'anders': 2, 'österberg': 2, 'deputy': 1, 'councillor': 1, 'chairman': 1, 'exploitation': 1, 'committee': 1, 'setting': 1, 'tender': 1, 'procurements': 1, 'amounts': 1, 'excavated': 1, '10%': 1, 'deployment': 1, 'contribute': 2, 'breakthrough': 1, 'richard': 2, 'sjöblom': 2, 'overwhelmingly': 1, 'feedback': 1, 'testing': 1, 'class': 1, 'advantages': 1, 'sceptics': 1, 'thought': 1, 'proved': 1, 'wrong!': 1, 'run': 1, 'hvo': 1, 'hydrogenated': 1, 'vegetable': 1, 'biofuel': 1, '90%.': 1, 'german': 3, 'firm': 3, 'böhm': 4, 'entsorgung': 4, 'putting': 1, 'recycling': 7, 'enclosed': 5, 'transshipment': 3, 'spaces': 3, 'heavy': 2, 'paper': 7, 'plastic': 3, 'name': 1, 'hometown': 1, 'möttingen': 1, 'trailblazer': 1, 'wood': 1, 'sorting': 2, 'delivery': 1, 'raw': 4, 'processing': 1, 'emitting': 1, 'fumes': 1, 'wastepaper': 2, '75%': 1, 'recycled': 1, 'explains': 2, 'manuel': 4, 'reinsch': 4, 'böhmentsorgungs': 1, 'gmbh': 2, 'sorted': 1, 'pure': 1, 'dry': 2, 'contaminants': 1, 'glue': 1, 'staples': 1, '60000': 1, 'square': 1, 'metre': 1, 'containers': 2, 'collected': 1, 'printing': 1, 'plants': 1, 'industrial': 1, 'centres': 1, 'unloaded': 2, 'kept': 1, 'stacks': 1, 'bales': 1, 'shovel': 1, 'pull': 1, 'apart': 1, 'mountain': 1, 'pushes': 1, 'manageable': 1, 'quantities': 1, 'onto': 1, 'conveyor': 3, 'belt': 1, 'feeds': 1, 'moves': 1, 'silently': 1, 'goes': 1, 'unnoticed': 1, 'noise': 2, 'belts': 2, 'presses': 2, 'deciding': 1, 'factor': 1, 'purchase': 1, 'crucial': 1, 'emit': 1, 'gases': 1, 'predominantly': 1, '39kwh': 2, 'continuously': 2, 'requires': 2, 'protection': 1, 'corporate': 1, 'familyrun': 1, 'environmentally': 1, 'friendly': 1, 'stateoftheart': 1, '90': 1, 'employees': 1, 'feed': 1, 'kinds': 1, 'solar': 1, 'panels': 1, 'cover': 1, 'roofs': 1, 'supplying': 1, 'shredders': 1, 'climateneutral': 1, 'smaller': 1, 'christian': 2, 'gorowoy': 2, 'determined': 1, 'enthusiastic': 1, 'films': 1, 'effortlessly': 1, 'appreciates': 1, 'manoeuvrability': 1, 'allround': 1, 'afforded': 1, 'pleased': 1, 'employer': 1, 'climatefriendly': 1, 'children': 1, 'park': 1, 'handlers': 1, 'ew240e': 1, 'ew160e': 1, 'elevated': 1, 'old': 1, 'themselves': 1, 'firstclass': 1, 'excellent': 1, 'receive': 1, 'alexander': 1, 'lemke': 1, 'aebi': 1, 'important.': 1}\n"
     ]
    }
   ],
   "source": [
    "# 단어 하나하나 등장 갯수를 세서 dictionary 로 만들기\n",
    "histogram_6month = {}  \n",
    "\n",
    "for words in volvo_6month[\"clear_words\"]: \n",
    "    for word in words:\n",
    "        histogram_6month[word] = histogram_6month.get(word, 0) + 1 \n",
    "\n",
    "print(histogram_6month)"
   ]
  },
  {
   "cell_type": "code",
   "execution_count": 188,
   "metadata": {},
   "outputs": [
    {
     "data": {
      "text/html": [
       "<div>\n",
       "<style scoped>\n",
       "    .dataframe tbody tr th:only-of-type {\n",
       "        vertical-align: middle;\n",
       "    }\n",
       "\n",
       "    .dataframe tbody tr th {\n",
       "        vertical-align: top;\n",
       "    }\n",
       "\n",
       "    .dataframe thead th {\n",
       "        text-align: right;\n",
       "    }\n",
       "</style>\n",
       "<table border=\"1\" class=\"dataframe\">\n",
       "  <thead>\n",
       "    <tr style=\"text-align: right;\">\n",
       "      <th></th>\n",
       "      <th>word</th>\n",
       "      <th>count</th>\n",
       "    </tr>\n",
       "  </thead>\n",
       "  <tbody>\n",
       "    <tr>\n",
       "      <th>0</th>\n",
       "      <td>q1</td>\n",
       "      <td>4</td>\n",
       "    </tr>\n",
       "    <tr>\n",
       "      <th>1</th>\n",
       "      <td>secured</td>\n",
       "      <td>1</td>\n",
       "    </tr>\n",
       "    <tr>\n",
       "      <th>2</th>\n",
       "      <td>good</td>\n",
       "      <td>7</td>\n",
       "    </tr>\n",
       "    <tr>\n",
       "      <th>3</th>\n",
       "      <td>profitability</td>\n",
       "      <td>2</td>\n",
       "    </tr>\n",
       "    <tr>\n",
       "      <th>4</th>\n",
       "      <td>boost</td>\n",
       "      <td>4</td>\n",
       "    </tr>\n",
       "    <tr>\n",
       "      <th>...</th>\n",
       "      <td>...</td>\n",
       "      <td>...</td>\n",
       "    </tr>\n",
       "    <tr>\n",
       "      <th>2080</th>\n",
       "      <td>receive</td>\n",
       "      <td>1</td>\n",
       "    </tr>\n",
       "    <tr>\n",
       "      <th>2081</th>\n",
       "      <td>alexander</td>\n",
       "      <td>1</td>\n",
       "    </tr>\n",
       "    <tr>\n",
       "      <th>2082</th>\n",
       "      <td>lemke</td>\n",
       "      <td>1</td>\n",
       "    </tr>\n",
       "    <tr>\n",
       "      <th>2083</th>\n",
       "      <td>aebi</td>\n",
       "      <td>1</td>\n",
       "    </tr>\n",
       "    <tr>\n",
       "      <th>2084</th>\n",
       "      <td>important.</td>\n",
       "      <td>1</td>\n",
       "    </tr>\n",
       "  </tbody>\n",
       "</table>\n",
       "<p>2085 rows × 2 columns</p>\n",
       "</div>"
      ],
      "text/plain": [
       "               word  count\n",
       "0                q1      4\n",
       "1           secured      1\n",
       "2              good      7\n",
       "3     profitability      2\n",
       "4             boost      4\n",
       "...             ...    ...\n",
       "2080        receive      1\n",
       "2081      alexander      1\n",
       "2082          lemke      1\n",
       "2083           aebi      1\n",
       "2084     important.      1\n",
       "\n",
       "[2085 rows x 2 columns]"
      ]
     },
     "execution_count": 188,
     "metadata": {},
     "output_type": "execute_result"
    }
   ],
   "source": [
    "# dictionary 의 데이터프레임화\n",
    "data = {\"word\":histogram_6month.keys(), \"count\":histogram_6month.values()}\n",
    "histogram_df = pd.DataFrame.from_dict(data)\n",
    "histogram_df"
   ]
  },
  {
   "cell_type": "code",
   "execution_count": 193,
   "metadata": {},
   "outputs": [
    {
     "data": {
      "text/html": [
       "<div>\n",
       "<style scoped>\n",
       "    .dataframe tbody tr th:only-of-type {\n",
       "        vertical-align: middle;\n",
       "    }\n",
       "\n",
       "    .dataframe tbody tr th {\n",
       "        vertical-align: top;\n",
       "    }\n",
       "\n",
       "    .dataframe thead th {\n",
       "        text-align: right;\n",
       "    }\n",
       "</style>\n",
       "<table border=\"1\" class=\"dataframe\">\n",
       "  <thead>\n",
       "    <tr style=\"text-align: right;\">\n",
       "      <th></th>\n",
       "      <th>word</th>\n",
       "      <th>count</th>\n",
       "    </tr>\n",
       "  </thead>\n",
       "  <tbody>\n",
       "    <tr>\n",
       "      <th>187</th>\n",
       "      <td>electric</td>\n",
       "      <td>150</td>\n",
       "    </tr>\n",
       "    <tr>\n",
       "      <th>167</th>\n",
       "      <td>customers</td>\n",
       "      <td>56</td>\n",
       "    </tr>\n",
       "    <tr>\n",
       "      <th>203</th>\n",
       "      <td>new</td>\n",
       "      <td>53</td>\n",
       "    </tr>\n",
       "    <tr>\n",
       "      <th>65</th>\n",
       "      <td>solutions</td>\n",
       "      <td>51</td>\n",
       "    </tr>\n",
       "    <tr>\n",
       "      <th>228</th>\n",
       "      <td>site</td>\n",
       "      <td>50</td>\n",
       "    </tr>\n",
       "  </tbody>\n",
       "</table>\n",
       "</div>"
      ],
      "text/plain": [
       "          word  count\n",
       "187   electric    150\n",
       "167  customers     56\n",
       "203        new     53\n",
       "65   solutions     51\n",
       "228       site     50"
      ]
     },
     "execution_count": 193,
     "metadata": {},
     "output_type": "execute_result"
    }
   ],
   "source": [
    "# 정렬\n",
    "histogram_df = histogram_df.sort_values(by=\"count\", ascending=False)\n",
    "histogram_df.head()"
   ]
  },
  {
   "cell_type": "code",
   "execution_count": 194,
   "metadata": {},
   "outputs": [],
   "source": [
    "histogram_df.to_csv(\"../data/count/volvo_words_counts.csv\", index=False)"
   ]
  },
  {
   "attachments": {},
   "cell_type": "markdown",
   "metadata": {},
   "source": [
    "# Caterpillar 단어 빈도 추출"
   ]
  },
  {
   "cell_type": "code",
   "execution_count": 202,
   "metadata": {},
   "outputs": [
    {
     "data": {
      "text/plain": [
       "Index(['Date', 'Title', 'Article'], dtype='object')"
      ]
     },
     "metadata": {},
     "output_type": "display_data"
    },
    {
     "data": {
      "text/html": [
       "<div>\n",
       "<style scoped>\n",
       "    .dataframe tbody tr th:only-of-type {\n",
       "        vertical-align: middle;\n",
       "    }\n",
       "\n",
       "    .dataframe tbody tr th {\n",
       "        vertical-align: top;\n",
       "    }\n",
       "\n",
       "    .dataframe thead th {\n",
       "        text-align: right;\n",
       "    }\n",
       "</style>\n",
       "<table border=\"1\" class=\"dataframe\">\n",
       "  <thead>\n",
       "    <tr style=\"text-align: right;\">\n",
       "      <th></th>\n",
       "      <th>Date</th>\n",
       "      <th>Title</th>\n",
       "      <th>Article</th>\n",
       "    </tr>\n",
       "  </thead>\n",
       "  <tbody>\n",
       "    <tr>\n",
       "      <th>88</th>\n",
       "      <td>2021-08-04</td>\n",
       "      <td>Caterpillar expands Cat® Command remote-control operation to excavator line, enhancing safe machine operation</td>\n",
       "      <td>New Cat® Command for Excavating provides remote-control operation for select Cat excavators. Removing the operator from the machine in potentially hazardous operating environments, Command for Excavating enhances safe machine operation, while reducing operator fatigue to increase productivity. Six Cat excavators spanning the 20 to 40 metric ton class sizes – Cat 320, 323, 326, 330, 336 and 340 models – can now be equipped with either line-of-sight or non-line-of-sight remote operating configurations. Cat excavators are made Command-ready through a dealer-installed field kit for new or existing fleet machines. Providing excellent visibility, the kit features multiple cameras for non-line-of-site operation from the Command station that offer a view of the area surrounding the machine plus the ability to stream on-site video feeds. Alongside the cameras, indicator lights, microphone, wireless receiver, and antenna are all mounted on top of the cab to minimize the risk of damage. Deeply integrated with the excavator’s electronics, Command controls allow users to experience the same machine response as if they were operating from inside the cab, allowing a high level of productivity to be maintained from a safe distance. Machine technology features such as Grade Assist, Swing Assist and E-Fence can also be set, activated and deactivated remotely without the need to be set manually from inside the cab. Excavators are efficiently switched between remote and manual operation via a ground-level switch. With users comfortably controlling dig, lift and tracking functions from a safe location, Command for Excavating enables production to restart immediately following disruptive processes, such as blasting in quarry applications. It also enhances safety and improves machine productivity on a range of projects like operating in unstable underfoot conditions, brownfields, shore work, demolition and site decommissioning, and stevedoring. Flexible, precise control Command for Excavating offers a solution to workforce shortages by opening opportunities to those with physical limitations that prevent them from climbing into the equipment, attracting a new generation of worker and increasing the longevity of experienced operators. Removing the operator from the cab also offers training advantages for newer operators. The Command system includes two different remote operating options. Ideal for temporary or emergency remote operation with no on-site communications infrastructure required, the Command console offers line-of-site machine control through a lightweight, compact console, supported by a comfortable shoulder harness. Offering machine control from up to 437 yd (400 m) away, the console controls all excavator functions with virtually no response delay. Built-in safety features stop all excavator movements if the remote shutdown switch is pressed, wireless communication is lost, or the console is tilted more than 45 degrees from normal operating position. ...</td>\n",
       "    </tr>\n",
       "  </tbody>\n",
       "</table>\n",
       "</div>"
      ],
      "text/plain": [
       "          Date  \\\n",
       "88  2021-08-04   \n",
       "\n",
       "                                                                                                            Title  \\\n",
       "88  Caterpillar expands Cat® Command remote-control operation to excavator line, enhancing safe machine operation   \n",
       "\n",
       "                                                                                                                                                                                                                                                                                                                                                                                                                                                                                                                                                                                                                                                                                                                                                                                                                                                                                                                                                                                                                                                                                                                                                                                                                                                                                                                                                                                                                                                                                                                                                                                                                                                                                                                                                                                                                                                                                                                                                                                                                                                                                                                                                                                                                                                                                                                                                                                                                                                                                                                                                                                                                                                                                                                                                                                                                                                                                                                                                                                                                                                                                                                    Article  \n",
       "88  New Cat® Command for Excavating provides remote-control operation for select Cat excavators. Removing the operator from the machine in potentially hazardous operating environments, Command for Excavating enhances safe machine operation, while reducing operator fatigue to increase productivity. Six Cat excavators spanning the 20 to 40 metric ton class sizes – Cat 320, 323, 326, 330, 336 and 340 models – can now be equipped with either line-of-sight or non-line-of-sight remote operating configurations. Cat excavators are made Command-ready through a dealer-installed field kit for new or existing fleet machines. Providing excellent visibility, the kit features multiple cameras for non-line-of-site operation from the Command station that offer a view of the area surrounding the machine plus the ability to stream on-site video feeds. Alongside the cameras, indicator lights, microphone, wireless receiver, and antenna are all mounted on top of the cab to minimize the risk of damage. Deeply integrated with the excavator’s electronics, Command controls allow users to experience the same machine response as if they were operating from inside the cab, allowing a high level of productivity to be maintained from a safe distance. Machine technology features such as Grade Assist, Swing Assist and E-Fence can also be set, activated and deactivated remotely without the need to be set manually from inside the cab. Excavators are efficiently switched between remote and manual operation via a ground-level switch. With users comfortably controlling dig, lift and tracking functions from a safe location, Command for Excavating enables production to restart immediately following disruptive processes, such as blasting in quarry applications. It also enhances safety and improves machine productivity on a range of projects like operating in unstable underfoot conditions, brownfields, shore work, demolition and site decommissioning, and stevedoring. Flexible, precise control Command for Excavating offers a solution to workforce shortages by opening opportunities to those with physical limitations that prevent them from climbing into the equipment, attracting a new generation of worker and increasing the longevity of experienced operators. Removing the operator from the cab also offers training advantages for newer operators. The Command system includes two different remote operating options. Ideal for temporary or emergency remote operation with no on-site communications infrastructure required, the Command console offers line-of-site machine control through a lightweight, compact console, supported by a comfortable shoulder harness. Offering machine control from up to 437 yd (400 m) away, the console controls all excavator functions with virtually no response delay. Built-in safety features stop all excavator movements if the remote shutdown switch is pressed, wireless communication is lost, or the console is tilted more than 45 degrees from normal operating position. ...  "
      ]
     },
     "execution_count": 202,
     "metadata": {},
     "output_type": "execute_result"
    }
   ],
   "source": [
    "cat = pd.read_csv(\"../scrapping/Caterpillar/Caterpillar.csv\")\n",
    "display(cat.columns)\n",
    "cat.sample(1)"
   ]
  },
  {
   "attachments": {},
   "cell_type": "markdown",
   "metadata": {},
   "source": [
    "### CAT 전처리"
   ]
  },
  {
   "cell_type": "code",
   "execution_count": 207,
   "metadata": {},
   "outputs": [],
   "source": [
    "cat['날짜'] = pd.to_datetime(cat['Date'])\n",
    "# \\r\\n 기호 제거\n",
    "cat = cat.replace(\"\\r\\n\", \" \", regex=True)"
   ]
  },
  {
   "cell_type": "code",
   "execution_count": 210,
   "metadata": {},
   "outputs": [],
   "source": [
    "# 's 를 제거 하고싶다. 근데 volvo 기사들은 ’ 이 기호를 쓴다. \n",
    "cat[\"clean_rticle\"] = cat[\"Article\"].replace(\"’s\", \"\", regex=True)\n",
    "# 잡다한 특수기호 제거\n",
    "cat[\"clean_rticle\"] = cat[\"clean_rticle\"].replace(\"\\“|\\”|\\‘|\\’|&|\\\"|\\–|\\-|\\(|\\)|\\:|\\,|\\®\", \"\", regex=True)\n",
    "# 띄어쓰기 두칸짜리 제거\n",
    "cat[\"clean_rticle\"] = cat[\"clean_rticle\"].replace(\" +\", \" \", regex=True)\n",
    "# 소문자로 변경\n",
    "cat[\"clean_rticle\"] = cat[\"clean_rticle\"].str.lower()"
   ]
  },
  {
   "cell_type": "code",
   "execution_count": 212,
   "metadata": {},
   "outputs": [
    {
     "data": {
      "text/plain": [
       "0    31\n",
       "1    51\n",
       "2     7\n",
       "3    33\n",
       "4    53\n",
       "Name: sentence, dtype: int64"
      ]
     },
     "execution_count": 212,
     "metadata": {},
     "output_type": "execute_result"
    }
   ],
   "source": [
    "# 문장 단위 파생변수 만들기\n",
    "cat[\"sentence\"] = cat[\"clean_rticle\"].map(lambda x : x.split(\". \"))\n",
    "# 문장갯수 뽑아보기\n",
    "cat[\"sentence\"].str.len()[:5]"
   ]
  },
  {
   "cell_type": "code",
   "execution_count": 214,
   "metadata": {},
   "outputs": [
    {
     "data": {
      "text/plain": [
       "0                           [infused, with, industryleading, technology, the, durable, cat, d10, dozer, burns, less, fuel, increases, productivity, and, improves, uptime, featuring, a, stator, clutch, torque, converter, and, loadsensing, hydraulics, the, new, design, is, up, to, 6%, more, efficient, than, the, cat, d10t2, its, combination, of, improved, technology, longer, component, life, extended, oil, changes, and, increased, serviceability, reduces, maintenance, and, repair, costs, up, to, 8%, helping, the, new, d10, deliver, industryleading, low, cost, of, ownership, the, new, d10, is, powered, by, the, cat, c27, engine, which, offers, aftertreatment, solutions, to, meet, u.s, epa, tier, 4, final/eu, stage, v, as, well, as, tier, 2, equivalent, ...]\n",
       "1       [expanding, the, product, line, the, new, cat, rm600, and, rm800, reclaimer/stabilizers, offer, the, power, performance, and, productivity, needed, to, efficiently, complete, fulldepth, reclamation, and, soil, stabilization, projects, these, versatile, machines, compete, at, the, high, end, of, the, reclaimer/stabilizer, size, class, with, an, allnew, adjustable, height, design, capable, of, crossslope, cutting, their, powerful, turbocharged, cat, c18, engine, gives, the, rm600, up, to, 17%, more, power, than, the, rm500b, the, rm800, delivers, up, to, 42%, more, power, than, the, rm500b, and, up, to, 23%, more, power, than, the, rm600, these, reclaimer/stabilizer, models, adopt, key, rotor, system, components, from, cat, cold, planers, for, ...]\n",
       "2    [caterpillar, has, launched, an, initiative, to, simplify, nomenclature, for, select, models, in, the, cat, vibratory, soil, compactor, range, to, correlate, with, the, gc, models, in, the, compaction, product, family, all, models, within, the, soil, compactor, line, will, feature, weightbased, names, derived, from, the, metric, tonnage, class, in, which, the, model, competes, additionally, the, model, series, descriptor, letter, suffix, will, be, removed, the, cat, vibratory, soil, compactor, line, includes, smooth, and, padfoot, drum, designs, offering, compaction, widths, ranging, from, 50, to, 84, inches, 1270, to, 2134, mm, durable, and, reliable, the, rollers, deliver, high, compaction, performance, speed, and, gradeability, to, maximize, ...]\n",
       "Name: word, dtype: object"
      ]
     },
     "execution_count": 214,
     "metadata": {},
     "output_type": "execute_result"
    }
   ],
   "source": [
    "# 불용어 처리 전 단어 파생변수 만들기\n",
    "cat[\"word\"] = cat[\"sentence\"].map(lambda x : \" \".join(x)).map(lambda x : x.split(\" \"))\n",
    "cat[\"word\"][:3]"
   ]
  },
  {
   "attachments": {},
   "cell_type": "markdown",
   "metadata": {},
   "source": [
    "### 불용어 처리"
   ]
  },
  {
   "cell_type": "code",
   "execution_count": 222,
   "metadata": {},
   "outputs": [
    {
     "data": {
      "text/plain": [
       "['ce', 'caterpillar', 'cat', 'caterpillar', 'cat']"
      ]
     },
     "execution_count": 222,
     "metadata": {},
     "output_type": "execute_result"
    }
   ],
   "source": [
    "# 불용어 처리해줄 단어 추가 및 저장\n",
    "stop_words_list.extend([\"caterpillar\", \"cat\"])\n",
    "pd.Series(stop_words_list).to_csv(\"../data/stop_words.csv\", index=False)\n",
    "stop_words_list[-5:]"
   ]
  },
  {
   "cell_type": "code",
   "execution_count": 223,
   "metadata": {},
   "outputs": [],
   "source": [
    "# 불용어 처리 함수\n",
    "def stop_words_out(words):\n",
    "    result = []\n",
    "    for w in words:\n",
    "        if w not in stop_words_list:\n",
    "            result.append(w)\n",
    "    return \" \".join(result)"
   ]
  },
  {
   "cell_type": "code",
   "execution_count": 227,
   "metadata": {},
   "outputs": [
    {
     "data": {
      "text/plain": [
       "0                                                        [infused, industryleading, technology, durable, d10, dozer, burns, less, fuel, increases, productivity, improves, uptime, featuring, stator, clutch, torque, converter, loadsensing, hydraulics, new, design, up, 6%, efficient, d10t2, combination, improved, technology, longer, component, life, extended, oil, changes, increased, serviceability, reduces, maintenance, repair, costs, up, 8%, helping, new, d10, deliver, industryleading, low, cost, ownership, new, d10, powered, c27, engine, offers, aftertreatment, solutions, meet, u.s, epa, tier, 4, final/eu, stage, v, well, tier, 2, equivalent, emissions, standards, meeting, needs, global, market, maximizing, material, moved, per, liter, fuel, c27, switches, power, settings, based, travel, direction, offer, up, 20%, power, reverse, reducing, cycle, times, addition, delivering, ...]\n",
       "1    [expanding, product, line, new, rm600, rm800, reclaimer/stabilizers, offer, power, performance, productivity, needed, efficiently, complete, fulldepth, reclamation, soil, stabilization, projects, versatile, machines, compete, high, end, reclaimer/stabilizer, size, class, allnew, adjustable, height, design, capable, crossslope, cutting, powerful, turbocharged, c18, engine, gives, rm600, up, 17%, power, rm500b, rm800, delivers, up, 42%, power, rm500b, up, 23%, power, rm600, reclaimer/stabilizer, models, adopt, key, rotor, system, components, cold, planers, dependable, cutting, mixing, featuring, belt, driven, rotor, drive, system, capable, flushcutting, right, side, new, system, k, rotor, same, cold, planer, fastenerfree, dualtaper, toolholder, base, block, components, deliver, superior, material, quality, range, projects, exit, returntocut, features, simplify, operation, ...]\n",
       "Name: clear_words, dtype: object"
      ]
     },
     "execution_count": 227,
     "metadata": {},
     "output_type": "execute_result"
    }
   ],
   "source": [
    "# 불용어 처리한 단어 모음 (str)\n",
    "cat[\"clear_words_str\"] = cat[\"word\"].map(stop_words_out)\n",
    "# 불용어 처리한 단어의 리스트\n",
    "cat[\"clear_words\"] = cat[\"clear_words_str\"].map(lambda x: x.split(\" \"))\n",
    "cat[\"clear_words\"][:2]"
   ]
  },
  {
   "cell_type": "code",
   "execution_count": 228,
   "metadata": {},
   "outputs": [],
   "source": [
    "# 전처리 및 불용어 처리 한 df 를 저장해주기\n",
    "cat.to_csv(\"../data/clear/cat_clear.csv\", index=False)"
   ]
  },
  {
   "attachments": {},
   "cell_type": "markdown",
   "metadata": {},
   "source": [
    "### 6개월 동안 등장한 단어 빈도\n",
    "- 2022-11-01 이후로 생각하자"
   ]
  },
  {
   "cell_type": "code",
   "execution_count": 229,
   "metadata": {},
   "outputs": [
    {
     "data": {
      "text/plain": [
       "31"
      ]
     },
     "execution_count": 229,
     "metadata": {},
     "output_type": "execute_result"
    }
   ],
   "source": [
    "cat_6month = cat[[\"Date\", \"clear_words\"]].loc[cat[\"Date\"] >= \"2022-11-01\"]\n",
    "# 2022-11-01 이후 기사 수\n",
    "cat_6month.shape[0]"
   ]
  },
  {
   "cell_type": "code",
   "execution_count": 231,
   "metadata": {},
   "outputs": [
    {
     "name": "stdout",
     "output_type": "stream",
     "text": [
      "{'infused': 1, 'industryleading': 6, 'technology': 53, 'durable': 5, 'd10': 13, 'dozer': 13, 'burns': 1, 'less': 19, 'fuel': 66, 'increases': 10, 'productivity': 51, 'improves': 20, 'uptime': 15, 'featuring': 8, 'stator': 4, 'clutch': 7, 'torque': 20, 'converter': 4, 'loadsensing': 3, 'hydraulics': 4, 'new': 192, 'design': 50, 'up': 72, '6%': 2, 'efficient': 12, 'd10t2': 2, 'combination': 8, 'improved': 22, 'longer': 18, 'component': 10, 'life': 46, 'extended': 17, 'oil': 35, 'changes': 11, 'increased': 21, 'serviceability': 2, 'reduces': 16, 'maintenance': 55, 'repair': 5, 'costs': 29, '8%': 4, 'helping': 14, 'deliver': 22, 'low': 5, 'cost': 13, 'ownership': 4, 'powered': 5, 'c27': 3, 'engine': 70, 'offers': 44, 'aftertreatment': 3, 'solutions': 23, 'meet': 16, 'u.s': 5, 'epa': 7, 'tier': 10, '4': 15, 'final/eu': 2, 'stage': 8, 'v': 7, 'well': 17, '2': 5, 'equivalent': 5, 'emissions': 9, 'standards': 6, 'meeting': 2, 'needs': 12, 'global': 36, 'market': 6, 'maximizing': 5, 'material': 48, 'moved': 2, 'per': 4, 'liter': 1, 'switches': 1, 'power': 72, 'settings': 8, 'based': 7, 'travel': 11, 'direction': 7, 'offer': 22, '20%': 4, 'reverse': 6, 'reducing': 8, 'cycle': 15, 'times': 12, 'addition': 9, 'delivering': 9, 'gains': 1, '3%': 1, '4%': 1, 'consumption': 12, 'advantage': 3, '10%': 11, 'd10t': 1, 'automatically': 21, 'frees': 1, 'multiplication': 2, 'required': 9, 'improving': 13, 'drivetrain': 5, 'efficiency': 45, 'reduced': 7, 'highload': 1, 'retarding': 4, 'conditions': 12, 'locks': 3, 'need': 7, 'operator': 120, 'input': 2, 'ground': 20, 'responsiveness': 4, 'added': 5, 'cab': 46, 'creates': 1, 'comfortable': 12, 'operating': 61, 'environment': 10, 'lowers': 4, 'noise': 7, 'vibration': 7, 'stress': 3, 'fatigue': 4, 'integrated': 17, 'electronic': 6, 'platform': 9, 'designed': 21, 'maximize': 11, 'multicolor': 1, 'touchscreen': 12, 'display': 13, 'monitors': 5, 'performance': 43, 'allows': 26, 'parameters': 3, 'quickly': 14, 'tailored': 2, 'application': 7, 'today': 8, 'innovative': 9, 'leverages': 2, 'range': 30, 'onboard': 5, 'technologies': 37, 'futureready': 1, 'integrate': 1, 'tomorrow': 2, 'advancements': 1, 'standard': 72, 'dualtilt': 1, 'automated': 4, 'blade': 24, 'assist': 13, 'aba': 1, 'workload': 1, 'automating': 3, 'movement': 1, 'preset': 2, 'load': 22, 'carry': 5, 'spread': 2, 'positions': 4, 'customizable': 2, 'site': 11, 'multiple': 11, 'optional': 27, 'increase': 33, 'including': 14, 'autocarry™': 1, 'provides': 33, 'automatic': 16, 'control': 69, 'segment': 2, 'grade': 40, '3d': 8, 'precisely': 3, 'cutting': 11, 'edge': 6, 'consistent': 9, 'grades': 5, 'ripper': 2, 'minimize': 6, 'track': 10, 'slip': 5, 'monitoring': 7, 'adjusting': 3, 'speed': 32, 'shank': 1, 'depth': 15, 'shipped': 2, 'factory': 6, 'capable': 4, 'integrating': 2, 'minestar™': 6, 'optimizes': 4, 'grading': 3, 'remote': 32, 'capabilities': 11, 'keep': 15, 'safe': 12, 'minestar': 10, 'terrain': 6, 'integrates': 2, 'full': 28, 'automatics': 1, 'overcut': 2, 'protection': 6, 'system': 73, 'decrease': 4, 'burn': 7, 'minimizes': 2, 'overfill': 1, 'rehandling': 1, 'lower': 24, 'command': 25, 'dozing': 3, 'features': 33, 'deep': 4, 'integration': 7, 'hydraulic': 42, 'systems': 15, 'operation': 40, 'delay': 1, 'quick': 22, 'response': 4, 'commands': 1, 'requiring': 3, 'onsite': 2, 'network': 7, 'requirements': 5, 'portable': 1, 'lightweight': 1, 'console': 7, 'lineofsight': 3, '400': 4, 'm': 9, '1312': 1, 'ft': 6, 'optimum': 5, 'visibility': 27, 'nonlineofsite': 1, 'station': 6, 'seat': 11, 'familiar': 3, 'controls': 17, 'flexibly': 1, 'operate': 10, 'individual': 5, 'machines': 30, 'miles': 3, 'away': 5, 'simple': 11, 'maintain': 8, 'major': 2, 'components': 16, 'frame': 9, 'powertrain': 8, 'built': 13, 'rebuilt': 4, 'remanufactured': 3, 'parts': 21, 'costeffective': 1, 'second': 10, 'likenew': 3, 'fraction': 2, 'price': 1, 'lifeenhancing': 1, 'upgrades': 4, 'made': 7, 'throughout': 2, 'help': 42, 'improve': 30, 'heavyduty': 9, 'hdxl': 1, 'duralink™': 1, 'undercarriage': 9, 'scallop': 1, 'wear': 21, '8000hour': 1, 'bushing': 1, 'seal': 1, 'delivers': 32, '20': 7, '40%': 1, 'easy': 28, 'service': 49, 'like': 15, 'replaceable': 1, 'pusharm': 1, 'trunnion': 1, 'bearing': 5, 'inserts': 1, 'spends': 1, 'time': 40, 'shop': 3, 'reengineered': 2, 'compartment': 2, 'singleplane': 1, 'cooling': 6, '30%': 6, 'resistant': 1, 'plugging': 1, 'heat': 7, 'dissipation': 1, 'extend': 7, 'easyaccess': 1, 'radiator': 4, 'door': 8, 'facilitates': 2, 'cleaning': 3, 'offering': 14, '50%': 7, 'capacity': 8, 'pan': 1, 'average': 1, 'quality': 7, 'extends': 3, 'change': 16, 'intervals': 26, 'additional': 4, '250': 1, 'hours': 25, 'part': 1, 'package': 1, 'flash': 10, 'troubleshoot': 10, 'servicing': 5, 'dealer': 41, 'remotely': 10, 'run': 17, 'diagnostic': 5, 'testing': 2, 'downtime': 9, 'send': 2, 'software': 16, 'updates': 9, 'operates': 1, 'current': 8, 'optimize': 10, 'information': 36, 'found': 20, 'contacting': 15, 'visiting': 16, 'www.cat.com.': 2, 'expanding': 4, 'product': 26, 'line': 6, 'rm600': 8, 'rm800': 7, 'reclaimer/stabilizers': 2, 'needed': 6, 'efficiently': 14, 'complete': 6, 'fulldepth': 3, 'reclamation': 3, 'soil': 12, 'stabilization': 4, 'projects': 6, 'versatile': 4, 'compete': 4, 'high': 34, 'end': 4, 'reclaimer/stabilizer': 3, 'size': 19, 'class': 7, 'allnew': 1, 'adjustable': 4, 'height': 8, 'crossslope': 2, 'powerful': 6, 'turbocharged': 1, 'c18': 4, 'gives': 6, '17%': 1, 'rm500b': 2, '42%': 1, '23%': 1, 'models': 26, 'adopt': 1, 'key': 15, 'rotor': 13, 'cold': 8, 'planers': 4, 'dependable': 1, 'mixing': 5, 'belt': 1, 'driven': 4, 'drive': 20, 'flushcutting': 1, 'right': 6, 'side': 10, 'k': 2, 'same': 7, 'planer': 3, 'fastenerfree': 1, 'dualtaper': 1, 'toolholder': 2, 'base': 5, 'block': 1, 'superior': 3, 'exit': 1, 'returntocut': 1, 'simplify': 4, 'save': 9, 'ensure': 6, 'maintains': 5, 'cut': 7, 'mix': 2, 'two': 22, 'configurations': 10, 'available': 53, 'regional': 7, 'robust': 4, 'cool': 2, 'air': 18, 'intake': 4, 'reduce': 35, 'allowing': 16, 'fans': 2, 'periodically': 1, 'clean': 6, 'exchangers': 1, 'single': 11, 'module': 1, 'ecm': 1, 'diagnostics': 5, 'fronttorear': 1, 'weight': 21, 'distribution': 1, 'optimized': 11, 'stability': 8, 'tough': 6, 'cuts': 1, 'electronically': 1, 'controlled': 5, 'allwheel': 1, 'maximizes': 3, 'traction': 11, 'mobility': 2, 'four': 14, 'legs': 1, 'provide': 21, '+': 2, '14%': 2, '8': 6, 'degrees': 6, 'slope': 8, 'working': 17, 'uneven': 2, 'challenging': 2, 'applications': 32, 'hightensile': 1, 'sixrib': 1, 'belts': 1, 'tensioning': 1, 'prevent': 7, 'slippage': 1, 'hydraulically': 3, 'actuated': 1, 'require': 4, 'adjustment': 3, 'abrasionresistant': 2, 'highstrength': 2, 'alloys': 1, 'withstand': 2, 'highpower': 1, 'tools': 12, 'strategically': 1, 'placed': 4, 'ideal': 7, 'sizing': 2, 'homogeneous': 1, 'results': 3, 'configured': 1, 'bolton': 4, 'paddle': 3, 'wedge': 1, 'drag': 1, '2438': 1, 'mm': 32, '96': 1, 'wide': 3, '508': 1, 'advanced': 14, 'plus': 8, 'front': 16, 'rear': 12, 'chamber': 5, 'doors': 3, 'enables': 4, 'instant': 1, 'modification': 1, 'gradation': 3, 'easytoread': 1, 'indicator': 2, 'informs': 1, 'float': 1, 'feature': 22, 'simplifies': 4, 'select': 4, 'desired': 2, 'down': 7, 'pressure': 10, 'bidirectional': 2, 'capability': 9, 'versatility': 6, 'wheel': 31, 'positioning': 3, 'corners': 2, 'lends': 1, 'highly': 1, 'maneuverable': 1, 'navigate': 3, 'incredibly': 2, 'small': 18, '3.1m': 1, '10.1ft': 1, 'inside': 12, 'turning': 3, 'radius': 1, 'steering': 16, 'modes': 7, 'crab': 1, 'coordinated': 2, 'further': 17, 'maneuverability': 2, 'fourpost': 1, 'adjustableheight': 1, 'precision': 8, 'water': 5, 'emulsion': 4, 'spray': 2, 'selfcleaning': 2, 'nozzles': 1, 'bitumen': 1, 'computerized': 1, 'metering': 2, 'accurate': 4, 'rates': 3, 'variable': 7, 'flow': 6, '30': 7, '1900': 1, 'l/min': 2, '500': 7, 'gal/min': 2, '850': 1, '225': 2, 'additive': 1, 'customizes': 1, 'width': 8, 'inspired': 2, 'rm400': 1, 'grouped': 4, 'function': 7, 'access': 36, 'handwheel': 1, 'precise': 9, 'easily': 9, 'matches': 5, 'functions': 8, 'specification': 1, 'via': 4, 'large': 23, '25': 4, 'cm': 1, '10': 8, 'color': 1, 'displays': 9, 'pushbutton': 6, 'sliding': 2, 'sidetoside': 1, 'positioned': 4, 'enhance': 10, 'sides': 1, 'floortoceiling': 2, 'glass': 4, 'angle': 7, 'pane': 1, 'righthand': 1, 'clear': 2, 'view': 20, 'work': 36, 'ahead': 1, 'leading': 4, 'fully': 12, 'pressurized': 3, 'conditioning': 3, 'heater/defroster': 1, 'keeping': 3, 'dust': 6, 'elements': 3, 'cameras': 8, 'augment': 1, 'safety': 35, 'enhancing': 1, 'fore': 2, 'aft': 2, 'rearmounted': 1, 'configurable': 2, 'guidelines': 1, 'mounted': 3, 'give': 2, 'operators': 62, 'obstructions': 1, 'sidemount': 1, 'views': 1, 'long': 4, 'owning': 2, 'occur': 1, 'every': 10, 'provided': 2, 'recommended': 2, 'sampling': 1, 'schedules': 3, 'followed': 1, 'coolant': 2, 'replacement': 7, '6000': 2, '12000': 3, 'respectively': 3, 'accessing': 1, 'points': 7, 'daily': 7, 'checkpoints': 2, 'centrally': 1, 'located': 5, 'secure': 7, 'compressed': 2, 'pneumatic': 1, 'bit': 1, 'mode': 19, 'locked': 5, 'supplying': 1, 'safely': 8, 'serviced': 2, 'inspect': 1, 'ring': 1, 'bits': 1, 'reaching': 4, 'simplifying': 6, 'turn': 2, 'pendant': 1, 'builtin': 1, 'monitor': 12, 'alert': 3, 'issues': 5, 'troubleshooting': 5, 'link™': 9, 'critical': 7, 'condition': 3, 'location': 15, 'data': 26, 'services': 15, 'dealers': 7, 'virtually': 3, 'diagnose': 5, 'prior': 4, 'dispatching': 2, 'technician': 2, 'perform': 3, 'repairs': 1, 'makes': 11, 'sure': 4, 'latest': 13, 'updated': 4, 'convenient': 6, 'production': 21, 'schedule': 4, 'launched': 2, 'initiative': 1, 'nomenclature': 2, 'vibratory': 9, 'compactor': 17, 'correlate': 1, 'gc': 9, 'compaction': 20, 'family': 4, 'weightbased': 1, 'names': 1, 'derived': 1, 'metric': 3, 'tonnage': 1, 'model': 17, 'competes': 1, 'additionally': 4, 'series': 10, 'descriptor': 1, 'letter': 1, 'suffix': 1, 'removed': 2, 'includes': 16, 'smooth': 2, 'padfoot': 1, 'drum': 3, 'designs': 7, 'widths': 2, 'ranging': 4, '50': 7, '84': 4, 'inches': 1, '1270': 1, '2134': 1, 'reliable': 12, 'rollers': 1, 'gradeability': 1, 'types': 3, 'cs10': 1, 'cs11': 2, 'cp11': 2, 'compactors': 5, 'retain': 1, 'include': 10, 'category': 1, 'cp34': 1, 'cp5': 1, 'cs34': 1, 'cs5': 1, 'cp44b': 1, 'cp7': 1, 'cs44b': 1, 'cs7': 1, 'medium': 13, 'cp54b': 1, 'cs54b': 1, 'cp56b': 1, 'cp12': 2, 'cs56b': 1, 'cs12': 2, 'cp13': 1, 'cs13': 2, 'cs66b': 1, 'cp68b': 1, 'cp14': 1, 'cs68b': 1, 'cs14': 1, 'cp74b': 1, 'cp16': 1, 'cs74b': 1, 'cs16': 1, 'cp76b': 1, 'cp17': 1, 'cs76b': 1, 'cs17': 1, 'cs78b': 1, 'cs19': 1, 'cs79b': 1, 'cs20': 1, 'details': 9, 'https//www.cat.com/paving.': 1, '836': 9, 'landfill': 4, 'decades': 2, 'experience': 18, 'reliability': 10, 'harshest': 1, 'environments': 2, 'engineering': 3, 'axles': 2, 'transmission': 7, 'durability': 9, 'main': 2, 'structures': 5, 'support': 14, 'cycles': 2, 'targets': 8, 'fewer': 7, 'passes': 7, 'lockup': 1, 'eliminates': 9, 'losses': 1, 'lowering': 9, 'transfers': 1, 'apecs': 1, 'helps': 16, 'achieve': 12, 'greater': 13, 'momentum': 3, 'savings': 2, 'carrying': 1, 'shift': 2, 'configuration': 7, 'options': 23, 'powering': 4, 'allow': 16, 'local': 9, 'regulation': 1, 'around': 16, 'world': 30, 'inlet': 1, 'sealing': 1, 'hood': 3, 'enclosure': 1, 'cleanout': 1, 'facilitate': 2, 'planning': 1, 'captured': 3, 'alerts': 10, 'personnel': 4, 'remaining': 1, 'useful': 1, 'filter': 23, 'compact': 6, 'combine': 6, 'measurement': 2, 'incab': 11, 'guidance': 4, 'reporting': 2, 'met': 1, 'uniformly': 2, 'navigation': 7, 'satellite': 1, 'gnss': 1, 'receiver': 1, 'top': 8, 'mapping': 3, 'pass': 6, 'highaccuracy': 1, 'counting': 2, 'areas': 6, 'coverage': 3, 'number': 6, '10in': 7, '254mm': 6, 'elevation': 2, 'combines': 7, 'slopes': 3, 'plan': 3, 'layer': 1, 'thicknesses': 1, 'better': 13, 'density': 12, 'visualized': 1, 'visionlink': 24, 'fleet': 24, 'management': 17, 'link': 5, 'idle': 6, 'events': 8, 'codes': 11, 'kept': 1, 'informed': 2, '3g': 1, 'userfriendly': 2, 'interface': 6, 'viewing': 1, 'vital': 2, 'vims™': 1, 'rugged': 4, 'simplified': 4, 'larger': 12, 'diameter': 2, 'shafts': 1, 'locker': 1, 'differentials': 2, 'enhanced': 10, 'longevity': 2, 'waste': 5, 'stream': 1, 'final': 23, 'gear': 12, 'set': 12, 'pitting': 1, 'fan': 11, 'motor': 9, 'guard': 2, 'bag': 1, 'wrapping': 1, '5in': 2, '127mm': 1, 'higher': 12, 'cleaner': 3, 'ease': 2, 'inspection': 3, 'focus': 6, 'accessed': 4, 'level': 20, 'minimizing': 4, 'fluid': 4, 'contamination': 1, 'sight': 3, 'gauges': 2, 'visual': 3, 'guarding': 2, 'mitigates': 1, 'risks': 2, 'damage': 4, 'leveraging': 1, 'vims': 1, 'technicians': 2, 'resolve': 1, 'failure': 1, 'forward': 6, 'wheels': 1, 'lowered': 1, 'rearview': 9, 'camera': 9, 'advance': 3, 'climatecontrolled': 1, 'comfort': 13, '72': 3, 'dba': 1, 'interior': 3, 'sound': 3, 'levels': 9, 'combining': 2, 'selection': 3, 'lever': 2, 'stic™': 2, 'maximum': 17, 'specifically': 3, 'five': 3, 'tip': 9, 'lighter': 1, 'traditional': 5, 'incorporates': 3, 'tips': 1, 'best': 13, 'compromise': 1, 'economy': 3, 'exclusive': 3, 'diamond': 1, 'longest': 1, 'chopper': 1, 'excels': 2, 'compacting': 1, 'wet/soft': 1, 'scheduled': 1, 'availability': 7, 'august': 1, 'wasteexpo': 1, 'attendees': 12, 'among': 2, 'first': 22, 'booth': 4, '1519': 1, '24': 9, 'orleans': 1, 'www.cat.com': 2, 'specifications': 8, 'net': 5, 't3/stage': 3, 'iiia': 3, 'hp': 14, 'kw': 13, '502': 2, '374': 2, 'gross': 3, '562': 2, '419': 2, 't4f/stage': 3, 'lb': 13, 'kg': 14, '123321': 1, '55': 1, '939': 1, '124063': 1, '56': 1, '275': 2, 'max': 16, 'f/r': 1, 'mph': 7, 'km/h': 6, '7.8': 1, '12.6': 1, '/': 2, '8.2': 1, '13.2': 1, 'advertised': 2, 'flywheel': 2, 'equipped': 18, 'minimum': 2, 'exhaust': 2, 'alternator.': 1, 'diesel': 3, 'electric': 12, 'underground': 8, 'loadhauldump': 1, 'lhd': 7, 'loader': 36, 'r2900': 8, 'xe': 10, 'meets': 2, 'mining': 22, 'industry': 22, 'bigger': 1, 'payloads': 2, 'faster': 14, 'loading': 18, 'popular': 1, 'lift': 20, 'arm': 4, 'geometry': 1, 'breakout': 4, 'force': 9, '35%': 2, 'r2900g': 3, 'works': 1, '52%': 1, 'quicker': 1, 'acceleration': 5, 'accelerates': 1, '024': 1, '014.9': 1, '6.4': 1, 'seconds': 6, 'achieves': 1, '7%': 1, 'piston': 2, 'pumps': 2, 'cylinder': 4, 'forces': 4, 'boasting': 1, '18.5tonne': 1, '20.4ton': 1, 'payload': 27, '3': 6, '4pass': 1, 'match': 7, 'ad63': 1, 'truck': 31, 'combined': 7, 'redesigned': 1, 'buckets': 5, 'sizes': 1, 'capacities': 2, '7.4': 1, '9.8': 1, 'm3': 2, '9.7': 1, '12': 9, 'yd3': 5, 'variety': 8, 'hauling': 10, 'dumping': 1, 'balance': 3, 'bucket': 22, 'engaging': 2, 'get': 12, 'modular': 10, 'weldon': 3, 'half': 1, 'arrow': 1, 'durilock™': 1, 'mechanically': 2, 'attached': 2, 'shrouds': 2, 'protect': 2, 'heel': 1, 'plates': 20, 'bars': 1, 'c15': 1, 'emission': 3, 'reduction': 2, 'eu': 5, 'v/u.s': 1, 'particulate': 2, '335': 1, '449': 1, '31%': 1, 'compared': 11, 'rpm': 6, 'highefficiency': 8, 'drawing': 1, 'proven': 7, 'switch': 2, 'reluctance': 1, 'validated': 1, 'supported': 2, 'continuously': 1, 'driveline': 1, 'shock': 2, 'loads': 6, 'smoother': 1, 'directional': 2, 'changing': 2, 'implemented': 2, 'virtual': 3, 'gears': 2, 'controllability': 2, 'prevents': 2, 'coasting': 1, 'neutral': 1, 'antirollback': 2, 'axle': 2, 'together': 11, 'fourgear': 1, 'planetary': 2, 'groups': 2, 'strength': 4, 'bearings': 1, 'brake': 3, 'flangemounted': 1, 'rims': 1, 'safer': 2, 'tire': 11, 'rim': 1, 'impact': 8, 'drives': 3, 'spin': 2, 'difficult': 4, 'underfoot': 1, 'consumable': 1, 'productive': 7, 'nextgeneration': 1, 'successful': 2, 'r1700': 1, 'incorporating': 3, 'improvements': 2, 'enclosed': 1, 'fresh': 1, 'temperaturecontrolled': 1, 'circulation': 1, 'resiliently': 1, 'rops/fops': 1, 'isolate': 3, 'ride': 3, 'emergency': 1, 'exits': 1, 'rearfacing': 1, 'sideview': 1, 'workers': 2, 'loweffort': 2, 'electricoverhydraulic': 1, 'joystick': 14, 'simultaneous': 1, 'tilt': 7, 'twopedal': 1, 'spacing': 1, 'position': 5, 'foot': 2, 'retention': 3, 'rough': 1, 'engaging/disengaging': 1, 'speeds': 4, 'dampens': 1, 'stabilizes': 1, 'pitching': 1, 'motion': 2, 'nitrogen/oil': 1, 'accumulator': 2, 'circuit': 1, 'act': 2, 'absorber': 1, 'scalable': 5, 'ships': 1, 'ready': 1, 'comprehensive': 3, 'suite': 3, 'offerings': 4, 'health': 9, 'haul': 8, 'dump': 3, 'mine': 17, 'unique': 8, 'elite': 2, 'boosts': 3, 'connectivity': 4, 'enabling': 3, 'collect': 1, 'transmit': 1, 'locally': 1, 'cloudhosted': 1, 'sites': 5, 'choose': 4, 'autonomy': 10, 'relocated': 1, 'detect': 7, 'peertopeer': 1, 'proximity': 1, 'detection': 3, 'risk': 1, 'unintended': 1, 'interactions': 1, 'people': 9, 'seeing': 1, 'dark': 2, 'realtime': 4, 'operational': 3, 'tracks': 1, 'records': 1, 'value': 7, 'chain': 1, 'collects': 3, 'transmits': 1, 'necessary': 4, 'proactive': 1, 'predictive': 1, 'analysis': 2, 'autodig': 5, 'crucial': 1, 'digging': 12, 'true': 4, 'providing': 15, 'highspeed': 1, 'auto': 17, 'tramming': 1, 'scale': 4, 'cpm': 1, 'count': 1, 'timing': 1, 'recording': 1, 'wireless': 1, 'detail': 1, 'determine': 3, 'onthefly': 1, 'tires': 3, 'properly': 2, 'inflated': 1, 'lasting': 2, 'maintained': 2, 'costperton': 1, 'moving': 5, 'mechanical': 4, 'amount': 4, 'oils': 1, 'visible': 1, 'checks': 2, 'filters': 19, 'vertically': 2, 'spillfree': 1, 'electrical': 2, 'connectors': 1, 'sealed': 4, 'lock': 9, 'moisture': 1, 'harnesses': 2, 'covered': 3, 'castings': 1, 'sacrificing': 3, 'mines': 5, 'take': 6, 'lives': 2, 'https//www.cat.com/r2900xe.': 1, 'mh3050': 8, 'handler': 5, 'premium': 9, 'electrohydraulic': 9, 'handle': 2, 'profit': 2, 'potential': 6, 'expands': 4, 'lineup': 1, 'industrial': 7, 'next': 36, 'generation': 15, 'c9.3b': 5, 'b20': 2, 'biodiesel': 2, 'maintenancefree': 1, 'finetune': 1, 'task': 11, 'hand': 8, 'choice': 7, 'smart': 23, 'boom': 16, 'stick': 12, '18': 4, '593': 2, 'reach': 19, 'move': 6, 'repositioning': 1, 'swing': 9, 'freely': 1, 'pump': 2, 'smartboom™': 1, 'grapple': 12, 'fuelefficient': 1, 'attachments': 13, 'increasing': 8, 'flexibility': 6, 'generator': 1, 'exfactory': 1, 'magnet': 1, 'elevate': 3, 'efence': 1, 'outside': 2, 'defined': 1, 'envelopes': 1, 'avoidance': 1, 'stops': 4, 'contact': 9, 'attachment': 15, 'pick': 3, 'clamshell': 1, 'estimate': 1, 'swinging': 2, 'pin': 5, 'code': 3, 'start': 8, 'id': 12, 'inhibits': 1, 'unauthorized': 1, 'tempered': 1, 'windows': 8, 'pillars': 5, 'allaround': 3, 'rightside': 1, 'option': 8, 'upgrade': 2, '360degree': 4, 'vision': 4, 'video': 3, 'feed': 1, 'area': 5, 'thick': 3, 'laminated': 2, 'highimpact': 1, 'impactresistant': 1, 'windshields': 1, 'roof': 5, 'en356': 1, 'p8b': 1, 'p5a': 2, '1800lumen': 1, 'led': 1, 'lights': 3, 'chassis': 1, 'groundlevel': 4, 'shutoff': 1, 'shuts': 3, 'check': 1, 'valves': 3, 'event': 9, 'unexpected': 1, 'loss': 1, 'always': 2, 'linkage': 5, 'securely': 1, 'place': 15, 'various': 4, 'upper': 2, 'reimagined': 2, 'comes': 8, 'eliminate': 5, 'column': 1, 'legroom': 1, 'entry': 3, 'conveniently': 4, 'avoid': 6, 'unnecessary': 2, 'movements': 3, 'highresolution': 6, 'jogdial': 1, 'intuitive': 7, 'started': 2, 'day': 2, 'recalls': 1, 'riser': 2, 'dampening': 1, 'cushion': 1, 'external': 7, 'vibrations': 2, 'captures': 3, 'usage': 5, 'fault': 8, 'tracked': 1, 'boost': 10, 'previous': 15, 'filtration': 7, '3000': 1, 'antidrain': 2, '1000operatinghour': 1, 'interval': 4, 'autolube': 2, 'greased': 1, 'eliminating': 5, 'interaction': 2, 'cores': 5, 'visit': 12, '*net': 1, '258': 1, '346': 1, '48': 3, '000': 2, '105800': 1, '110250': 1, 'ft/in': 17, '060': 1, '19': 2, '030': 1, '625': 1, 'rotary': 11, 'cutters': 6, 'excavators': 13, 'hard': 1, 'trenching': 3, 'demolition': 10, 'breaking': 2, 'confined': 1, 'urban': 1, 'sensitive': 1, 'neighborhoods': 1, 'hospitals': 1, 'produce': 1, 'decibel': 1, 'rc20': 3, 'rc30': 3, 'pinon': 1, 'stype': 1, 'grabber': 1, 'cw': 3, 'couplers': 1, 'compatible': 5, 'hydromechanical': 2, 'tool': 10, 'brackets': 2, 'smoothly': 1, 'space': 5, 'constricting': 1, 'jobs': 3, 'cutter': 4, 'manually': 2, 'turned': 2, '90': 2, '270': 1, 'adding': 2, 'lines': 4, 'kit': 6, '180': 2, 'narrow': 1, 'trenches': 4, 'dredging': 1, 'submerged': 1, 'modifications': 1, 'direct': 3, 'job': 8, 'drums': 1, 'build': 7, 'narrower': 3, 'burning': 1, 'picks': 1, 'replaced': 2, 'switched': 2, 'panels': 1, 'seals': 4, 'grease': 2, 'go': 3, 'break': 1, 'put': 2, 'tear': 3, 'entire': 5, 'source': 1, 'asset': 10, 'tracking': 4, 'viewed': 2, 'alongside': 2, 'subscribed': 1, 'tracker': 1, 'leave': 1, 'easytosetup': 1, 'boundary': 1, 'region': 8, 'https//www.cat.com': 8, 'lbs': 1, '2954': 1, '1': 15, '340': 8, '5159': 1, 'cpg': 2, 'carrier': 2, 'tons': 9, '34': 1, '28': 2, 'psi': 1, 'bar': 4, '2466': 1, '5802': 2, '170': 1, '2756': 1, '190': 1, '5500': 4, 'worldwide': 5, 'competing': 3, 'challenge': 43, 'spring': 2, 'emerged': 2, 'champion': 12, 'planet': 2, 'tuesday': 5, 'march': 8, '14': 7, 'patrick': 6, 'doheny': 7, 'australia': 11, 'took': 1, 'crown': 1, 'nine': 13, 'finalists': 13, 'competed': 3, 'round': 11, 'stadium': 4, 'las': 7, 'vegas': 7, 'yearlong': 1, 'largest': 7, 'nearly': 3, 'three': 16, 'dozen': 1, 'countries': 3, 'participating': 3, 'highlights': 2, 'amazing': 3, 'ways': 3, 'masterfully': 1, 'guide': 3, 'created': 1, 'competition': 12, 'celebrate': 1, 'advocate': 1, 'awareness': 1, 'trade': 2, 'highlight': 3, 'address': 2, 'jobsite': 10, 'challenges': 9, 'jason': 2, 'hurdis': 2, 'execution': 1, 'lead': 4, 'professional': 1, 'competitors': 3, 'especially': 1, 'showed': 2, 'tremendous': 1, 'skills': 11, 'abilities': 1, 'maneuvering': 7, 'showing': 1, 'invaluable': 1, 'role': 1, 'play': 1, 'infrastructure': 2, 'creation': 1, 'kicked': 2, 'off': 9, '10000': 6, 'signing': 1, 'prequalification': 1, 'phase': 1, 'featured': 2, 'contestants': 2, 'organized': 1, '77': 1, '32': 2, 'fall': 1, 'consisted': 1, 'held': 5, 'united': 10, 'states': 10, 'brazil': 5, 'spain': 1, 'japan': 5, 'competitions': 7, 'included': 3, 'trench': 9, 'dirt': 5, 'obstacles': 3, 'third': 7, 'week': 2, 'ultimate': 3, 'test': 7, 'teams': 2, 'team': 12, 'americas': 4, 'europe': 5, 'asia': 2, 'individually': 1, 'faced': 1, 'specially': 3, 'constructed': 1, 'stands': 1, 'bigscreen': 1, 'tvs': 1, 'playbyplay': 1, 'announcers': 1, 'finals': 9, 'fork': 3, 'n': 2, '950': 13, 'specified': 2, 'locations': 2, 'course': 8, 'backhoe': 14, 'ends': 1, '420': 2, 'open': 3, 'box': 2, 'objects': 2, 'jaus': 2, 'neigum': 2, '2020': 4, 'highlighted': 1, 'agreements': 2, '315': 2, 'excavator': 32, 'scores': 1, 'competence': 2, 'executing': 1, 'tasks': 6, 'penalties': 3, 'imposed': 1, 'errors': 1, 'awards': 4, 'overall': 4, 'lowest': 3, 'score': 1, 'completed': 9, 'machinecontrol': 1, 'return': 7, 'dig': 6, 'crowned': 4, 'awarded': 2, 'trip': 4, 'facilities': 1, 'beyond': 6, 'thrilled': 2, 'earned': 3, 'title': 1, 'kudos': 1, 'hosting': 1, 'incredible': 1, 'importance': 1, 'profession': 1, 'truly': 1, 'dream': 1, 'come': 9, 'passion': 1, 'rewarded': 1, 'way': 7, 'matt': 9, 'ferris': 8, 'łukasz': 5, 'mokrzyński': 5, 'poland': 5, 'presented': 1, 'winner': 11, 'john': 8, 'schiedeck': 12, 'fernando': 4, 'nascimento': 4, 'representing': 29, 'africa': 1, 'middle': 2, 'east': 1, 'sebastian': 3, 'behr': 3, 'germany': 3, '2019/2020': 1, '35': 2, 'pontus': 3, 'ericksson': 2, 'sweden': 3, '11': 7, '15': 5, 'arizona': 3, 'texas': 5, '16': 1, 'asiapacific': 2, 'masato': 3, 'imai': 3, 'nick': 3, 'thompson': 3, 'please': 3, 'www.cat.com/operatorchallenge.': 1, 'fullfleet': 1, 'solution': 7, 'utilization': 5, 'refreshed': 1, 'customers': 43, 'manage': 8, 'regardless': 5, 'manufacturer': 2, 'insights': 3, 'retrieve': 1, 'broader': 1, 'owned': 1, 'leased': 1, 'rented': 1, 'companies': 5, 'make': 15, 'decisions': 2, 'cloudbased': 2, 'desktops': 1, 'tablets': 1, 'mobile': 13, 'devices': 2, 'consolidates': 1, 'my.cat.com': 1, 'app': 14, 'version': 5, 'centralized': 1, 'process': 2, 'user': 4, 'accounts': 1, 'personal': 1, 'account': 4, 'subscriptions': 1, 'seamlessly': 2, 'transition': 3, 'platforms': 5, 'users': 3, 'field': 8, 'replaces': 3, 'download': 1, 'android': 3, 'ios': 3, 'stay': 2, 'date': 4, 'metrics': 1, 'assets': 10, 'smartphone': 3, 'mind': 1, 'several': 4, 'serve': 2, 'everyday': 1, 'situations': 1, 'review': 2, 'items': 2, 'bringing': 1, 'actions': 1, 'taken': 1, 'workflow': 1, 'create': 4, 'scratch': 1, 'assignment': 1, 'ensures': 2, 'progress': 1, 'completion': 1, 'documented': 1, 's∙o∙s℠': 1, 'inspections': 1, 'assigned': 1, 'receive': 2, 'requires': 1, 'immediate': 3, 'request': 1, 'order': 5, 'directly': 1, 'assign': 1, 'inapp': 1, 'name': 1, 'choosing': 1, 'easytouse': 1, 'dashboards': 1, 'geofences': 1, 'decide': 1, 'defining': 1, 'customized': 5, 'reports': 1, 'generated': 1, 'sorted': 1, 'identifying': 1, 'underutilized': 1, 'easier': 16, 'excited': 4, 'announce': 1, 'evolution': 2, 'rebranding': 1, 'streamlining': 1, 'digital': 7, 'products': 11, 'integrations': 1, 'renaming': 1, 'step': 2, 'analyze': 1, 'actionable': 2, 'making': 6, 'businesses': 1, 'ultimately': 1, 'profitable': 1, 'brand': 1, 'wherever': 1, 'tablet': 1, 'desktop': 1, 'streamlined': 1, 'subscription': 4, 'complexity': 1, 'continues': 1, 'core': 1, 'telematics': 2, 'answer': 1, 'important': 2, 'questions': 2, 'reminders': 1, 'extensive': 3, 'ecosystem': 1, 'program': 7, 'https//www.cat.com.': 4, '926': 4, '930': 5, '938': 4, 'loaders': 29, 'industryspecific': 1, 'agriculture': 1, 'forestry': 14, 'aggregate': 5, 'snow': 1, 'removal': 1, 'aftermarket': 1, 'kits': 1, 'installed': 2, 'adaptive': 1, 'adjusts': 1, 'sized': 2, 'gen': 7, '1200': 1, '1500rpm': 1, 'slower': 1, 'utility': 3, 'pickandplace': 1, 'implement': 3, 'vehicle': 2, 'fine': 1, 'throttle': 3, 'saves': 2, '5%': 2, 'freewheeling': 1, 'downhills': 1, 'hystat': 2, 'braking': 1, 'aggressive': 4, 'deceleration': 1, 'applied': 1, 'ice': 2, 'snowclearing': 1, 'soft': 1, 'shifts': 1, 'coastout': 1, 'controlling': 1, 'rimpull': 1, 'differential': 6, 'limited': 2, 'simply': 2, 'onthego': 5, 'manual': 9, '250hour': 1, 'demo': 1, 'subscribing': 1, 'weighing': 3, 'hit': 1, 'exact': 1, 'overloading': 1, 'underloading': 1, 'misloading': 1, 'materials': 8, 'kickout': 1, 'button': 7, 'shake': 1, 'batching': 1, 'spreading': 1, 'cleans': 1, 'automotive': 3, 'style': 2, 'amenities': 1, 'elevates': 1, 'smaller': 2, 'window': 3, 'heated': 8, 'mirrors': 3, 'parabolic': 1, 'multiview': 2, 'birdeye': 1, 'object': 3, 'audible': 1, 'alarms': 1, 'temperature': 6, 'defrost': 1, 'ambient': 6, 'temperatures': 7, 'lighting': 2, 'daytime': 1, 'running': 1, 'illuminates': 1, 'sun': 1, 'goes': 1, 'beacon': 1, 'atop': 1, 'wearing': 1, 'seatbelt': 1, 'expand': 2, 'advancing': 4, 'remove': 3, 'hazardous': 1, 'ergonomic': 1, 'layout': 1, 'nonlineofsight': 1, 'elevating': 1, 'different': 7, 'profiles': 4, 'recall': 1, 'starts': 2, 'feedback': 5, 'steer': 5, 'customize': 1, '40': 3, 'kmph': 1, 'result': 4, 'stiffens': 1, 'softens': 1, 'decreases': 2, 'axis': 1, 'levers': 1, 'programmable': 4, 'preference': 1, 'jog': 2, 'dial': 3, 'auxiliary': 4, 'adjustments': 8, 'screen': 1, 'creep': 1, 'parallelism': 1, 'zbar': 2, 'digs': 1, 'acts': 1, 'coupler': 4, 'patented': 2, 'positive': 6, 'fusion': 1, 'offset': 2, 'forks': 1, 'parallel': 2, 'rack': 3, 'fill': 5, 'factors': 6, 'implements': 1, 'affords': 2, 'cuttingedge': 2, 'outstanding': 1, 'corner': 1, 'excellent': 2, 'confidently': 2, 'unload': 1, 'cranked': 1, 'tine': 1, 'enhances': 5, 'significant': 7, '1000': 1, '45%': 2, '67%': 2, 'substantially': 1, 'keeps': 4, 'cabin': 1, 'shortening': 1, 'frequency': 2, 'proper': 2, 'greasing': 2, 'hinge': 1, 'limits': 2, 'conexpocon/agg': 7, 'preview': 2, '1418': 3, 'outdoor': 5, 'festival': 10, 'lot': 9, 'exhibit': 13, 'f9127': 3, 'target': 5, 'q4': 1, 'previously': 2, 'announced': 3, 'inc': 9, 'entered': 3, 'agreement': 7, 'supplier': 3, 'axenox': 7, 'acquire': 3, 'intellectual': 3, 'properties': 3, 'company': 20, 'asphalt': 15, 'paving': 17, 'screed': 35, 'threedimensional': 10, 'plate': 22, 'fastening': 5, 'exclusively': 5, 'innovations': 1, 'disrupters': 1, 'comments': 3, 'nate': 1, 'just': 5, 'marketing': 6, 'manager': 9, 'mat': 10, 'smoothness': 5, 'joint': 5, 'expense': 2, 'chances': 2, 'achieving': 3, 'bonus': 1, 'replace': 2, '80%': 3, 'paver': 2, 'brothers': 1, 'michael': 2, 'stuart': 2, 'frost': 3, 'longtime': 1, 'contractors': 5, 'owners': 5, 'invented': 1, 'operations': 8, 'basic': 1, 'never': 1, 'changed': 2, 'lifetime': 1, 'father': 1, 'brother': 1, 'developed': 1, 'own': 5, 'knew': 2, 'something': 1, 'special': 1, 'adds': 3, 'effect': 1, 'why': 2, 'chose': 1, 'secondtonone': 1, 'offered': 1, 'departure': 3, 'whereas': 3, 'flat': 7, 'utilize': 2, 'angular': 3, 'dimension': 2, 'lateral': 3, 'confinement': 3, 'kneading': 2, 'action': 4, 'interlock': 2, 'screeds': 2, 'densities': 5, '91%': 1, 'measured': 1, 'behind': 3, 'pavers': 1, 'chance': 1, 'shoving': 2, 'cracking': 1, 'roller': 5, 'longitudinal': 1, 'containment': 1, 'uniform': 1, 'gained': 1, 'bonuslevel': 1, 'stiffer': 1, 'left': 4, 'breakdown': 2, 'reaches': 2, 'tender': 1, 'zone': 1, 'produces': 3, 'stable': 3, 'unconfined': 1, 'resists': 1, 'pushing': 1, 'readings': 1, 'achieved': 3, 'cast': 2, 'chromium': 2, 'carbide': 2, 'resistance': 6, 'elevated': 2, 'attack': 2, 'grooves': 1, 'fast': 4, 'revolutionary': 3, 'days': 4, 'contractor': 3, 'onetime': 2, 'installation': 4, 'insulated': 4, 'conductor': 3, 'lockandgo': 2, 'timeconsuming': 1, 'removing': 1, 'nuts': 2, 'bolts': 2, 'holding': 3, 'once': 1, 'normal': 1, 'setup': 1, 'minimal': 2, 'future': 6, 'system.': 1, 'announces': 3, 'grader': 9, 'gb120': 2, 'gb124': 2, 'blades': 12, 'd': 1, 'd2': 1, 'ssl': 2, 'ctl': 3, 'fleets': 1, 'existing': 7, 'connections': 1, 'add': 4, 'd3': 3, 'means': 1, 'dseries': 1, 'older': 1, 'operated': 3, 'controller': 1, 'raise/lower': 1, 'wing': 1, 'wiring': 1, 'ram': 1, 'mount': 2, 'hardware': 3, 'earthworks': 1, 'go!': 1, 'selectable': 2, 'tandem': 1, 'proportional': 1, 'valuable': 1, 'experienced': 4, 'novice': 1, 'gps/gnss': 1, 'guides': 2, 'accurately': 1, 'planes': 1, 'contours': 1, 'complex': 2, 'curves': 1, 'vertical': 3, 'horizontal': 1, 'alternatively': 1, 'relative': 1, 'loaded': 8, 'takes': 2, 'guesswork': 2, 'plans': 2, 'veteran': 1, 'productively': 1, 'rework': 1, 'labor': 3, 'hookups': 1, 'install': 1, 'personalized': 1, 'launching': 2, 'ecommerce': 2, 'search': 1, 'find': 4, 'assetspecific': 1, 'central': 6, 'doitmyself': 1, 'ordering': 3, 'general': 8, 'resources': 3, 'shopping': 1, 'purchasing': 1, 'anywhere': 2, 'freeing': 1, 'already': 2, 'parts.cat.com': 1, 'expect': 2, 'theyve': 1, 'rely': 1, 'eligible': 1, 'purchase': 1, 'guest': 1, 'genuine': 2, 'verified': 1, 'fit': 4, 'scanning': 1, 'qr': 1, 'instantly': 3, 'verifiedtofit': 1, 'anytime': 1, 'specialists': 1, '24/7': 2, 'payment': 1, 'delivery': 1, 'free': 3, 'flexible': 4, 'instore': 1, 'manuals': 3, 'descriptions': 1, 'soon': 1, 'financing': 3, 'rewards': 1, 'described': 1, 'boasts': 2, 'modernized': 1, 'security': 1, 'benefit': 1, 'device': 1, 'https//parts.cat.com/en/catcorp/catcentral.': 1, 'mini': 7, 'span': 1, 'sorting': 4, 'grapples': 7, 'multipurpose': 4, 'tiltrotators': 2, 'expanded': 2, 'g306': 2, 'g308': 2, '5': 13, '6ton': 3, '7': 4, '10ton': 4, 'excel': 2, 'recycling': 1, 'handling': 4, 'placement': 1, 'close': 2, 'rotation': 4, 'head': 3, 'handled': 1, '360degrees': 1, 'slim': 1, 'tight': 2, 'spaces': 1, '160': 1, 'l': 2, '0.21': 1, '240': 1, '0.31': 1, 'perforated': 1, 'shelves': 1, 'penetration': 5, 'good': 1, 'oversized': 1, 'valve': 3, 'constant': 3, 'clamping': 1, 'even': 10, 'singleball': 1, 'internally': 1, 'hb500': 1, 'brinell': 1, 'boce': 1, 'steel': 5, 'expansion': 1, 'tiltrotator': 1, 'trs': 3, 'g206': 2, 'g208': 2, 'trs6': 1, 'trs8': 1, 'bracket': 2, 'functionality': 1, '14.5kn': 1, '3260lbf': 1, '18.4kn': 1, '4136lbf': 1, 'closing': 3, 'leakage': 1, 'hardmounted': 1, 'shifting': 3, 'optimal': 2, 'routing': 1, 'jumper': 1, 'hoses': 1, 'safeguards': 1, 'against': 2, 'infiltration': 1, 'longterm': 4, 'optimally': 1, 'matched': 1, 'rotate': 1, 'engagement': 1, 'bending': 1, 'torques': 1, 'radial': 2, 'welded': 1, 'structure': 3, 'arms': 1, 'edges': 1, 'ar450': 1, 'abrasion': 1, 'extreme': 2, 'performancematched': 2, 'cvp28': 2, 'cvp55': 1, 'relaunches': 1, 'cvp16': 1, 'cvp40': 1, 'enhancements': 1, 'suited': 1, 'sand': 3, 'gravel': 3, 'investment': 3, 'residential': 2, 'commercial': 2, 'cvp': 2, 'covering': 1, '302.7': 1, '313': 1, '304.8': 1, '660.4': 1, '26': 3, '0.19': 1, 'm2': 3, 'ft2': 4, '0.53': 1, '5.7': 1, 'frequencies': 1, '33.3': 1, 'hz': 1, '2000': 1, '2400': 1, 'vpm': 1, 'bestinclass': 1, 'particles': 1, 'solid': 1, 'rubber': 1, 'mounts': 1, 'rest': 2, 'geartype': 1, 'hydro': 1, 'cutouts': 1, 'laser': 1, 'mounting': 2, 'post': 2, 'driver': 4, 'bolt': 1, 'bottom': 1, 'specialized': 1, 'backfill': 1, 'ditch': 1, 'swivel': 1, 'rotates': 1, 'milling': 3, 'economical': 1, 'restoration': 1, 'concrete': 1, 'surfaces': 1, 'mill': 1, 'imperfections': 1, 'resurfacing': 1, 'deteriorated': 1, 'pavement': 1, 'traffic': 1, 'lane': 3, 'stripes': 1, '350': 2, '13.8': 1, '120mm': 1, 'pc35': 2, 'sideshift': 1, 'pc45': 2, 'pc404': 1, '450mm': 1, '17.7in': 1, '150mm': 1, '6in': 1, 'compatibility': 1, 'giving': 2, 'adjusted': 2, 'relief': 1, 'gauge': 7, 'reuse': 1, 'hammer': 6, 'center': 6, 'indicators': 1, 'tiltortator': 1, 'highperformance': 2, 'circle': 7, 'hpc': 8, '24m': 3, 'graders': 4, 'maintaining': 3, 'roads': 3, 'paired': 1, 'rail': 3, 'strips': 4, 'total': 4, 'drawbar': 4, 'moldboard': 5, '16000hour': 1, 'monthly': 2, 'planned': 1, 'frequent': 1, 'strip': 1, 'shoe': 1, 'associated': 1, 'conventional': 3, 'circles': 2, 'machining': 1, 'tolerances': 1, 'perfectly': 1, 'align': 1, 'proprietary': 1, 'heavy': 6, 'duty': 1, 'gearboxes': 2, 'forged': 1, 'pinion': 4, 'shaft': 2, 'gearbox': 1, 'sealedforlife': 1, 'clutches': 2, 'significantly': 2, 'assemblies': 1, 'hour': 3, 'brass': 1, 'shim': 1, 'effortless': 1, 'lube': 1, '16000': 2, 'depending': 2, 'shape': 2, 'dowel': 1, 'locators': 1, 'motors': 1, 'tooth': 1, 'teeth': 1, 'reached': 2, 'limit': 2, 'rotated': 1, 'double': 3, 'connection': 1, 'retrofittable': 2, 'pairing': 1, '8.5m': 3, '28ft': 3, '37%': 1, 'accommodate': 1, 'slowing': 1, 'bogging': 1, '16%': 1, '7.3m': 1, '24ft': 1, 'spent': 1, 'windrow': 2, 'wider': 6, 'brings': 2, 'back': 2, 'spec': 1, 'supporting': 2, 'ultraclass': 1, 'trucks': 25, 'places': 1, 'farther': 1, 'tandems': 1, 'connected': 5, 'overview': 1, 'introduction': 1, 'https//www.cat.com/lmg.': 1, 'rounds': 1, 'putting': 1, 'machinery': 1, 'original': 2, 'grounds': 3, 'f4455': 2, 'livestreamed': 1, 'cat.com': 3, 'showcasing': 1, 'ability': 8, 'thousands': 1, 'industries': 11, 'registering': 1, 'jessica': 2, 'nunley': 3, 'narrowing': 1, 'participants': 7, 'hosted': 1, 'semifinalists': 1, 'north': 6, 'america': 7, 'south': 2, 'standing': 1, 'crowning': 1, 'interesting': 1, 'involved': 1, 'revealed': 1, 'helped': 1, 'assured': 1, 'performing': 1, 'smith': 2, 'master': 1, 'join': 2, 'executed': 1, 'targeted': 2, 'depths': 1, 'hitting': 4, 'scoring': 1, 'spectators': 2, 'watch': 1, 'able': 2, 'attend': 2, 'inperson': 1, 'livestreaming': 1, 'website': 1, 'finish': 1, 'sharing': 1, 'expertise': 2, 'social': 3, 'media': 3, 'follow': 2, 'pages': 1, 'facebook.com/catconstruction': 1, 'latin': 1, 'facebook.com/catconstruccion': 1, 'facebook.com/catconstructionemea': 1, 'facebook.com/catconstructionau': 1, 'nevada': 2, '9': 4, 'a.m': 1, 'p.m': 2, 'pdt': 2, 'live': 4, 'broadcast': 2, 'www.cat.com/en_us/campaigns/event/conexpo2023/livebroadcast.html': 1, 'allexpensepaid': 1, 'www.cat.com/operatorchallenge': 3, 'image': 11, 'demanding': 4, '352': 17, 'straight': 8, 'lowlevel': 1, 'stories': 1, 'bridges': 2, 'infrastructures': 1, 'stick/boom': 1, '12.85': 1, '422': 1, '36%': 1, '6000kg': 1, '13228lb': 1, 'excavating': 5, '11.35tonne': 1, '25022lb': 1, 'removable': 1, 'counterweight': 5, 'transportation': 4, '2990': 1, '910': 1, '197': 1, 'debris': 6, 'reinforced': 5, 'booms': 1, 'sticks': 1, 'falling': 2, 'guards': 1, 'fogs': 1, 'sloped': 1, 'mud': 1, 'accumulation': 1, 'pins': 1, 'bushings': 1, 'guiding': 1, 'starting': 3, 'remembered': 1, 'enters': 1, 'singlehand': 1, 'shorter': 1, 'lifting': 1, 'aware': 1, 'tipping': 3, '2d': 5, 'estimates': 2, 'righthandsideview': 1, 'upgraded': 1, 'wiper': 1, 'washer': 1, 'cooled': 3, 'fieldproven': 2, '330kw': 2, '443hp': 2, 'c13b': 2, 'highpressure': 1, 'circuits': 1, 'eco': 3, 'harnessing': 1, 'updating': 1, 'interrupting': 4, 'pushed': 1, 'synchronized': 5, '1000hour': 6, 'longlife': 3, 'purging': 1, 'replacing': 1, '548': 10, 'forest': 8, 'tree': 1, 'reputation': 1, 'brent': 2, 'uitermarkt': 6, 'vice': 3, 'president': 8, 'log': 8, 'c7.1': 5, 'twin': 3, 'turbo': 3, 'cover': 1, 'ever': 1, 'coldstart': 4, '25˚': 2, 'f': 8, '32˚': 2, 'c': 8, '126˚': 2, '52˚': 4, 'enable': 3, 'yearround': 2, 'certified': 3, '1.25in': 2, '32mm': 2, 'polycarbonate': 2, 'windshield': 3, '25%': 5, 'stand': 3, 'due': 5, 'panoramic': 2, 'risers': 2, '22': 3, '558': 12, '1219': 2, '1829': 2, 'tilting': 2, 'transport': 3, 'ingress': 2, 'egress': 2, 'taller': 2, 'tiltup': 3, 'sideentry': 2, 'dual': 3, 'hvac': 4, 'summer': 2, 'subfreezing': 2, 'winter': 2, 'push': 2, 'bluetooth': 4, 'fob': 4, 'store': 4, 'preferences': 4, 'menus': 1, 'reference': 2, 'pl161': 2, 'locator': 2, 'assists': 2, 'finding': 4, '200': 3, '60': 4, 'overgrowth': 2, 'consume': 2, 'contributes': 2, '15%': 3, 'pilot': 4, 'altogether': 2, '3000hour': 2, 'runs': 2, 'reversing': 2, 'modern': 2, 'cell': 2, 'analyzes': 2, 'share': 2, 'loggers': 2, 'dedicated': 3, 'business': 5, 'winning': 2, 'really': 2, 'beat': 2, '205': 1, '83330': 1, '37': 4, '800': 1, '89730': 1, '700': 1, '3211': 1, '040': 1, '376': 1, '440': 1, 'pull': 2, 'lbf': 3, 'kn': 5, '66319': 1, '295': 1, 'lbft': 2, '100308': 1, '136': 1, 'seasoned': 1, 'woods': 1, 'timber': 1, 'builds': 2, 'benefits': 4, 'spend': 1, 'money': 1, '7.1': 2, 'generates': 1, 'hilly': 1, 'becomes': 1, 'accomplish': 1, '559': 1, 'fixed': 4, 'easytoreach': 1, 'function;': 1, 'owner': 1, 'perfect': 1, 'logs': 1, 'comfortably': 1, 'committed': 2, '302': 1, '91490': 1, '41': 1, '97660': 1, '44': 1, '300': 1, '3410': 1, '620': 1, '414': 1, '590': 1, '78638': 1, '113584': 1, '154': 1, '962': 8, 'simpletouse': 3, 'efficiencies': 4, 'applicationspecific': 2, 'toughest': 2, 'electronics': 2, 'regeneration': 1, 'korea': 1, '2014': 1, 'priming': 1, 'fuelwater': 1, 'separator': 1, 'secondary': 1, 'validation': 3, 'unmatched': 2, 'weighing*': 1, 'real': 2, 'automate': 3, 'promotes': 1, 'technique': 1, 'customerspecific': 1, 'touch': 3, 'facilitating': 1, 'aids': 1, 'wirelessly': 1, 'connecting': 2, 'office': 3, 'essential': 1, 'factbased': 1, 'lists': 1, 'profitability': 1, 'detailed': 1, 'consistently': 1, 'locktolock': 1, '5speed': 1, 'scuffing': 1, 'z': 3, 'resulting': 1, 'fusion™': 1, 'leaving': 1, 'suppression': 1, 'viscous': 1, 'quieter': 1, 'accuracy': 1, 'hmu': 2, 'seatmounted': 1, 'lowarmfatigue': 1, 'dashboard': 1, 'afford': 1, 'rearvision': 2, 'spot': 1, 'radar': 2, 'light': 2, 'underhood': 1, 'ongoing': 1, 'thanks': 1, 'department': 1, 'problems': 1, 'ensuring': 2, 'pushes': 1, 'background': 1, 'initiated': 1, 'manner': 1, 'ordered': 2, 'subject': 3, 'reinforcement': 1, '*': 2, 'legal': 1, 'stagev': 1, '4f': 1, 'iso': 3, '143962002': 1, '186': 1, '249': 1, '201': 1, '269': 1, '260': 1, '42461': 1, '171': 1, '44469': 1, 'static': 1, '961': 1, '26369': 1, '487': 1, '27529': 1, '181': 1, '40690': 1, '189': 1, '42489': 1, '2.679.90': 2, '3.513': 2, 'hingepin': 2, '009': 1, '13': 2, '223': 1, '514': 1, '511': 1, 'sis2go': 6, 'puts': 1, 'fingertips': 1, 'opportunity': 2, 'omm': 1, 'identify': 1, 'verify': 1, 'orders': 1, 'independent': 1, 'charge': 1, 'affordable': 1, 'annual': 2, 'stepbystep': 1, 'procedures': 2, 'tooling': 1, 'schematics': 1, 'companion': 1, 'sis2.0': 1, 'https//www.cat.com/sis2go.': 1, 'paying': 1, 'tribute': 1, '70000': 2, '6500': 1, 'demonstration': 5, 'arena': 1, 'anchor': 1, 'massive': 1, 'known': 1, 'expo': 3, 'sustainability': 9, 'hubs': 1, 'visitors': 6, 'look': 3, 'iron': 2, 'batteryelectric': 4, 'prototypes': 3, 'unveilings': 1, 'charging': 2, 'stations': 7, 'demonstrations': 2, 'day;': 1, 'focused': 1, 'spotlight': 3, 'dive': 1, 'topics': 1, 'treated': 1, 'slated': 1, 'late': 1, 'division': 2, 's84329': 1, 'hall': 2, 'rapidly': 1, 'growing': 1, 'portfolio': 1, 'unveiling': 1, 'internal': 1, 'combustion': 1, 'leadingedge': 1, 'lithiumion': 2, 'battery': 9, 'development': 3, 'engines': 3, 'c3.6': 1, 'ipu': 1, 'hydrotreated': 1, 'vegetable': 1, 'hvo': 1, 'en15940': 1, 'sustainable': 7, 'showcase': 4, 'technical': 1, 'leveraged': 1, 'lifecycles': 1, 'offhighway': 3, 'hub': 10, 'scan': 1, 'specific': 3, 'answers': 1, 'another': 4, 'servicerelated': 1, 'repairing': 1, 'apps': 1, 'matter': 2, 'experts': 3, 'sme': 1, 'cva': 1, 'rebuild': 1, 'programs': 2, 'endoflife': 1, 'reman': 1, 'bring': 2, 'buying': 1, 'selfservice': 1, 'prefer': 1, 'members': 2, 'financial': 3, 'discuss': 1, 'leasing': 1, 'card': 1, 'packages': 1, 'investments': 1, 'looking': 3, 'repair/rebuild': 1, 'decision': 1, 'smes': 1, 'budget': 1, 'centerpiece': 2, 'cube': 1, 'interactively': 1, 'showcases': 2, 'geofence': 1, 'theft': 1, 'time/fuel': 1, 'interactive': 1, 'wall': 1, 'invites': 1, 'explore': 1, 'noncat': 1, 'nonmachine': 1, 'tinaja': 1, 'hills': 1, 'learning': 1, 'learn': 8, 'try': 1, 'strike': 1, 'pay': 2, 'win': 2, 'prize': 1, 'alternative': 1, 'sources;': 1, 'budget;': 1, 'energy': 7, '301.9': 1, '320': 1, '906': 1, 'ac': 1, 'dc': 1, 'caterpillardesigned': 1, 'batteries': 2, 'celebrating': 1, 'quest': 1, 'prove': 2, 'registered': 1, '20222023': 1, '3500': 2, 'semifinals': 4, 'demonstrate': 1, 'skill': 1, 'stamina': 1, 'hopes': 1, 'named': 1, 'conexpo': 1, 'eriksson': 1, 'zeppelin': 2, 'bergerat': 1, 'monnoyeur': 1, 'holt': 5, 'usa': 2, 'empire': 2, 'pesa': 1, 'nippon': 1, 'william': 1, 'adams': 2, 'cavpower': 1, 'kick': 1, 'morning': 1, 'immediately': 1, 'following': 2, 'grand': 1, 'opening': 1, 'ceremonies': 1, 'identical': 1, 'hauling/maneuvering': 1, 'afternoon': 1, 'encouraged': 1, 'firsthand': 1, 'https//www.cat.com/en_us/campaigns/event/conexpo2023.html.': 1, 'thirtyfive': 1, 'winners': 3, 'gathered': 1, 'clayton': 2, 'n.c': 1, 'mastery': 2, 'efficiencyboosting': 1, 'victorious': 1, 'goc': 5, 'besting': 1, 'october': 4, 'finished': 1, '2530': 1, 'eastern': 4, 'semifinal': 3, 'calm': 1, 'myself': 1, 'six': 1, 'minutes': 3, 'seemed': 1, 'commented': 2, 'humbled': 1, 'blessed': 1, 'later': 1, 'thursday': 1, 'kinkaid': 1, 'civil': 2, 'short': 2, '3215': 1, 'emerging': 1, 'western': 4, 'think': 1, 'little': 1, 'boy': 1, 'dreamed': 1, 'holes': 1, 'grew': 1, 'explained': 2, 'feel': 1, 'proud': 2, 'exited': 1, 'happy': 1, 'edward': 1, 'j': 1, 'rapp': 1, 'training': 1, 'officials': 1, 'divided': 1, 'puerto': 1, 'rico': 1, 'canada': 3, 'regions': 1, 'went': 2, 'great': 2, 'lengths': 1, 'playing': 1, 'tarped': 1, 'rain': 1, 'night': 1, 'affect': 1, 'section': 1, 'saw': 1, '20ft': 1, 'transitioned': 1, 'twofeet': 1, 'onefootdeep': 1, 'midway': 1, 'marked': 1, 'pipes': 1, 'face': 1, 'stiff': 1, 'ryan': 2, 'totton': 2, 'gulf': 2, 'brunswick': 1, 'toromont': 2, 'almost': 1, 'anything': 1, 'obstacle': 1, 'slight': 1, 'deviation': 1, 'path': 2, 'resulted': 1, 'knocking': 1, 'balls': 3, 'cones': 3, 'costly': 1, '7.5': 2, 'bin': 1, 'trips': 1, 'tipped': 1, 'tipoff': 1, 'aid': 1, 'exchanged': 1, 'forklift': 1, 'sports': 1, 'maneuvered': 2, 'onto': 1, 'trailer': 1, 'picked': 2, 'again': 2, 'returned': 1, 'bonanza': 4, 'tested': 1, 'ibeam': 1, 'bungy': 1, 'cords': 1, 'facing': 1, 'penalty': 1, 'tennis': 1, 'square': 1, 'beam': 1, 'finally': 1, 'scooped': 1, 'pylons': 1, 'deposited': 1, 'going': 1, 'raise': 1, 'difficulty': 1, 'mentioned': 1, 'dustin': 1, 'dozers': 2, 'seven': 3, 'testament': 2, 'culmination': 1, 'months': 2, 'participation': 1, 'registrants': 1, 'commenting': 1, 'tony': 2, 'pennington': 1, 'carolina': 3, 'sends': 1, 'message': 1, 'appreciated': 1, 'participate': 1, 'twoday': 1, 'twotime': 1, 'alfonso': 1, 'fajardo': 1, 'spartan': 1, 'hearing': 1, 'recognized': 3, 'robert': 1, 'donnellan': 1, 'cac': 1, 'ho': 1, 'penn': 1, 'tom': 1, 'gardocki': 1, 'ninja': 1, 'era': 1, 'excavation': 1, 'llc': 1, 'milton': 1, 'steve': 2, 'newman': 4, 'rentals': 2, 'quinn': 2, 'david': 1, 'gruhot': 1, 'dg': 1, 'ziegler': 1, 'ben': 1, 'dunbar': 1, 'windley': 1, 'contracting': 1, 'ltd': 1, 'finning': 1, 'daniel': 1, 'ludtke': 1, 'dirtwerz': 1, 'california': 1, 'irving': 2, 'nyse': 2, 'collaboration': 2, 'luck': 15, 'stone': 11, 'nation': 2, 'familyowned': 2, 'producer': 2, 'crushed': 2, 'deploy': 1, 'autonomous': 31, 'bull': 2, 'plant': 1, 'chantilly': 1, 'virginia': 2, 'deployment': 1, 'aggregates': 1, '100tonclass': 1, '90tonneclass': 1, '777': 4, 'accelerate': 1, 'quarry': 5, '777g': 1, 'gain': 1, 'tailor': 1, 'project': 4, 'supports': 2, 'currently': 1, 'partnership': 1, 'grounded': 1, 'shared': 1, 'values': 3, 'many': 3, 'charlie': 2, 'ceo': 1, 'believe': 2, 'innovation': 2, 'commitment': 2, 'propelling': 1, 'exciting': 1, 'possibilities': 1, 'opportunities': 3, 'associates': 3, 'grow': 1, 'partner': 2, 'longstanding': 1, 'relationship': 1, 'demonstrated': 1, 'denise': 3, 'johnson': 4, 'group': 4, 'resource': 5, '2024': 1, 'history': 1, 'automation': 2, 'leader': 2, 'numbering': 1, '560': 2, 'traveled': 2, '187': 1, 'million': 13, 'kilometers': 1, 'autonomously': 4, '5.1': 1, 'billion': 4, 'tonnes': 7, 'notably': 1, 'zero': 1, 'losttime': 1, 'injury': 1, '2021': 6, 'sales': 1, 'revenues': 1, '$51.0': 1, 'natural': 1, 'gas': 3, 'turbines': 1, 'dieselelectric': 1, 'locomotives': 1, '100': 6, 'contributing': 1, 'reducedcarbon': 1, 'backed': 1, 'exceptional': 1, 'succeed': 1, 'continent': 1, 'principally': 1, 'primary': 2, 'segments': 1, 'related': 1, 'caterpillar.com': 1, 'conversation': 1, 'channels': 2, 'generations': 1, 'leadership': 4, 'building': 3, 'strong': 1, 'communities': 1, 'responsive': 1, 'creative': 1, 'environmental': 1, 'foundation': 2, 'buildings': 1, 'integrity': 1, 'creativity': 1, 'ignite': 1, 'themselves': 1, 'others': 1, 'community': 1, 'utilizing': 1, 'relationships': 1, 'redefine': 1, 'possible': 1, 'enduring': 1, '29': 2, '900': 1, 'headquartered': 1, 'richmond': 1, 'founded': 1, 'charles': 1, 'jr': 1, '1923': 1, 'iv': 1, 'leads': 1, 'today.': 1, 'gold': 6, 'newmont': 8, 'corporation': 3, 'boddington': 5, 'recently': 1, 'surpassed': 1, '110': 2, 'milestone': 3, 'hauled': 5, 'haulage': 4, 'ahs': 6, 'pit': 1, 'surface': 1, 'delivered': 1, '19.7': 1, 'grams': 2, '696000': 1, 'oz': 1, '4.6': 1, '163000': 1, 'ounces': 1, 'metals': 1, '36': 3, '793f': 6, '793d': 1, 'staffed': 2, 'conversion': 2, 'fastest': 1, 'spanning': 1, 'approximately': 1, 'roll': 1, 'invested': 1, '$150': 1, 'goals': 2, 'extending': 1, '231tonne': 1, '256ton': 1, 'converted': 1, 'retrofitted': 1, 'last': 3, 'benchmark': 1, 'period': 1, 'rollout': 1, 'kosie': 1, 'teamwork': 1, 'talented': 2, 'workforce': 1, 'westrac': 1, 'understanding': 1, 'excellence': 1, 'vehicles': 6, 'entirely': 1, 'intelligence': 1, 'collected': 1, 'analyzed': 1, 'workspace': 1, 'tiered': 1, 'seating': 1, 'screens': 3, 'room': 2, 'everyone': 1, 'james': 1, 'earl': 1, 'superintendent': 1, 'extremely': 1, 'record': 1, 'implementation': 1, 'example': 1, 'trademark': 1, 'ambitious': 1, 'achievement': 1, 'evidence': 1, 'transformational': 2, 'strategic': 1, 'alliance': 1, 'agreed': 1, 'november': 1, 'collaborate': 2, 'initiatives': 2, 'outcomes': 1, 'efforts': 1, 'responsible': 1, 'www.newmont.com': 1, 'walking': 1, 'aisles': 1, 'convention': 1, 'west': 1, 'ces': 6, 'big': 8, '100ton': 1, 'welcome': 1, 'distinctive': 1, 'yellow': 1, 'represents': 1, 'distance': 1, 'twice': 1, 'earth': 1, 'circumference': 1, 'proving': 2, 'breakthrough': 1, 'innovators': 1, 'hightech': 3, 'seen': 1, 'century': 1, 'realizing': 1, 'senior': 1, 'marc': 1, 'cameron': 1, 'miners': 2, 'unearth': 1, 'everything': 1, 'exhibited': 1, 'diverse': 1, 'growth': 1, 'roughly': 1, '6300': 1, 'sq': 1, 'january': 1, '58': 1, 'highprecision': 1, 'aspect': 1, 'fassino': 1, 'skid': 1, 'contribute': 1, 'dwarfs': 1, 'nearby': 1, 'cars': 1, 'board': 1, 'themed': 1, 'experiences': 1, 'developing': 1, 'responsibility': 1, 'covers': 1, 'focuses': 2, 'creating': 1, 'bed': 1, 'ipad': 2, 'augmented': 1, 'reality': 1, 'focusing': 1, 'hundreds': 1, 'universal': 1, 'transformation': 1, 'develop': 2, 'frontier': 1, 'electricity': 1, 'release': 1, '793': 18, 'transform': 1, 'arizonabased': 1, 'prototype': 2, 'early': 4, 'learner': 4, 'definitive': 1, 'electrification': 1, 'bhp': 1, 'freeportmcmoran': 1, 'rio': 1, 'tinto': 1, 'teck': 1, 'came': 2, 'accelerated': 1, 'pace': 1, 'commitments': 2, 'near': 1, 'accelerating': 1, 'approach': 1, 'participant': 1, 'greenhouse': 1, 'objective': 1, 'closely': 1, 'undergoes': 1, 'witness': 1, 'sevenkilometer': 1, '4.3mile': 1, 'monitored': 1, '1100': 1, 'gathering': 1, '110000': 1, 'validate': 1, 'simulation': 1, 'modeling': 1, 'rated': 1, '37.3': 1, 'kilometer': 2, '0.62': 2, 'mile': 2, 'performed': 1, 'downhill': 1, 'capturing': 1, 'normally': 1, 'lost': 1, 'regenerating': 1, 'upon': 1, 'completing': 1, 'enough': 1, 'cycles.': 1, '7.5ton': 1, '336': 1, '40tonne': 1, '45ton': 1, 'brian': 2, 'abbott': 2, 'additions': 1, 'harsh': 1, 'attest': 1, 'demands': 2, 'saving': 1, 'tasks;': 1, '1500': 2, '27': 2, 'competitive': 4, '40ton': 1, 'highambient': 1, '125˚': 2, '18˚': 2, '0˚': 2, '4500': 2, '14764': 2, 'sea': 2, 'suitable': 1, 'warmup': 2, 'gets': 2, 'prolongs': 1, 'precleaner': 2, 'online': 1, 'web': 2, 'connect': 2, 'update': 2, 'deluxe': 3, 'trim': 2, 'cabs': 2, 'airsuspension': 4, 'ventilated': 2, 'lefthand': 2, 'keyless': 2, 'passcode': 2, 'restore': 2, 'pattern': 2, 'host': 2, 'indication': 1, 'radios': 2, 'thirdparty': 2, 'suppliers': 2, 'offsets': 2, 'checker': 2, 'stop': 2, 'warns': 2, 'continuous': 3, 'firing': 2, '14396': 1, '259': 1, '347': 1, '82700': 1, 'depth*': 2, '8210': 2, 'line*': 2, '760': 1, '38': 1, 'height*': 2, '7470': 1, '6': 3, '*6.5m': 1, '21': 2, '3.9m': 1, 'oxclaw': 3, 'textured': 3, 'bullox': 3, 'bonuses': 1, 'heavier': 1, 'highcapacity': 1, 'hammers': 1, 'retracts': 1, '2390mm': 1, '7ft': 1, '150': 2, 'onehand': 1, 'cruise': 1, 'traveling': 2, 'ignition': 1, 'accomplished': 1, '45': 1, 'percent': 1, 'indicates': 1, 'auditory': 1, 'singlelever': 1, 'upgrading': 1, 'edit': 1, 'operatordefined': 1, 'setpoints': 1, 'conserving': 1, 'encountering': 1, 'handy': 1, 'picking': 1, 'sandboxes': 1, 'pipe': 1, 'let': 1, 'shares': 2, 'prolonging': 1, 'cools': 1, 'demand': 1, '9249': 1, '330': 1, '443': 1, 'weight*': 1, '111300': 1, 'weight**': 1, '51': 1, '113500': 1, 'depth**': 1, '7080': 1, '23': 1, '39': 1, 'line**': 1, '310': 1, '7420': 1, 'height**': 1, '7380': 1, 'muffler': 1, 'alternator': 1, 'r3.9tb': 1, '3.30m3': 1, '4.32yd3': 1, 'gdc': 1, '900mm': 1, '35in': 1, 'triple': 2, 'grouser': 2, 'shoes': 2, '9.8mt': 2, '21605lb': 2, '**': 1, 'r2.9tb': 1, '2.50m3': 1, '3.27': 1, 'sd': 1, '600mm': 1, '24in': 1, 'sold': 1, 'highest': 1, '244': 1, '265': 1, 'body': 7, 'empty': 1, 'finetunes': 1, 'ton': 1, 'travels': 1, 'classleading': 1, '12.9': 1, 'selects': 1, 'c17516': 1, '3.8': 1, 'liters': 1, 'gallons': 1, 'overhaul': 1, 'cartridge': 1, '1976': 1, '2650': 1, 'rating': 1, 'strategy': 1, 'coaching': 1, 'autohoist': 1, 'inputs': 2, '2.5': 1, '2.75': 1, 'improvement': 1, 'msd': 2, 'ii': 1, 'mature': 1, 'structural': 1, 'unite': 1, 'geometric': 1, 'highvolume': 1, 'coal': 1, 'mbps': 1, 'twowire': 1, 'ethernet': 1, 'transfer': 2, 'futureproof': 1, 'factoryequipped': 1, 'elite™': 1, '4g/lte': 1, 'cellular': 1, 'cellular/satellite': 1, 'wifi': 1, 'networks': 1, '550': 1, 'reported': 1, '11%': 1, 'nearcontinuous': 1, 'system;': 1, 'surround': 1, 'view;': 1, 'safetyfocused': 1, 'common': 1, '785': 1, '789': 1, 'driving': 1, 'ideally': 1, 'consolidate': 1, 'hepa': 1, 'respirable': 1, '96%': 1, 'confidencebuilding': 1, 'drivability': 1, 'antilock': 1, 'dynamic': 1, 'intention': 1, 'warn': 1, 'stationary': 2, 'hazards': 1, 'vicinity': 1, 'detects': 1, 'moment': 1, 'distraction': 1, 'identified': 1, 'twofoot': 1, 'hill': 2, 'collision': 1, 'rolling': 1, 'opposite': 1, 'selected': 1, 'contributors': 1, 'heating': 1, 'ventilation': 1, 'swapped': 1, 'physical': 1, '0.5%': 1, '100000': 1, 'mild': 1, 'centrifugal': 1, 'regular': 1}\n"
     ]
    }
   ],
   "source": [
    "# 단어 하나하나 등장 갯수를 세서 dictionary 로 만들기\n",
    "histogram_6month = {}  \n",
    "\n",
    "for words in cat_6month[\"clear_words\"]: \n",
    "    for word in words:\n",
    "        histogram_6month[word] = histogram_6month.get(word, 0) + 1 \n",
    "\n",
    "print(histogram_6month)"
   ]
  },
  {
   "cell_type": "code",
   "execution_count": 234,
   "metadata": {},
   "outputs": [
    {
     "data": {
      "text/html": [
       "<div>\n",
       "<style scoped>\n",
       "    .dataframe tbody tr th:only-of-type {\n",
       "        vertical-align: middle;\n",
       "    }\n",
       "\n",
       "    .dataframe tbody tr th {\n",
       "        vertical-align: top;\n",
       "    }\n",
       "\n",
       "    .dataframe thead th {\n",
       "        text-align: right;\n",
       "    }\n",
       "</style>\n",
       "<table border=\"1\" class=\"dataframe\">\n",
       "  <thead>\n",
       "    <tr style=\"text-align: right;\">\n",
       "      <th></th>\n",
       "      <th>word</th>\n",
       "      <th>count</th>\n",
       "    </tr>\n",
       "  </thead>\n",
       "  <tbody>\n",
       "    <tr>\n",
       "      <th>20</th>\n",
       "      <td>new</td>\n",
       "      <td>192</td>\n",
       "    </tr>\n",
       "    <tr>\n",
       "      <th>108</th>\n",
       "      <td>operator</td>\n",
       "      <td>120</td>\n",
       "    </tr>\n",
       "    <tr>\n",
       "      <th>207</th>\n",
       "      <td>system</td>\n",
       "      <td>73</td>\n",
       "    </tr>\n",
       "    <tr>\n",
       "      <th>22</th>\n",
       "      <td>up</td>\n",
       "      <td>72</td>\n",
       "    </tr>\n",
       "    <tr>\n",
       "      <th>148</th>\n",
       "      <td>standard</td>\n",
       "      <td>72</td>\n",
       "    </tr>\n",
       "    <tr>\n",
       "      <th>...</th>\n",
       "      <td>...</td>\n",
       "      <td>...</td>\n",
       "    </tr>\n",
       "    <tr>\n",
       "      <th>1990</th>\n",
       "      <td>bonus</td>\n",
       "      <td>1</td>\n",
       "    </tr>\n",
       "    <tr>\n",
       "      <th>1980</th>\n",
       "      <td>nate</td>\n",
       "      <td>1</td>\n",
       "    </tr>\n",
       "    <tr>\n",
       "      <th>1978</th>\n",
       "      <td>disrupters</td>\n",
       "      <td>1</td>\n",
       "    </tr>\n",
       "    <tr>\n",
       "      <th>1977</th>\n",
       "      <td>innovations</td>\n",
       "      <td>1</td>\n",
       "    </tr>\n",
       "    <tr>\n",
       "      <th>3712</th>\n",
       "      <td>regular</td>\n",
       "      <td>1</td>\n",
       "    </tr>\n",
       "  </tbody>\n",
       "</table>\n",
       "<p>3713 rows × 2 columns</p>\n",
       "</div>"
      ],
      "text/plain": [
       "             word  count\n",
       "20            new    192\n",
       "108      operator    120\n",
       "207        system     73\n",
       "22             up     72\n",
       "148      standard     72\n",
       "...           ...    ...\n",
       "1990        bonus      1\n",
       "1980         nate      1\n",
       "1978   disrupters      1\n",
       "1977  innovations      1\n",
       "3712      regular      1\n",
       "\n",
       "[3713 rows x 2 columns]"
      ]
     },
     "execution_count": 234,
     "metadata": {},
     "output_type": "execute_result"
    }
   ],
   "source": [
    "# dictionary 의 데이터프레임화\n",
    "data = {\"word\":histogram_6month.keys(), \"count\":histogram_6month.values()}\n",
    "histogram_df = pd.DataFrame.from_dict(data)\n",
    "# 정렬\n",
    "histogram_df = histogram_df.sort_values(by=\"count\", ascending=False)\n",
    "histogram_df"
   ]
  },
  {
   "cell_type": "code",
   "execution_count": 235,
   "metadata": {},
   "outputs": [],
   "source": [
    "histogram_df.to_csv(\"../data/count/cat_words_counts.csv\", index=False)"
   ]
  },
  {
   "attachments": {},
   "cell_type": "markdown",
   "metadata": {},
   "source": [
    "## Earthmovers"
   ]
  },
  {
   "cell_type": "code",
   "execution_count": 237,
   "metadata": {},
   "outputs": [
    {
     "data": {
      "text/plain": [
       "Index(['날짜', '기사_제목', '기사_url', '기사_내용'], dtype='object')"
      ]
     },
     "metadata": {},
     "output_type": "display_data"
    },
    {
     "data": {
      "text/html": [
       "<div>\n",
       "<style scoped>\n",
       "    .dataframe tbody tr th:only-of-type {\n",
       "        vertical-align: middle;\n",
       "    }\n",
       "\n",
       "    .dataframe tbody tr th {\n",
       "        vertical-align: top;\n",
       "    }\n",
       "\n",
       "    .dataframe thead th {\n",
       "        text-align: right;\n",
       "    }\n",
       "</style>\n",
       "<table border=\"1\" class=\"dataframe\">\n",
       "  <thead>\n",
       "    <tr style=\"text-align: right;\">\n",
       "      <th></th>\n",
       "      <th>날짜</th>\n",
       "      <th>기사_제목</th>\n",
       "      <th>기사_url</th>\n",
       "      <th>기사_내용</th>\n",
       "    </tr>\n",
       "  </thead>\n",
       "  <tbody>\n",
       "    <tr>\n",
       "      <th>73</th>\n",
       "      <td>09 March 2023</td>\n",
       "      <td>Yanmar ViO38 outstanding in its field</td>\n",
       "      <td>https://www.earthmoversmagazine.co.uk/news/view,yanmar-vio38-outstanding-in-its-field_5850.htm</td>\n",
       "      <td>If there is one thing that Yanmar Compact Equipment EMEA (Yanmar)’s ViO38 mini-excavator is guaranteed to offer, it’s versatility. Digging out an extensive pond in the morning, then trimming and felling roadside trees in the afternoon? That’s a typical day in the life of a ViO38. Just ask Martin Parish Contracting (MPC), a multifaceted forestry and agricultural contractor in Chulmleigh, in deepest rural North Devon. Agriculture is fundamental to Devon and its rural communities, with farming being the mainstay of the local landscape for centuries. While MPC’s owner – Martin Parish – launched his business as recently as 2016, he has been working with machinery since his teens. MPC, as is often found in the countryside, needs to be a jack of all trades, one day making household driveway alterations, to next day landscaping lakes. For these tasks and many more besides, MPC relies on a single Yanmar ViO38 mini excavator, fitting the zero-tailswing unit with various attachments and taking pleasure in regularly testing the breadth of its capabilities: “As a small business, having a multitask machine that can do everything is very important to us. We fit our Yanmar mini excavator with a variety of different buckets for landscaping and groundworks projects; a cutter for hedge and tree trimming; a wire roller and post driver for erecting our fences; a grapple for lifting timber. So many of our tasks rely on the performance of our ViO38. It’s also so easy to operate, and its cabin is really comfortable and surprisingly spacious given the machine’s compact size. This is a huge advantage given how much time we spend working in it every day.” Hydraulic Quick Coupler enables the operator to hydraulically open and close the couplers from their seat at the flick of a switch. The ViO38’s spacious and airtight cabin also features foldable pedals for more operator space, improved ergonomics, and optional air conditioning to maximise comfort around the clock. &lt;img alt=\"\" class=\"inline-image\" height=\"450\" src=\"/ugc-1/1/6/0/Yanmar CE MPC visual 3_edit.jpg\" width=\"800\"/&gt; Tough terrain Much of MPC’s daily jobs revolve around forest management, where Martin and his team will head into Devon’s dense woodland to complete drainage and maintenance work, along with other general forestry activities. These woodlands can often be found on steep valley slopes, and having a robust, reliable unit that can maintain surefootedness while working on difficult terrain is vital, explained Martin. “The forestry work is always challenging, as nine times out of 10 the conditions are steep, wet and in the middle of nowhere. We certainly put the ViO38 mini excavator through its paces with such projects, but it has stood up to the test and proven itself capable of continuing to perform reliably and efficiently.” Yanmar has combined many clever design features to make the ViO38 very stable, including a low centre of gravity and long undercarriage to ensure a smoother, safer ride. The unit i...</td>\n",
       "    </tr>\n",
       "  </tbody>\n",
       "</table>\n",
       "</div>"
      ],
      "text/plain": [
       "               날짜                                  기사_제목  \\\n",
       "73  09 March 2023  Yanmar ViO38 outstanding in its field   \n",
       "\n",
       "                                                                                            기사_url  \\\n",
       "73  https://www.earthmoversmagazine.co.uk/news/view,yanmar-vio38-outstanding-in-its-field_5850.htm   \n",
       "\n",
       "                                                                                                                                                                                                                                                                                                                                                                                                                                                                                                                                                                                                                                                                                                                                                                                                                                                                                                                                                                                                                                                                                                                                                                                                                                                                                                                                                                                                                                                                                                                                                                                                                                                                                                                                                                                                                                                                                                                                                                                                                                                                                                                                                                                                                                                                                                                                                                                                                                                                                                                                                                                                                                                                                                                                                                                                                                                                                                                                                                                                                                                                                                                      기사_내용  \n",
       "73  If there is one thing that Yanmar Compact Equipment EMEA (Yanmar)’s ViO38 mini-excavator is guaranteed to offer, it’s versatility. Digging out an extensive pond in the morning, then trimming and felling roadside trees in the afternoon? That’s a typical day in the life of a ViO38. Just ask Martin Parish Contracting (MPC), a multifaceted forestry and agricultural contractor in Chulmleigh, in deepest rural North Devon. Agriculture is fundamental to Devon and its rural communities, with farming being the mainstay of the local landscape for centuries. While MPC’s owner – Martin Parish – launched his business as recently as 2016, he has been working with machinery since his teens. MPC, as is often found in the countryside, needs to be a jack of all trades, one day making household driveway alterations, to next day landscaping lakes. For these tasks and many more besides, MPC relies on a single Yanmar ViO38 mini excavator, fitting the zero-tailswing unit with various attachments and taking pleasure in regularly testing the breadth of its capabilities: “As a small business, having a multitask machine that can do everything is very important to us. We fit our Yanmar mini excavator with a variety of different buckets for landscaping and groundworks projects; a cutter for hedge and tree trimming; a wire roller and post driver for erecting our fences; a grapple for lifting timber. So many of our tasks rely on the performance of our ViO38. It’s also so easy to operate, and its cabin is really comfortable and surprisingly spacious given the machine’s compact size. This is a huge advantage given how much time we spend working in it every day.” Hydraulic Quick Coupler enables the operator to hydraulically open and close the couplers from their seat at the flick of a switch. The ViO38’s spacious and airtight cabin also features foldable pedals for more operator space, improved ergonomics, and optional air conditioning to maximise comfort around the clock. <img alt=\"\" class=\"inline-image\" height=\"450\" src=\"/ugc-1/1/6/0/Yanmar CE MPC visual 3_edit.jpg\" width=\"800\"/> Tough terrain Much of MPC’s daily jobs revolve around forest management, where Martin and his team will head into Devon’s dense woodland to complete drainage and maintenance work, along with other general forestry activities. These woodlands can often be found on steep valley slopes, and having a robust, reliable unit that can maintain surefootedness while working on difficult terrain is vital, explained Martin. “The forestry work is always challenging, as nine times out of 10 the conditions are steep, wet and in the middle of nowhere. We certainly put the ViO38 mini excavator through its paces with such projects, but it has stood up to the test and proven itself capable of continuing to perform reliably and efficiently.” Yanmar has combined many clever design features to make the ViO38 very stable, including a low centre of gravity and long undercarriage to ensure a smoother, safer ride. The unit i...  "
      ]
     },
     "execution_count": 237,
     "metadata": {},
     "output_type": "execute_result"
    }
   ],
   "source": [
    "earth = pd.read_csv(\"../data/[article]earthmoversmagazine.csv\")\n",
    "display(earth.columns)\n",
    "earth.sample(1)"
   ]
  },
  {
   "cell_type": "code",
   "execution_count": 238,
   "metadata": {},
   "outputs": [
    {
     "data": {
      "text/html": [
       "<div>\n",
       "<style scoped>\n",
       "    .dataframe tbody tr th:only-of-type {\n",
       "        vertical-align: middle;\n",
       "    }\n",
       "\n",
       "    .dataframe tbody tr th {\n",
       "        vertical-align: top;\n",
       "    }\n",
       "\n",
       "    .dataframe thead th {\n",
       "        text-align: right;\n",
       "    }\n",
       "</style>\n",
       "<table border=\"1\" class=\"dataframe\">\n",
       "  <thead>\n",
       "    <tr style=\"text-align: right;\">\n",
       "      <th></th>\n",
       "      <th>날짜</th>\n",
       "      <th>기사_제목</th>\n",
       "      <th>기사_url</th>\n",
       "      <th>기사_내용</th>\n",
       "    </tr>\n",
       "  </thead>\n",
       "  <tbody>\n",
       "    <tr>\n",
       "      <th>132</th>\n",
       "      <td>13 January 2023</td>\n",
       "      <td>Hyundai signs up The Digger Girl for 2023</td>\n",
       "      <td>https://www.earthmoversmagazine.co.uk/news/view,hyundai-signs-up-the-digger-girl-for-2023_5735.htm</td>\n",
       "      <td>Hyundai Construction Equipment Europe (HCEE) has announced an official partnership with Amy Underwood, ‘The Digger Girl’ who will act as a brand ambassador for Hyundai CEE in 2023. As one of the industry’s most popular social media content creators, Amy has been brought on board by HCEE to raise the profile of the Hyundai brand amongst fans and fellow industry professionals, producing exclusive content and giving her followers a unique, behind the scenes insight into Hyundai’s European operations and its latest range of A-Series machines. Amy will continue to have full editorial control of her content but through her partnership with HCEE she will receive exclusive opportunities to access Hyundai’s full range of machines and will be able to create content at Hyundai’s European construction headquarters in Tessenderlo, Belgium. Dr Hubertus Muenster, Director Sales &amp; Marketing at Hyundai Construction Equipment Europe said, “Hyundai’s mantra this year is ‘Think Further, Think Future’ – a holistic commitment to becoming more innovative and future-focused across our entire operation. As part of this, we recognised the importance of developing new ways for our brand to connect with new audiences, and working with social media content creators like Amy to strengthen our online presence is a fantastic opportunity to achieve this.” &lt;img alt=\"\" class=\"inline-image\" height=\"533\" src=\"/ugc-1/1/6/0/TDG2.jpg\" width=\"800\"/&gt; Emma Dutton, Senior Marketing Manager at Hyundai Construction Equipment Europe, continued, “We have long been a supporter of Amy’s fantastic work, raising the profile of women in construction. She is a well-respected, high-profile figure in our industry and we believe the work we can do together will be really exciting. “Amy has always been extremely positive about her experiences of working with Hyundai machines and her recent trip out to our stand at Bauma was a great opportunity for her to get under the skin of Hyundai and to really experience our Think Further, Think Future ethos,” Emma continued. “We are delighted to welcome Amy on board as our 2023 brand ambassador and look forward to creating great content with her this year. Amy Underwood, The Digger Girl said, “I’m excited and proud to partner with Hyundai – a brand I have loved to use and advocated for over the years. This relationship will give me access to unique opportunities and brand new, top-of-the-line machines to try out. I can’t wait to share the photos and videos of this with those who have been following my journey. Our deal also helps me encourage more girls to get into construction and show that a successful career in this industry can also go alongside being a mum – though it’s not easy!” To find out more about The Digger Girl, check out @the_digger_girl on Instagram or TikTok. Amy is also starting a YouTube channel which will feature regular videos to document her 2023 journey – you can subscribe here: https://www.youtube.com/@the_digger_girl.</td>\n",
       "    </tr>\n",
       "    <tr>\n",
       "      <th>127</th>\n",
       "      <td>18 January 2023</td>\n",
       "      <td>Kilmac operator chooses mighty Hyundai HX85A</td>\n",
       "      <td>https://www.earthmoversmagazine.co.uk/news/view,kilmac-operator-chooses-mighty-hyundai-hx85a_5746.htm</td>\n",
       "      <td>“These will be the first three Hyundais of many,” explained Bert Hope of Tayside-based Civil Engineering and Groundworks contractor, Kilmac Ltd, who has recently taken delivery of three new, 8.5-tonne HX85A compact excavators. The company covers projects across the whole of Scotland including a huge development to introduce wider foot and cycle paths on the Dundee to Aberdeen Road – a project that supports the nationwide Active Travel initiative. Kilmac was looking to expand its fleet of excavators with something strong, good value for money and of an excellent build quality. The new 8.5-tonne A-Series machine proved to be the perfect fit – so good in fact, that Kilmac ordered three. Bert Hope, Group Buyer for Kilmac Ltd said, “We reviewed a lot of different machines based on price, performance and operator reviews and the Hyundai stood out a mile in all three areas. The operators were extremely positive about the machine’s workability and manoeuvrability, its responsiveness and, above all, the fact it’s comfortable and nice to drive. “I’m of the opinion that if I’ve got happy operators, the job will turn out better for the customer and so their feedback was very important to us,” Bert continued. “Some of our drivers have been working on sites for 30+ years and really know what makes a good machine.” &lt;img alt=\"\" class=\"inline-image\" height=\"600\" src=\"/ugc-1/1/6/0/A-HX85A-RGB-7-Kilmac Large.jpeg\" width=\"800\"/&gt; Along with a positive response to the excavator’s visibility, camera system and operator comfort, the Kilmac team discovered further benefits to the HX85A too. “These mini excavators pack a surprising punch – they dig extremely well, excavating deep but still working in a really tight space,” Bert added. “They’re spacious too – the cab is the same size as a 14-tonne machine which means it’s a much more pleasant environment for our operators to spend long days in. “But the biggest surprise has been how easy it has been to obtain parts for the machines. Especially in the current climate, this was a concern for us, but everything has been swift and efficient – the after-service care has been brilliant. We will certainly be purchasing more Hyundais in the future – they’re comfortable, easy to use, competitive on price and the safety features are second to none,” Bert said. Supplied by Hyundai Construction Equipment dealer, Agritrac, the HX85A compact excavator is part of the Hyundai A-Series – a fresh generation of construction equipment that complies with the European emission levels. The HX85A comes with many functions and features adopted from larger Hyundai excavators, which makes it a top-performing and very user-friendly machine that finds its ideal work environment on urban job sites.</td>\n",
       "    </tr>\n",
       "    <tr>\n",
       "      <th>6</th>\n",
       "      <td>16 May 2023</td>\n",
       "      <td>New Volvo R60 rigid hauler</td>\n",
       "      <td>https://www.earthmoversmagazine.co.uk/news/view,new-volvo-r60-rigid-hauler_5974.htm</td>\n",
       "      <td>The new Volvo R60 rigid hauler from Volvo Construction Equipment (Volvo CE) has been designed to get the most out of every working day – to move more for less with a higher payload and greater uptime. The all-new E-generation Volvo R60 rigid hauler is the perfect partner for heavy-duty quarrying and mining, reckons its maker. Built for markets with tier 2-compliant engines and based on the R100E model, the R60 packs a higher payload than the D-generation model it replaces, along with a durable design and new comfort and safety-enhancing features – enabling it to move more for less with every cycle. Big on efficiency Drew Watson, Global Product Manager for the Volvo R60 at Volvo CE explained, “The Volvo R60 offers a 55-tonne payload and body volume of 36m&lt;sup&gt;3&lt;/sup&gt;, enabled by a V-shaped body ensuring optimum load retention and minimal material carry-back. The rigid hauler is a perfect match for a 90-tonne excavator and meets the industry standard of 10/10/20 where it can take 10% overload for 10% of the time but should not exceed 20%. “To help operators haul the optimum amount of material, an optional On-Board Weighing system provides real-time payload insight to the hauler operator via the on-board display, and can predict the 10/10/20 payload,” Drew added. Contributing to speedy cycle times, the drivetrain combines high torque capability and high drive axle multiplication to deliver the traction force needed to take on the steepest site gradients. Not only is it productive, but the Volvo R60 is also fuel efficient. Thanks to Volvo Dynamic Shift Control, gear selection automatically adapts to varying conditions, whilst Eco mode enables the hauler to default to the most efficient gear shifting schedule. In addition, auto engine-idle shut-down eliminates unnecessary fuel consumption and engine wear. The rigid hauler is available with the Volvo CareTrack telematics system to enable remote machine monitoring and help boost efficiency even further. What’s more, customers can gain recommendations on the optimum fleet configuration and site set-up from their Volvo dealer, with the support of Volvo Site Simulation. Strong and durable Designed to deliver high uptime and low operating costs, Volvo says the R60 is built to last with a 60,000-hour life frame and a list of features that contribute to long-lasting performance and component life, including a low centre of gravity and balanced weight distribution to provide rock-solid stability and spread the impact of loads and stresses across the machine; a high-strength, flexible chassis and responsive MacPherson strut with lower wishbone connection to absorb shocks and vibrations and improve the operator ride; a V-shaped body, manufactured from high impact and high abrasion resistant steel, with minimal number of panels and welds; and neutral coast inhibitor and engine overspeed protection to further minimise wear. Servicing of the R60 is required every 500 hours and can be completed swiftly thanks to...</td>\n",
       "    </tr>\n",
       "  </tbody>\n",
       "</table>\n",
       "</div>"
      ],
      "text/plain": [
       "                  날짜                                         기사_제목  \\\n",
       "132  13 January 2023     Hyundai signs up The Digger Girl for 2023   \n",
       "127  18 January 2023  Kilmac operator chooses mighty Hyundai HX85A   \n",
       "6        16 May 2023                    New Volvo R60 rigid hauler   \n",
       "\n",
       "                                                                                                    기사_url  \\\n",
       "132     https://www.earthmoversmagazine.co.uk/news/view,hyundai-signs-up-the-digger-girl-for-2023_5735.htm   \n",
       "127  https://www.earthmoversmagazine.co.uk/news/view,kilmac-operator-chooses-mighty-hyundai-hx85a_5746.htm   \n",
       "6                      https://www.earthmoversmagazine.co.uk/news/view,new-volvo-r60-rigid-hauler_5974.htm   \n",
       "\n",
       "                                                                                                                                                                                                                                                                                                                                                                                                                                                                                                                                                                                                                                                                                                                                                                                                                                                                                                                                                                                                                                                                                                                                                                                                                                                                                                                                                                                                                                                                                                                                                                                                                                                                                                                                                                                                                                                                                                                                                                                                                                                                                                                                                                                                                                                                                                                                                                                                                                                                                                                                                                                                                                                                                                                                                                                                                                                                                                                                                                                                                                                                                                                       기사_내용  \n",
       "132                        Hyundai Construction Equipment Europe (HCEE) has announced an official partnership with Amy Underwood, ‘The Digger Girl’ who will act as a brand ambassador for Hyundai CEE in 2023. As one of the industry’s most popular social media content creators, Amy has been brought on board by HCEE to raise the profile of the Hyundai brand amongst fans and fellow industry professionals, producing exclusive content and giving her followers a unique, behind the scenes insight into Hyundai’s European operations and its latest range of A-Series machines. Amy will continue to have full editorial control of her content but through her partnership with HCEE she will receive exclusive opportunities to access Hyundai’s full range of machines and will be able to create content at Hyundai’s European construction headquarters in Tessenderlo, Belgium. Dr Hubertus Muenster, Director Sales & Marketing at Hyundai Construction Equipment Europe said, “Hyundai’s mantra this year is ‘Think Further, Think Future’ – a holistic commitment to becoming more innovative and future-focused across our entire operation. As part of this, we recognised the importance of developing new ways for our brand to connect with new audiences, and working with social media content creators like Amy to strengthen our online presence is a fantastic opportunity to achieve this.” <img alt=\"\" class=\"inline-image\" height=\"533\" src=\"/ugc-1/1/6/0/TDG2.jpg\" width=\"800\"/> Emma Dutton, Senior Marketing Manager at Hyundai Construction Equipment Europe, continued, “We have long been a supporter of Amy’s fantastic work, raising the profile of women in construction. She is a well-respected, high-profile figure in our industry and we believe the work we can do together will be really exciting. “Amy has always been extremely positive about her experiences of working with Hyundai machines and her recent trip out to our stand at Bauma was a great opportunity for her to get under the skin of Hyundai and to really experience our Think Further, Think Future ethos,” Emma continued. “We are delighted to welcome Amy on board as our 2023 brand ambassador and look forward to creating great content with her this year. Amy Underwood, The Digger Girl said, “I’m excited and proud to partner with Hyundai – a brand I have loved to use and advocated for over the years. This relationship will give me access to unique opportunities and brand new, top-of-the-line machines to try out. I can’t wait to share the photos and videos of this with those who have been following my journey. Our deal also helps me encourage more girls to get into construction and show that a successful career in this industry can also go alongside being a mum – though it’s not easy!” To find out more about The Digger Girl, check out @the_digger_girl on Instagram or TikTok. Amy is also starting a YouTube channel which will feature regular videos to document her 2023 journey – you can subscribe here: https://www.youtube.com/@the_digger_girl.   \n",
       "127                                                                                                                                                                                                                                                                   “These will be the first three Hyundais of many,” explained Bert Hope of Tayside-based Civil Engineering and Groundworks contractor, Kilmac Ltd, who has recently taken delivery of three new, 8.5-tonne HX85A compact excavators. The company covers projects across the whole of Scotland including a huge development to introduce wider foot and cycle paths on the Dundee to Aberdeen Road – a project that supports the nationwide Active Travel initiative. Kilmac was looking to expand its fleet of excavators with something strong, good value for money and of an excellent build quality. The new 8.5-tonne A-Series machine proved to be the perfect fit – so good in fact, that Kilmac ordered three. Bert Hope, Group Buyer for Kilmac Ltd said, “We reviewed a lot of different machines based on price, performance and operator reviews and the Hyundai stood out a mile in all three areas. The operators were extremely positive about the machine’s workability and manoeuvrability, its responsiveness and, above all, the fact it’s comfortable and nice to drive. “I’m of the opinion that if I’ve got happy operators, the job will turn out better for the customer and so their feedback was very important to us,” Bert continued. “Some of our drivers have been working on sites for 30+ years and really know what makes a good machine.” <img alt=\"\" class=\"inline-image\" height=\"600\" src=\"/ugc-1/1/6/0/A-HX85A-RGB-7-Kilmac Large.jpeg\" width=\"800\"/> Along with a positive response to the excavator’s visibility, camera system and operator comfort, the Kilmac team discovered further benefits to the HX85A too. “These mini excavators pack a surprising punch – they dig extremely well, excavating deep but still working in a really tight space,” Bert added. “They’re spacious too – the cab is the same size as a 14-tonne machine which means it’s a much more pleasant environment for our operators to spend long days in. “But the biggest surprise has been how easy it has been to obtain parts for the machines. Especially in the current climate, this was a concern for us, but everything has been swift and efficient – the after-service care has been brilliant. We will certainly be purchasing more Hyundais in the future – they’re comfortable, easy to use, competitive on price and the safety features are second to none,” Bert said. Supplied by Hyundai Construction Equipment dealer, Agritrac, the HX85A compact excavator is part of the Hyundai A-Series – a fresh generation of construction equipment that complies with the European emission levels. The HX85A comes with many functions and features adopted from larger Hyundai excavators, which makes it a top-performing and very user-friendly machine that finds its ideal work environment on urban job sites.   \n",
       "6    The new Volvo R60 rigid hauler from Volvo Construction Equipment (Volvo CE) has been designed to get the most out of every working day – to move more for less with a higher payload and greater uptime. The all-new E-generation Volvo R60 rigid hauler is the perfect partner for heavy-duty quarrying and mining, reckons its maker. Built for markets with tier 2-compliant engines and based on the R100E model, the R60 packs a higher payload than the D-generation model it replaces, along with a durable design and new comfort and safety-enhancing features – enabling it to move more for less with every cycle. Big on efficiency Drew Watson, Global Product Manager for the Volvo R60 at Volvo CE explained, “The Volvo R60 offers a 55-tonne payload and body volume of 36m<sup>3</sup>, enabled by a V-shaped body ensuring optimum load retention and minimal material carry-back. The rigid hauler is a perfect match for a 90-tonne excavator and meets the industry standard of 10/10/20 where it can take 10% overload for 10% of the time but should not exceed 20%. “To help operators haul the optimum amount of material, an optional On-Board Weighing system provides real-time payload insight to the hauler operator via the on-board display, and can predict the 10/10/20 payload,” Drew added. Contributing to speedy cycle times, the drivetrain combines high torque capability and high drive axle multiplication to deliver the traction force needed to take on the steepest site gradients. Not only is it productive, but the Volvo R60 is also fuel efficient. Thanks to Volvo Dynamic Shift Control, gear selection automatically adapts to varying conditions, whilst Eco mode enables the hauler to default to the most efficient gear shifting schedule. In addition, auto engine-idle shut-down eliminates unnecessary fuel consumption and engine wear. The rigid hauler is available with the Volvo CareTrack telematics system to enable remote machine monitoring and help boost efficiency even further. What’s more, customers can gain recommendations on the optimum fleet configuration and site set-up from their Volvo dealer, with the support of Volvo Site Simulation. Strong and durable Designed to deliver high uptime and low operating costs, Volvo says the R60 is built to last with a 60,000-hour life frame and a list of features that contribute to long-lasting performance and component life, including a low centre of gravity and balanced weight distribution to provide rock-solid stability and spread the impact of loads and stresses across the machine; a high-strength, flexible chassis and responsive MacPherson strut with lower wishbone connection to absorb shocks and vibrations and improve the operator ride; a V-shaped body, manufactured from high impact and high abrasion resistant steel, with minimal number of panels and welds; and neutral coast inhibitor and engine overspeed protection to further minimise wear. Servicing of the R60 is required every 500 hours and can be completed swiftly thanks to...  "
      ]
     },
     "execution_count": 238,
     "metadata": {},
     "output_type": "execute_result"
    }
   ],
   "source": [
    "earth.sample(3)"
   ]
  },
  {
   "cell_type": "code",
   "execution_count": null,
   "metadata": {},
   "outputs": [],
   "source": []
  },
  {
   "attachments": {},
   "cell_type": "markdown",
   "metadata": {},
   "source": [
    "# 코마쯔"
   ]
  },
  {
   "cell_type": "code",
   "execution_count": 240,
   "metadata": {},
   "outputs": [
    {
     "data": {
      "text/plain": [
       "Index(['날짜', '제목', '본문'], dtype='object')"
      ]
     },
     "metadata": {},
     "output_type": "display_data"
    },
    {
     "data": {
      "text/html": [
       "<div>\n",
       "<style scoped>\n",
       "    .dataframe tbody tr th:only-of-type {\n",
       "        vertical-align: middle;\n",
       "    }\n",
       "\n",
       "    .dataframe tbody tr th {\n",
       "        vertical-align: top;\n",
       "    }\n",
       "\n",
       "    .dataframe thead th {\n",
       "        text-align: right;\n",
       "    }\n",
       "</style>\n",
       "<table border=\"1\" class=\"dataframe\">\n",
       "  <thead>\n",
       "    <tr style=\"text-align: right;\">\n",
       "      <th></th>\n",
       "      <th>날짜</th>\n",
       "      <th>제목</th>\n",
       "      <th>본문</th>\n",
       "    </tr>\n",
       "  </thead>\n",
       "  <tbody>\n",
       "    <tr>\n",
       "      <th>26</th>\n",
       "      <td>Sep. 21, 2022</td>\n",
       "      <td>- Sustainable growth through structural reform- Komatsu sells 4 production facilities in China</td>\n",
       "      <td>Komatsu Ltd. (hereafter “Komatsu”) (President &amp; CEO: Hiroyuki Ogawa) through its subsidiary, Komatsu Mining Corp. (President &amp; CEO: Peter Salditt) today announced the sale of four facilities which are a part of its underground soft rock business mining equipment in China. The facilities in Qingdao City, Shandong; Huainan City, Anhui; and Jixi City and Jiamusi City, Heilongjiang; were purchased by Jixi Gengchen Motor Manufacturing Co., Ltd. (Heilongjiang) and Nanjing Luhe Coal Mine Machinery Co., Ltd. (Jiangsu).With this divestment there is no impact on the supply and servicing of underground soft rock products for customers in China. Komatsu estimates this transaction will have minimal effect on its consolidated business results.The buyers for the four sold properties are both Chinese companies that manufacture and sell equipment and electronic components for mining of underground coal. Through this purchase, the two companies aim to further expand their business in China.Komatsu is working to provide its customers increasingly sustainable ways to extract essential minerals worldwide. The company has continued to adjust its business portfolio flexibly in response to changes in operating environments and market trends. With this sale supporting ongoing structural reforms, Komatsu continues to build on a sustainably profitable product portfolio, as well as continued focus on growth.      No : 0046（3166）Corporate Communications DepartmentSustainability Promotion DivisionKomatsu Ltd.tel: +81-(0)3-5561-2616mail: JP00MB_cc_department@global.komatsu*The information may be subject to change without notice.</td>\n",
       "    </tr>\n",
       "  </tbody>\n",
       "</table>\n",
       "</div>"
      ],
      "text/plain": [
       "               날짜  \\\n",
       "26  Sep. 21, 2022   \n",
       "\n",
       "                                                                                                제목  \\\n",
       "26  - Sustainable growth through structural reform- Komatsu sells 4 production facilities in China   \n",
       "\n",
       "                                                                                                                                                                                                                                                                                                                                                                                                                                                                                                                                                                                                                                                                                                                                                                                                                                                                                                                                                                                                                                                                                                                                                                                                                                                                                                                                                                                                                                                                                                                                                                                                                                                                                           본문  \n",
       "26  Komatsu Ltd. (hereafter “Komatsu”) (President & CEO: Hiroyuki Ogawa) through its subsidiary, Komatsu Mining Corp. (President & CEO: Peter Salditt) today announced the sale of four facilities which are a part of its underground soft rock business mining equipment in China. The facilities in Qingdao City, Shandong; Huainan City, Anhui; and Jixi City and Jiamusi City, Heilongjiang; were purchased by Jixi Gengchen Motor Manufacturing Co., Ltd. (Heilongjiang) and Nanjing Luhe Coal Mine Machinery Co., Ltd. (Jiangsu).With this divestment there is no impact on the supply and servicing of underground soft rock products for customers in China. Komatsu estimates this transaction will have minimal effect on its consolidated business results.The buyers for the four sold properties are both Chinese companies that manufacture and sell equipment and electronic components for mining of underground coal. Through this purchase, the two companies aim to further expand their business in China.Komatsu is working to provide its customers increasingly sustainable ways to extract essential minerals worldwide. The company has continued to adjust its business portfolio flexibly in response to changes in operating environments and market trends. With this sale supporting ongoing structural reforms, Komatsu continues to build on a sustainably profitable product portfolio, as well as continued focus on growth.      No : 0046（3166）Corporate Communications DepartmentSustainability Promotion DivisionKomatsu Ltd.tel: +81-(0)3-5561-2616mail: JP00MB_cc_department@global.komatsu*The information may be subject to change without notice.  "
      ]
     },
     "execution_count": 240,
     "metadata": {},
     "output_type": "execute_result"
    }
   ],
   "source": [
    "komaz = pd.read_csv(\"../data/komatsu_newsscraping.csv\")\n",
    "display(komaz.columns)\n",
    "komaz.sample(1)"
   ]
  },
  {
   "cell_type": "code",
   "execution_count": 241,
   "metadata": {},
   "outputs": [
    {
     "data": {
      "text/html": [
       "<div>\n",
       "<style scoped>\n",
       "    .dataframe tbody tr th:only-of-type {\n",
       "        vertical-align: middle;\n",
       "    }\n",
       "\n",
       "    .dataframe tbody tr th {\n",
       "        vertical-align: top;\n",
       "    }\n",
       "\n",
       "    .dataframe thead th {\n",
       "        text-align: right;\n",
       "    }\n",
       "</style>\n",
       "<table border=\"1\" class=\"dataframe\">\n",
       "  <thead>\n",
       "    <tr style=\"text-align: right;\">\n",
       "      <th></th>\n",
       "      <th>날짜</th>\n",
       "      <th>제목</th>\n",
       "      <th>본문</th>\n",
       "    </tr>\n",
       "  </thead>\n",
       "  <tbody>\n",
       "    <tr>\n",
       "      <th>52</th>\n",
       "      <td>Jan. 31, 2022</td>\n",
       "      <td>Komatsu Agrees to Make Komatsu (Changzhou) Construction Machinery a Wholly Owned Subsidiary</td>\n",
       "      <td>Komatsu Ltd. (hereafter \"Komatsu\") (President &amp; CEO: Hiroyuki Ogawa) has agreed to dissolve the equity participation of SINOMACH Changlin Co., Ltd. (hereafter \"Changlin\"), based in Jiangsu, China, and Sumitomo Corporation (hereafter \"Sumitomo\") in Komatsu (Changzhou) Construction Machinery Corp. [hereafter \"Komatsu (Changzhou)\"], based in Jiangsu, China, a joint-venture company with Changlin and Sumitomo.In 1995, Komatsu established Komatsu (Changzhou), a joint-venture manufacturer of wheel loaders in Changzhou, Jiangsu Province, with local manufacturers of construction equipment, such as Changlin. Later, Komatsu (Changzhou) added hydraulic excavators and other equipment to production and has supplied its products mainly in China.After discussing with Changlin the future directions of the business, in light of changes in the business environment for the last few years, Komatsu and Changlin have agreed to promote their respective businesses independently and dissolve Changlin’s equity participation in Komatsu (Changzhou). In line with the agreement with Changlin to dissolve its equity participation, Komatsu and Sumitomo have also agreed to dissolve Sumitomo’s equity participation in Komatsu (Changzhou). In addition, Komatsu and Sumitomo have already agreed to dissolve Sumitomo’s equity participation in Komatsu Shantui Construction Machinery Co., Ltd.Together with the partners, Komatsu will proceed with the process as required in FY2021, ending March 31, 2022, and believes that there will be no adverse effects on customers with respect to product delivery. Komatsu also anticipates that the impact of this termination on its consolidated business results will be minimal.     &lt;Outline of the Komatsu (Changzhou) Construction Machinery&gt;Name                   : Komatsu (Changzhou) Construction Machinery Corp.Located               : Changzhou, Jiangsu, ChinaRepresentative  : Quanwang Zhang, Chairman of the BoardLine of business: Manufacture of construction equipmentCapital Stock     : US $ 41 millionEstablished        : May 1995Equity                  : 85% by Komatsu (China) Ltd., 8% by Changlin, and 7% by SumitomoNo : 0088(3103)Corporate Communications DepartmentSustainability Promotion DivisionKomatsu Ltd.tel: +81-(0)3-5561-2616mail: JP00MB_cc_department@global.komatsu*The information may be subject to change without notice.</td>\n",
       "    </tr>\n",
       "    <tr>\n",
       "      <th>12</th>\n",
       "      <td>Feb.15,2023</td>\n",
       "      <td>Relief Aid to Earthquake Damages in Turkey and Syria</td>\n",
       "      <td>Komatsu Ltd. (President and CEO: Hiroyuki Ogawa) (hereinafter “Komatsu”) expresses its deepest condolences to those who lost their lives in the recent earthquake that occurred in southeastern Turkey. Komatsu also extends its deepest sympathies to all those affected by the earthquake.In cooperation with its local distributor Marubeni Dağıtım ve Servis A.Ş. (hereinafter “MDS”), a wholly owned subsidiary of Marubeni Corporation, Komatsu will lend construction equipment needed for relief efforts to the affected areas free of charge and dispatch operators and service mechanics to assist the relief efforts, which should amount to JPY 20 million equivalent. Komatsu will donate JPY 10 million through the Japanese Red Cross Society (total support of 30 million yen).Since establishing an office in Turkey in 1975, Komatsu has been engaging its locally-anchored business in Turkey, a major market in the Middle East region. Komatsu will continue to provide material assistance to help the affected areas recover as quickly as possible while monitoring the conditions with MDS.  No : 0086(3206)Corporate Communications DepartmentSustainability Promotion DivisionKomatsu Ltd.tel: +81-(0)3-5561-2616mail: JP00MB_cc_department@global.komatsu*The information may be subject to change without notice.</td>\n",
       "    </tr>\n",
       "    <tr>\n",
       "      <th>48</th>\n",
       "      <td>March 25, 2022</td>\n",
       "      <td>Komatsu Opens Parts Center in Australia: Improving customer satisfaction and optimizing operations</td>\n",
       "      <td>Komatsu Ltd. (hereafter “Komatsu”) (President and CEO: Hiroyuki Ogawa) has opened the new parts center at Komatsu Australia Pty. Ltd. (Head office: New South Wales, Australia. CEO: Sean Taylor). Komatsu has invested about JPY 4.3 billion (AUD 48 million) in the new parts center with a site area of 38,000 m2, and has consolidated a multiple number of parts centers previously located in Queensland. The new parts center features advanced technologies, such as the tower system for picking and the digitalized consolidation system for parts, optimizing logistic operations and improving efficiency, The new parts center also mitigates environmental impact with its installed solar panels and by cutting down the volume of packed parts. The new parts center also houses a new sales branch, improving customer satisfaction by dynamically reducing lead-time from order receipt to delivery, in addition to optimizing logistic operations. Furthermore, advanced ICT-intensive construction equipment is displayed on the site. The new innovation hub exhibits cutting-edge electrification, automation and SMARTCONSTRUCTION technologies, as well as Komatsu’s history. While continuing its commitment to Quality and Reliability and working to maximize its corporate value, Komatsu is working to achieve safe, highly-productive, smart and clean workplaces of the future through DANTOTSU Value (ESG solutions and improvement of earnings through customer value creation).  【Top: New parts center. Bottom left: Inside of the new parts center. Bottom right: Innovation hub】  【Outline of Komatsu Australia Pty. Ltd.】 CEO: Sean TaylorHead office address: 50-60 Fairfield Street, Fairfield East NSW【Outline of the new parts center of Komatsu Australia】 Address: 535 Progress Road, Wacol, QLDSite area: Approx. 38,000ｍ2 Floor areas: Approx. 17,500m2Investment: Approx. JPY 4.3 billion (AUD 48 million）No.0099(3114)Corporate Communications DepartmentSustainability Promotion DivisionKomatsu Ltd.tel: +81-(0)3-5561-2616mail: JP00MB_cc_department@global.komatsu*The information may be subject to change without notice.</td>\n",
       "    </tr>\n",
       "  </tbody>\n",
       "</table>\n",
       "</div>"
      ],
      "text/plain": [
       "                날짜  \\\n",
       "52   Jan. 31, 2022   \n",
       "12     Feb.15,2023   \n",
       "48  March 25, 2022   \n",
       "\n",
       "                                                                                                    제목  \\\n",
       "52         Komatsu Agrees to Make Komatsu (Changzhou) Construction Machinery a Wholly Owned Subsidiary   \n",
       "12                                                Relief Aid to Earthquake Damages in Turkey and Syria   \n",
       "48  Komatsu Opens Parts Center in Australia: Improving customer satisfaction and optimizing operations   \n",
       "\n",
       "                                                                                                                                                                                                                                                                                                                                                                                                                                                                                                                                                                                                                                                                                                                                                                                                                                                                                                                                                                                                                                                                                                                                                                                                                                                                                                                                                                                                                                                                                                                                                                                                                                                                                                                                                                                                                                                                                                                                                                                                                                                                                                                                                                                                                                                                                                                                                                                                                                                            본문  \n",
       "52    Komatsu Ltd. (hereafter \"Komatsu\") (President & CEO: Hiroyuki Ogawa) has agreed to dissolve the equity participation of SINOMACH Changlin Co., Ltd. (hereafter \"Changlin\"), based in Jiangsu, China, and Sumitomo Corporation (hereafter \"Sumitomo\") in Komatsu (Changzhou) Construction Machinery Corp. [hereafter \"Komatsu (Changzhou)\"], based in Jiangsu, China, a joint-venture company with Changlin and Sumitomo.In 1995, Komatsu established Komatsu (Changzhou), a joint-venture manufacturer of wheel loaders in Changzhou, Jiangsu Province, with local manufacturers of construction equipment, such as Changlin. Later, Komatsu (Changzhou) added hydraulic excavators and other equipment to production and has supplied its products mainly in China.After discussing with Changlin the future directions of the business, in light of changes in the business environment for the last few years, Komatsu and Changlin have agreed to promote their respective businesses independently and dissolve Changlin’s equity participation in Komatsu (Changzhou). In line with the agreement with Changlin to dissolve its equity participation, Komatsu and Sumitomo have also agreed to dissolve Sumitomo’s equity participation in Komatsu (Changzhou). In addition, Komatsu and Sumitomo have already agreed to dissolve Sumitomo’s equity participation in Komatsu Shantui Construction Machinery Co., Ltd.Together with the partners, Komatsu will proceed with the process as required in FY2021, ending March 31, 2022, and believes that there will be no adverse effects on customers with respect to product delivery. Komatsu also anticipates that the impact of this termination on its consolidated business results will be minimal.     <Outline of the Komatsu (Changzhou) Construction Machinery>Name                   : Komatsu (Changzhou) Construction Machinery Corp.Located               : Changzhou, Jiangsu, ChinaRepresentative  : Quanwang Zhang, Chairman of the BoardLine of business: Manufacture of construction equipmentCapital Stock     : US $ 41 millionEstablished        : May 1995Equity                  : 85% by Komatsu (China) Ltd., 8% by Changlin, and 7% by SumitomoNo : 0088(3103)Corporate Communications DepartmentSustainability Promotion DivisionKomatsu Ltd.tel: +81-(0)3-5561-2616mail: JP00MB_cc_department@global.komatsu*The information may be subject to change without notice.  \n",
       "12                                                                                                                                                                                                                                                                                                                                                                                                                                                                                                                                                                                                                                                                                                                                                                                                                                                                                                                                                                                                                                                                                                              Komatsu Ltd. (President and CEO: Hiroyuki Ogawa) (hereinafter “Komatsu”) expresses its deepest condolences to those who lost their lives in the recent earthquake that occurred in southeastern Turkey. Komatsu also extends its deepest sympathies to all those affected by the earthquake.In cooperation with its local distributor Marubeni Dağıtım ve Servis A.Ş. (hereinafter “MDS”), a wholly owned subsidiary of Marubeni Corporation, Komatsu will lend construction equipment needed for relief efforts to the affected areas free of charge and dispatch operators and service mechanics to assist the relief efforts, which should amount to JPY 20 million equivalent. Komatsu will donate JPY 10 million through the Japanese Red Cross Society (total support of 30 million yen).Since establishing an office in Turkey in 1975, Komatsu has been engaging its locally-anchored business in Turkey, a major market in the Middle East region. Komatsu will continue to provide material assistance to help the affected areas recover as quickly as possible while monitoring the conditions with MDS.  No : 0086(3206)Corporate Communications DepartmentSustainability Promotion DivisionKomatsu Ltd.tel: +81-(0)3-5561-2616mail: JP00MB_cc_department@global.komatsu*The information may be subject to change without notice.  \n",
       "48                                                                                                                                                                                                                                                                             Komatsu Ltd. (hereafter “Komatsu”) (President and CEO: Hiroyuki Ogawa) has opened the new parts center at Komatsu Australia Pty. Ltd. (Head office: New South Wales, Australia. CEO: Sean Taylor). Komatsu has invested about JPY 4.3 billion (AUD 48 million) in the new parts center with a site area of 38,000 m2, and has consolidated a multiple number of parts centers previously located in Queensland. The new parts center features advanced technologies, such as the tower system for picking and the digitalized consolidation system for parts, optimizing logistic operations and improving efficiency, The new parts center also mitigates environmental impact with its installed solar panels and by cutting down the volume of packed parts. The new parts center also houses a new sales branch, improving customer satisfaction by dynamically reducing lead-time from order receipt to delivery, in addition to optimizing logistic operations. Furthermore, advanced ICT-intensive construction equipment is displayed on the site. The new innovation hub exhibits cutting-edge electrification, automation and SMARTCONSTRUCTION technologies, as well as Komatsu’s history. While continuing its commitment to Quality and Reliability and working to maximize its corporate value, Komatsu is working to achieve safe, highly-productive, smart and clean workplaces of the future through DANTOTSU Value (ESG solutions and improvement of earnings through customer value creation).  【Top: New parts center. Bottom left: Inside of the new parts center. Bottom right: Innovation hub】  【Outline of Komatsu Australia Pty. Ltd.】 CEO: Sean TaylorHead office address: 50-60 Fairfield Street, Fairfield East NSW【Outline of the new parts center of Komatsu Australia】 Address: 535 Progress Road, Wacol, QLDSite area: Approx. 38,000ｍ2 Floor areas: Approx. 17,500m2Investment: Approx. JPY 4.3 billion (AUD 48 million）No.0099(3114)Corporate Communications DepartmentSustainability Promotion DivisionKomatsu Ltd.tel: +81-(0)3-5561-2616mail: JP00MB_cc_department@global.komatsu*The information may be subject to change without notice.  "
      ]
     },
     "execution_count": 241,
     "metadata": {},
     "output_type": "execute_result"
    }
   ],
   "source": [
    "komaz.sample(3)"
   ]
  },
  {
   "attachments": {},
   "cell_type": "markdown",
   "metadata": {},
   "source": [
    "# 날짜 데이터프레임"
   ]
  },
  {
   "cell_type": "code",
   "execution_count": 246,
   "metadata": {},
   "outputs": [
    {
     "data": {
      "text/plain": [
       "Index(['Date', 'Title', 'Article', '날짜', 'words', 'clean_rticle', 'sentence',\n",
       "       'word', 'clear_words_str', 'clear_words'],\n",
       "      dtype='object')"
      ]
     },
     "metadata": {},
     "output_type": "display_data"
    },
    {
     "name": "stdout",
     "output_type": "stream",
     "text": [
      "<class 'pandas.core.frame.DataFrame'>\n",
      "RangeIndex: 100 entries, 0 to 99\n",
      "Data columns (total 10 columns):\n",
      " #   Column           Non-Null Count  Dtype         \n",
      "---  ------           --------------  -----         \n",
      " 0   Date             100 non-null    object        \n",
      " 1   Title            100 non-null    object        \n",
      " 2   Article          100 non-null    object        \n",
      " 3   날짜               100 non-null    datetime64[ns]\n",
      " 4   words            100 non-null    object        \n",
      " 5   clean_rticle     100 non-null    object        \n",
      " 6   sentence         100 non-null    object        \n",
      " 7   word             100 non-null    object        \n",
      " 8   clear_words_str  100 non-null    object        \n",
      " 9   clear_words      100 non-null    object        \n",
      "dtypes: datetime64[ns](1), object(9)\n",
      "memory usage: 7.9+ KB\n"
     ]
    }
   ],
   "source": [
    "display(cat.columns)\n",
    "cat.info()"
   ]
  },
  {
   "cell_type": "code",
   "execution_count": 248,
   "metadata": {},
   "outputs": [
    {
     "data": {
      "text/plain": [
       "Date               0\n",
       "Title              0\n",
       "Article            0\n",
       "날짜                 0\n",
       "words              0\n",
       "clean_rticle       0\n",
       "sentence           0\n",
       "word               0\n",
       "clear_words_str    0\n",
       "clear_words        0\n",
       "dtype: int64"
      ]
     },
     "execution_count": 248,
     "metadata": {},
     "output_type": "execute_result"
    }
   ],
   "source": [
    "cat.isnull().sum()"
   ]
  },
  {
   "cell_type": "code",
   "execution_count": 252,
   "metadata": {},
   "outputs": [
    {
     "data": {
      "text/html": [
       "<div>\n",
       "<style scoped>\n",
       "    .dataframe tbody tr th:only-of-type {\n",
       "        vertical-align: middle;\n",
       "    }\n",
       "\n",
       "    .dataframe tbody tr th {\n",
       "        vertical-align: top;\n",
       "    }\n",
       "\n",
       "    .dataframe thead th {\n",
       "        text-align: right;\n",
       "    }\n",
       "</style>\n",
       "<table border=\"1\" class=\"dataframe\">\n",
       "  <thead>\n",
       "    <tr style=\"text-align: right;\">\n",
       "      <th></th>\n",
       "      <th>날짜</th>\n",
       "      <th>clear_words</th>\n",
       "    </tr>\n",
       "  </thead>\n",
       "  <tbody>\n",
       "    <tr>\n",
       "      <th>0</th>\n",
       "      <td>2023-05-22</td>\n",
       "      <td>[infused, industryleading, technology, durable, d10, dozer, burns, less, fuel, increases, productivity, improves, uptime, featuring, stator, clutch, torque, converter, loadsensing, hydraulics, new, design, up, 6%, efficient, d10t2, combination, improved, technology, longer, component, life, extended, oil, changes, increased, serviceability, reduces, maintenance, repair, costs, up, 8%, helping, new, d10, deliver, industryleading, low, cost, ownership, new, d10, powered, c27, engine, offers, aftertreatment, solutions, meet, u.s, epa, tier, 4, final/eu, stage, v, well, tier, 2, equivalent, emissions, standards, meeting, needs, global, market, maximizing, material, moved, per, liter, fuel, c27, switches, power, settings, based, travel, direction, offer, up, 20%, power, reverse, reducing, cycle, times, addition, delivering, ...]</td>\n",
       "    </tr>\n",
       "    <tr>\n",
       "      <th>1</th>\n",
       "      <td>2023-05-04</td>\n",
       "      <td>[expanding, product, line, new, rm600, rm800, reclaimer/stabilizers, offer, power, performance, productivity, needed, efficiently, complete, fulldepth, reclamation, soil, stabilization, projects, versatile, machines, compete, high, end, reclaimer/stabilizer, size, class, allnew, adjustable, height, design, capable, crossslope, cutting, powerful, turbocharged, c18, engine, gives, rm600, up, 17%, power, rm500b, rm800, delivers, up, 42%, power, rm500b, up, 23%, power, rm600, reclaimer/stabilizer, models, adopt, key, rotor, system, components, cold, planers, dependable, cutting, mixing, featuring, belt, driven, rotor, drive, system, capable, flushcutting, right, side, new, system, k, rotor, same, cold, planer, fastenerfree, dualtaper, toolholder, base, block, components, deliver, superior, material, quality, range, projects, exit, returntocut, features, simplify, operation, ...]</td>\n",
       "    </tr>\n",
       "  </tbody>\n",
       "</table>\n",
       "</div>"
      ],
      "text/plain": [
       "          날짜  \\\n",
       "0 2023-05-22   \n",
       "1 2023-05-04   \n",
       "\n",
       "                                                                                                                                                                                                                                                                                                                                                                                                                                                                                                                                                                                                                                                                                                                                                                                                                                                                                                               clear_words  \n",
       "0                                                      [infused, industryleading, technology, durable, d10, dozer, burns, less, fuel, increases, productivity, improves, uptime, featuring, stator, clutch, torque, converter, loadsensing, hydraulics, new, design, up, 6%, efficient, d10t2, combination, improved, technology, longer, component, life, extended, oil, changes, increased, serviceability, reduces, maintenance, repair, costs, up, 8%, helping, new, d10, deliver, industryleading, low, cost, ownership, new, d10, powered, c27, engine, offers, aftertreatment, solutions, meet, u.s, epa, tier, 4, final/eu, stage, v, well, tier, 2, equivalent, emissions, standards, meeting, needs, global, market, maximizing, material, moved, per, liter, fuel, c27, switches, power, settings, based, travel, direction, offer, up, 20%, power, reverse, reducing, cycle, times, addition, delivering, ...]  \n",
       "1  [expanding, product, line, new, rm600, rm800, reclaimer/stabilizers, offer, power, performance, productivity, needed, efficiently, complete, fulldepth, reclamation, soil, stabilization, projects, versatile, machines, compete, high, end, reclaimer/stabilizer, size, class, allnew, adjustable, height, design, capable, crossslope, cutting, powerful, turbocharged, c18, engine, gives, rm600, up, 17%, power, rm500b, rm800, delivers, up, 42%, power, rm500b, up, 23%, power, rm600, reclaimer/stabilizer, models, adopt, key, rotor, system, components, cold, planers, dependable, cutting, mixing, featuring, belt, driven, rotor, drive, system, capable, flushcutting, right, side, new, system, k, rotor, same, cold, planer, fastenerfree, dualtaper, toolholder, base, block, components, deliver, superior, material, quality, range, projects, exit, returntocut, features, simplify, operation, ...]  "
      ]
     },
     "execution_count": 252,
     "metadata": {},
     "output_type": "execute_result"
    }
   ],
   "source": [
    "test_df = cat[[\"날짜\",\"clear_words\"]][:2]\n",
    "test_df"
   ]
  },
  {
   "cell_type": "code",
   "execution_count": 285,
   "metadata": {},
   "outputs": [],
   "source": [
    "def label_date(df):\n",
    "    result = pd.DataFrame(columns=[\"date\", \"words\"])\n",
    "    for i in range(len(df)):\n",
    "        temp = pd.DataFrame(df.iloc[i][\"clear_words\"], columns=[\"words\"])\n",
    "        temp[\"date\"] = df.iloc[i][\"날짜\"]\n",
    "        result = pd.concat([result, temp])\n",
    "    \n",
    "    return result"
   ]
  },
  {
   "cell_type": "code",
   "execution_count": 286,
   "metadata": {},
   "outputs": [
    {
     "data": {
      "text/html": [
       "<div>\n",
       "<style scoped>\n",
       "    .dataframe tbody tr th:only-of-type {\n",
       "        vertical-align: middle;\n",
       "    }\n",
       "\n",
       "    .dataframe tbody tr th {\n",
       "        vertical-align: top;\n",
       "    }\n",
       "\n",
       "    .dataframe thead th {\n",
       "        text-align: right;\n",
       "    }\n",
       "</style>\n",
       "<table border=\"1\" class=\"dataframe\">\n",
       "  <thead>\n",
       "    <tr style=\"text-align: right;\">\n",
       "      <th></th>\n",
       "      <th>date</th>\n",
       "      <th>words</th>\n",
       "    </tr>\n",
       "  </thead>\n",
       "  <tbody>\n",
       "    <tr>\n",
       "      <th>0</th>\n",
       "      <td>2023-05-22</td>\n",
       "      <td>infused</td>\n",
       "    </tr>\n",
       "    <tr>\n",
       "      <th>1</th>\n",
       "      <td>2023-05-22</td>\n",
       "      <td>industryleading</td>\n",
       "    </tr>\n",
       "    <tr>\n",
       "      <th>2</th>\n",
       "      <td>2023-05-22</td>\n",
       "      <td>technology</td>\n",
       "    </tr>\n",
       "    <tr>\n",
       "      <th>3</th>\n",
       "      <td>2023-05-22</td>\n",
       "      <td>durable</td>\n",
       "    </tr>\n",
       "    <tr>\n",
       "      <th>4</th>\n",
       "      <td>2023-05-22</td>\n",
       "      <td>d10</td>\n",
       "    </tr>\n",
       "    <tr>\n",
       "      <th>...</th>\n",
       "      <td>...</td>\n",
       "      <td>...</td>\n",
       "    </tr>\n",
       "    <tr>\n",
       "      <th>710</th>\n",
       "      <td>2023-05-04</td>\n",
       "      <td>found</td>\n",
       "    </tr>\n",
       "    <tr>\n",
       "      <th>711</th>\n",
       "      <td>2023-05-04</td>\n",
       "      <td>contacting</td>\n",
       "    </tr>\n",
       "    <tr>\n",
       "      <th>712</th>\n",
       "      <td>2023-05-04</td>\n",
       "      <td>dealer</td>\n",
       "    </tr>\n",
       "    <tr>\n",
       "      <th>713</th>\n",
       "      <td>2023-05-04</td>\n",
       "      <td>visiting</td>\n",
       "    </tr>\n",
       "    <tr>\n",
       "      <th>714</th>\n",
       "      <td>2023-05-04</td>\n",
       "      <td>www.cat.com.</td>\n",
       "    </tr>\n",
       "  </tbody>\n",
       "</table>\n",
       "<p>1239 rows × 2 columns</p>\n",
       "</div>"
      ],
      "text/plain": [
       "          date            words\n",
       "0   2023-05-22          infused\n",
       "1   2023-05-22  industryleading\n",
       "2   2023-05-22       technology\n",
       "3   2023-05-22          durable\n",
       "4   2023-05-22              d10\n",
       "..         ...              ...\n",
       "710 2023-05-04            found\n",
       "711 2023-05-04       contacting\n",
       "712 2023-05-04           dealer\n",
       "713 2023-05-04         visiting\n",
       "714 2023-05-04     www.cat.com.\n",
       "\n",
       "[1239 rows x 2 columns]"
      ]
     },
     "execution_count": 286,
     "metadata": {},
     "output_type": "execute_result"
    }
   ],
   "source": [
    "label_date(test_df)"
   ]
  },
  {
   "cell_type": "code",
   "execution_count": 287,
   "metadata": {},
   "outputs": [
    {
     "data": {
      "text/html": [
       "<div>\n",
       "<style scoped>\n",
       "    .dataframe tbody tr th:only-of-type {\n",
       "        vertical-align: middle;\n",
       "    }\n",
       "\n",
       "    .dataframe tbody tr th {\n",
       "        vertical-align: top;\n",
       "    }\n",
       "\n",
       "    .dataframe thead th {\n",
       "        text-align: right;\n",
       "    }\n",
       "</style>\n",
       "<table border=\"1\" class=\"dataframe\">\n",
       "  <thead>\n",
       "    <tr style=\"text-align: right;\">\n",
       "      <th></th>\n",
       "      <th>date</th>\n",
       "      <th>words</th>\n",
       "    </tr>\n",
       "  </thead>\n",
       "  <tbody>\n",
       "    <tr>\n",
       "      <th>0</th>\n",
       "      <td>2023-05-22</td>\n",
       "      <td>infused</td>\n",
       "    </tr>\n",
       "    <tr>\n",
       "      <th>1</th>\n",
       "      <td>2023-05-22</td>\n",
       "      <td>industryleading</td>\n",
       "    </tr>\n",
       "    <tr>\n",
       "      <th>2</th>\n",
       "      <td>2023-05-22</td>\n",
       "      <td>technology</td>\n",
       "    </tr>\n",
       "    <tr>\n",
       "      <th>3</th>\n",
       "      <td>2023-05-22</td>\n",
       "      <td>durable</td>\n",
       "    </tr>\n",
       "    <tr>\n",
       "      <th>4</th>\n",
       "      <td>2023-05-22</td>\n",
       "      <td>d10</td>\n",
       "    </tr>\n",
       "    <tr>\n",
       "      <th>...</th>\n",
       "      <td>...</td>\n",
       "      <td>...</td>\n",
       "    </tr>\n",
       "    <tr>\n",
       "      <th>273</th>\n",
       "      <td>2021-06-01</td>\n",
       "      <td>6229</td>\n",
       "    </tr>\n",
       "    <tr>\n",
       "      <th>274</th>\n",
       "      <td>2021-06-01</td>\n",
       "      <td>las</td>\n",
       "    </tr>\n",
       "    <tr>\n",
       "      <th>275</th>\n",
       "      <td>2021-06-01</td>\n",
       "      <td>vegas</td>\n",
       "    </tr>\n",
       "    <tr>\n",
       "      <th>276</th>\n",
       "      <td>2021-06-01</td>\n",
       "      <td>convention</td>\n",
       "    </tr>\n",
       "    <tr>\n",
       "      <th>277</th>\n",
       "      <td>2021-06-01</td>\n",
       "      <td>center.</td>\n",
       "    </tr>\n",
       "  </tbody>\n",
       "</table>\n",
       "<p>45702 rows × 2 columns</p>\n",
       "</div>"
      ],
      "text/plain": [
       "          date            words\n",
       "0   2023-05-22          infused\n",
       "1   2023-05-22  industryleading\n",
       "2   2023-05-22       technology\n",
       "3   2023-05-22          durable\n",
       "4   2023-05-22              d10\n",
       "..         ...              ...\n",
       "273 2021-06-01             6229\n",
       "274 2021-06-01              las\n",
       "275 2021-06-01            vegas\n",
       "276 2021-06-01       convention\n",
       "277 2021-06-01          center.\n",
       "\n",
       "[45702 rows x 2 columns]"
      ]
     },
     "execution_count": 287,
     "metadata": {},
     "output_type": "execute_result"
    }
   ],
   "source": [
    "label_date(cat[[\"날짜\",\"clear_words\"]])"
   ]
  },
  {
   "cell_type": "code",
   "execution_count": null,
   "metadata": {},
   "outputs": [],
   "source": []
  },
  {
   "cell_type": "code",
   "execution_count": null,
   "metadata": {},
   "outputs": [],
   "source": []
  },
  {
   "cell_type": "code",
   "execution_count": null,
   "metadata": {},
   "outputs": [],
   "source": []
  },
  {
   "cell_type": "code",
   "execution_count": null,
   "metadata": {},
   "outputs": [],
   "source": []
  },
  {
   "cell_type": "code",
   "execution_count": null,
   "metadata": {},
   "outputs": [],
   "source": []
  },
  {
   "cell_type": "code",
   "execution_count": null,
   "metadata": {},
   "outputs": [],
   "source": []
  },
  {
   "cell_type": "code",
   "execution_count": null,
   "metadata": {},
   "outputs": [],
   "source": []
  },
  {
   "cell_type": "code",
   "execution_count": null,
   "metadata": {},
   "outputs": [],
   "source": []
  }
 ],
 "metadata": {
  "kernelspec": {
   "display_name": "base",
   "language": "python",
   "name": "python3"
  },
  "language_info": {
   "codemirror_mode": {
    "name": "ipython",
    "version": 3
   },
   "file_extension": ".py",
   "mimetype": "text/x-python",
   "name": "python",
   "nbconvert_exporter": "python",
   "pygments_lexer": "ipython3",
   "version": "3.9.12"
  },
  "orig_nbformat": 4
 },
 "nbformat": 4,
 "nbformat_minor": 2
}
