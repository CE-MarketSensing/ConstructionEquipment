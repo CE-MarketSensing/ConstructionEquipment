{
 "cells": [
  {
   "cell_type": "code",
   "execution_count": 1,
   "metadata": {},
   "outputs": [],
   "source": [
    "import time\n",
    "from selenium import webdriver\n",
    "from selenium.webdriver.common.by import By\n",
    "from selenium.webdriver.chrome.options import Options\n",
    "from selenium.webdriver.chrome.service import Service # 셀레니움 버전 4에서는 이걸 써야 한다. \n",
    "from webdriver_manager.chrome import ChromeDriverManager\n",
    "from bs4 import BeautifulSoup\n",
    "import pandas as pd\n",
    "from selenium.common.exceptions    import NoSuchWindowException\n",
    "from selenium.webdriver.support.ui import WebDriverWait"
   ]
  },
  {
   "cell_type": "code",
   "execution_count": 15,
   "metadata": {},
   "outputs": [],
   "source": [
    "def chrome_setting():\n",
    "    chrome_options = webdriver.ChromeOptions()\n",
    "#     chrome_options.add_argument('--headless') # 크롬 탭이 나타나지 않게 옵션 조정\n",
    "    chrome_options.add_argument('--no-sandbox')\n",
    "    # 공유 메모리를 담당하는 디렉토리 사용 x\n",
    "    chrome_options.add_argument('--disable-dev-shm-usage')\n",
    "    # 본인 user-agent값 입력\n",
    "    chrome_options.add_argument({\"User-Agent\":\"Mozilla/5.0 (Windows NT 10.0; Win64; x64) AppleWebKit/537.36 (KHTML, like Gecko) Chrome/113.0.0.0 Safari/537.36\"})\n",
    "    driver = webdriver.Chrome(service=Service(ChromeDriverManager().install()), options=chrome_options)\n",
    "    return driver"
   ]
  },
  {
   "cell_type": "code",
   "execution_count": 2,
   "metadata": {},
   "outputs": [],
   "source": [
    "# options = Options()\n",
    "# options.add_experimental_option(\"detach\", True) # 브라우저 바로 닫힘 방지\n",
    "# options.add_experimental_option('excludeSwitches', ['enable-logging']) #불필요한 메세지 제거\n",
    "\n",
    "# service = Service(ChromeDriverManager().install())\n",
    "\n",
    "# driver = webdriver.Chrome(service=service, options=options)"
   ]
  },
  {
   "cell_type": "code",
   "execution_count": 17,
   "metadata": {},
   "outputs": [
    {
     "ename": "InvalidArgumentException",
     "evalue": "Message: invalid argument: cannot parse capability: goog:chromeOptions\nfrom invalid argument: cannot parse args\nfrom invalid argument: each argument must be a string\nStacktrace:\nBacktrace:\n\tGetHandleVerifier [0x01118893+48451]\n\t(No symbol) [0x010AB8A1]\n\t(No symbol) [0x00FB5058]\n\t(No symbol) [0x00FCDEC2]\n\t(No symbol) [0x00FCF8D0]\n\t(No symbol) [0x00FCCD14]\n\t(No symbol) [0x00FCF8D0]\n\t(No symbol) [0x00FCA4DB]\n\t(No symbol) [0x00FFF831]\n\t(No symbol) [0x00FFF4E8]\n\t(No symbol) [0x01000620]\n\t(No symbol) [0x0100047C]\n\t(No symbol) [0x00FFA0B6]\n\t(No symbol) [0x00FD7E08]\n\t(No symbol) [0x00FD8F2D]\n\tGetHandleVerifier [0x01378E3A+2540266]\n\tGetHandleVerifier [0x013B8959+2801161]\n\tGetHandleVerifier [0x013B295C+2776588]\n\tGetHandleVerifier [0x011A2280+612144]\n\t(No symbol) [0x010B4F6C]\n\t(No symbol) [0x010B11D8]\n\t(No symbol) [0x010B12BB]\n\t(No symbol) [0x010A4857]\n\tBaseThreadInitThunk [0x754500C9+25]\n\tRtlGetAppContainerNamedObjectPath [0x773F7B4E+286]\n\tRtlGetAppContainerNamedObjectPath [0x773F7B1E+238]\n",
     "output_type": "error",
     "traceback": [
      "\u001b[1;31m---------------------------------------------------------------------------\u001b[0m",
      "\u001b[1;31mInvalidArgumentException\u001b[0m                  Traceback (most recent call last)",
      "\u001b[1;32mc:\\Users\\chjy1\\Desktop\\market_sensing\\ConstructionEquipment\\lieb.ipynb Cell 4\u001b[0m in \u001b[0;36m<cell line: 2>\u001b[1;34m()\u001b[0m\n\u001b[0;32m      <a href='vscode-notebook-cell:/c%3A/Users/chjy1/Desktop/market_sensing/ConstructionEquipment/lieb.ipynb#X16sZmlsZQ%3D%3D?line=0'>1</a>\u001b[0m \u001b[39m# 웹드라이버 오픈\u001b[39;00m\n\u001b[1;32m----> <a href='vscode-notebook-cell:/c%3A/Users/chjy1/Desktop/market_sensing/ConstructionEquipment/lieb.ipynb#X16sZmlsZQ%3D%3D?line=1'>2</a>\u001b[0m driver \u001b[39m=\u001b[39m chrome_setting()\n\u001b[0;32m      <a href='vscode-notebook-cell:/c%3A/Users/chjy1/Desktop/market_sensing/ConstructionEquipment/lieb.ipynb#X16sZmlsZQ%3D%3D?line=2'>3</a>\u001b[0m driver\u001b[39m.\u001b[39mimplicitly_wait(\u001b[39m10\u001b[39m)\n",
      "\u001b[1;32mc:\\Users\\chjy1\\Desktop\\market_sensing\\ConstructionEquipment\\lieb.ipynb Cell 4\u001b[0m in \u001b[0;36mchrome_setting\u001b[1;34m()\u001b[0m\n\u001b[0;32m      <a href='vscode-notebook-cell:/c%3A/Users/chjy1/Desktop/market_sensing/ConstructionEquipment/lieb.ipynb#X16sZmlsZQ%3D%3D?line=6'>7</a>\u001b[0m \u001b[39m# 본인 user-agent값 입력\u001b[39;00m\n\u001b[0;32m      <a href='vscode-notebook-cell:/c%3A/Users/chjy1/Desktop/market_sensing/ConstructionEquipment/lieb.ipynb#X16sZmlsZQ%3D%3D?line=7'>8</a>\u001b[0m chrome_options\u001b[39m.\u001b[39madd_argument({\u001b[39m\"\u001b[39m\u001b[39mUser-Agent\u001b[39m\u001b[39m\"\u001b[39m:\u001b[39m\"\u001b[39m\u001b[39mMozilla/5.0 (Windows NT 10.0; Win64; x64) AppleWebKit/537.36 (KHTML, like Gecko) Chrome/111.0.0.0 Safari/537.36\u001b[39m\u001b[39m\"\u001b[39m})\n\u001b[1;32m----> <a href='vscode-notebook-cell:/c%3A/Users/chjy1/Desktop/market_sensing/ConstructionEquipment/lieb.ipynb#X16sZmlsZQ%3D%3D?line=8'>9</a>\u001b[0m driver \u001b[39m=\u001b[39m webdriver\u001b[39m.\u001b[39;49mChrome(service\u001b[39m=\u001b[39;49mService(ChromeDriverManager()\u001b[39m.\u001b[39;49minstall()), options\u001b[39m=\u001b[39;49mchrome_options)\n\u001b[0;32m     <a href='vscode-notebook-cell:/c%3A/Users/chjy1/Desktop/market_sensing/ConstructionEquipment/lieb.ipynb#X16sZmlsZQ%3D%3D?line=9'>10</a>\u001b[0m \u001b[39mreturn\u001b[39;00m driver\n",
      "File \u001b[1;32mc:\\Users\\chjy1\\anaconda3\\lib\\site-packages\\selenium\\webdriver\\chrome\\webdriver.py:81\u001b[0m, in \u001b[0;36mWebDriver.__init__\u001b[1;34m(self, executable_path, port, options, service_args, desired_capabilities, service_log_path, chrome_options, service, keep_alive)\u001b[0m\n\u001b[0;32m     78\u001b[0m \u001b[39mif\u001b[39;00m \u001b[39mnot\u001b[39;00m service:\n\u001b[0;32m     79\u001b[0m     service \u001b[39m=\u001b[39m Service(executable_path, port, service_args, service_log_path)\n\u001b[1;32m---> 81\u001b[0m \u001b[39msuper\u001b[39;49m()\u001b[39m.\u001b[39;49m\u001b[39m__init__\u001b[39;49m(\n\u001b[0;32m     82\u001b[0m     DesiredCapabilities\u001b[39m.\u001b[39;49mCHROME[\u001b[39m\"\u001b[39;49m\u001b[39mbrowserName\u001b[39;49m\u001b[39m\"\u001b[39;49m],\n\u001b[0;32m     83\u001b[0m     \u001b[39m\"\u001b[39;49m\u001b[39mgoog\u001b[39;49m\u001b[39m\"\u001b[39;49m,\n\u001b[0;32m     84\u001b[0m     port,\n\u001b[0;32m     85\u001b[0m     options,\n\u001b[0;32m     86\u001b[0m     service_args,\n\u001b[0;32m     87\u001b[0m     desired_capabilities,\n\u001b[0;32m     88\u001b[0m     service_log_path,\n\u001b[0;32m     89\u001b[0m     service,\n\u001b[0;32m     90\u001b[0m     keep_alive,\n\u001b[0;32m     91\u001b[0m )\n",
      "File \u001b[1;32mc:\\Users\\chjy1\\anaconda3\\lib\\site-packages\\selenium\\webdriver\\chromium\\webdriver.py:106\u001b[0m, in \u001b[0;36mChromiumDriver.__init__\u001b[1;34m(self, browser_name, vendor_prefix, port, options, service_args, desired_capabilities, service_log_path, service, keep_alive)\u001b[0m\n\u001b[0;32m    103\u001b[0m \u001b[39mself\u001b[39m\u001b[39m.\u001b[39mservice\u001b[39m.\u001b[39mstart()\n\u001b[0;32m    105\u001b[0m \u001b[39mtry\u001b[39;00m:\n\u001b[1;32m--> 106\u001b[0m     \u001b[39msuper\u001b[39;49m()\u001b[39m.\u001b[39;49m\u001b[39m__init__\u001b[39;49m(\n\u001b[0;32m    107\u001b[0m         command_executor\u001b[39m=\u001b[39;49mChromiumRemoteConnection(\n\u001b[0;32m    108\u001b[0m             remote_server_addr\u001b[39m=\u001b[39;49m\u001b[39mself\u001b[39;49m\u001b[39m.\u001b[39;49mservice\u001b[39m.\u001b[39;49mservice_url,\n\u001b[0;32m    109\u001b[0m             browser_name\u001b[39m=\u001b[39;49mbrowser_name,\n\u001b[0;32m    110\u001b[0m             vendor_prefix\u001b[39m=\u001b[39;49mvendor_prefix,\n\u001b[0;32m    111\u001b[0m             keep_alive\u001b[39m=\u001b[39;49mkeep_alive,\n\u001b[0;32m    112\u001b[0m             ignore_proxy\u001b[39m=\u001b[39;49m_ignore_proxy,\n\u001b[0;32m    113\u001b[0m         ),\n\u001b[0;32m    114\u001b[0m         options\u001b[39m=\u001b[39;49moptions,\n\u001b[0;32m    115\u001b[0m     )\n\u001b[0;32m    116\u001b[0m \u001b[39mexcept\u001b[39;00m \u001b[39mException\u001b[39;00m:\n\u001b[0;32m    117\u001b[0m     \u001b[39mself\u001b[39m\u001b[39m.\u001b[39mquit()\n",
      "File \u001b[1;32mc:\\Users\\chjy1\\anaconda3\\lib\\site-packages\\selenium\\webdriver\\remote\\webdriver.py:288\u001b[0m, in \u001b[0;36mWebDriver.__init__\u001b[1;34m(self, command_executor, desired_capabilities, browser_profile, proxy, keep_alive, file_detector, options)\u001b[0m\n\u001b[0;32m    286\u001b[0m \u001b[39mself\u001b[39m\u001b[39m.\u001b[39m_authenticator_id \u001b[39m=\u001b[39m \u001b[39mNone\u001b[39;00m\n\u001b[0;32m    287\u001b[0m \u001b[39mself\u001b[39m\u001b[39m.\u001b[39mstart_client()\n\u001b[1;32m--> 288\u001b[0m \u001b[39mself\u001b[39;49m\u001b[39m.\u001b[39;49mstart_session(capabilities, browser_profile)\n",
      "File \u001b[1;32mc:\\Users\\chjy1\\anaconda3\\lib\\site-packages\\selenium\\webdriver\\remote\\webdriver.py:381\u001b[0m, in \u001b[0;36mWebDriver.start_session\u001b[1;34m(self, capabilities, browser_profile)\u001b[0m\n\u001b[0;32m    379\u001b[0m w3c_caps \u001b[39m=\u001b[39m _make_w3c_caps(capabilities)\n\u001b[0;32m    380\u001b[0m parameters \u001b[39m=\u001b[39m {\u001b[39m\"\u001b[39m\u001b[39mcapabilities\u001b[39m\u001b[39m\"\u001b[39m: w3c_caps}\n\u001b[1;32m--> 381\u001b[0m response \u001b[39m=\u001b[39m \u001b[39mself\u001b[39;49m\u001b[39m.\u001b[39;49mexecute(Command\u001b[39m.\u001b[39;49mNEW_SESSION, parameters)\n\u001b[0;32m    382\u001b[0m \u001b[39mif\u001b[39;00m \u001b[39m\"\u001b[39m\u001b[39msessionId\u001b[39m\u001b[39m\"\u001b[39m \u001b[39mnot\u001b[39;00m \u001b[39min\u001b[39;00m response:\n\u001b[0;32m    383\u001b[0m     response \u001b[39m=\u001b[39m response[\u001b[39m\"\u001b[39m\u001b[39mvalue\u001b[39m\u001b[39m\"\u001b[39m]\n",
      "File \u001b[1;32mc:\\Users\\chjy1\\anaconda3\\lib\\site-packages\\selenium\\webdriver\\remote\\webdriver.py:444\u001b[0m, in \u001b[0;36mWebDriver.execute\u001b[1;34m(self, driver_command, params)\u001b[0m\n\u001b[0;32m    442\u001b[0m response \u001b[39m=\u001b[39m \u001b[39mself\u001b[39m\u001b[39m.\u001b[39mcommand_executor\u001b[39m.\u001b[39mexecute(driver_command, params)\n\u001b[0;32m    443\u001b[0m \u001b[39mif\u001b[39;00m response:\n\u001b[1;32m--> 444\u001b[0m     \u001b[39mself\u001b[39;49m\u001b[39m.\u001b[39;49merror_handler\u001b[39m.\u001b[39;49mcheck_response(response)\n\u001b[0;32m    445\u001b[0m     response[\u001b[39m\"\u001b[39m\u001b[39mvalue\u001b[39m\u001b[39m\"\u001b[39m] \u001b[39m=\u001b[39m \u001b[39mself\u001b[39m\u001b[39m.\u001b[39m_unwrap_value(response\u001b[39m.\u001b[39mget(\u001b[39m\"\u001b[39m\u001b[39mvalue\u001b[39m\u001b[39m\"\u001b[39m, \u001b[39mNone\u001b[39;00m))\n\u001b[0;32m    446\u001b[0m     \u001b[39mreturn\u001b[39;00m response\n",
      "File \u001b[1;32mc:\\Users\\chjy1\\anaconda3\\lib\\site-packages\\selenium\\webdriver\\remote\\errorhandler.py:249\u001b[0m, in \u001b[0;36mErrorHandler.check_response\u001b[1;34m(self, response)\u001b[0m\n\u001b[0;32m    247\u001b[0m         alert_text \u001b[39m=\u001b[39m value[\u001b[39m\"\u001b[39m\u001b[39malert\u001b[39m\u001b[39m\"\u001b[39m]\u001b[39m.\u001b[39mget(\u001b[39m\"\u001b[39m\u001b[39mtext\u001b[39m\u001b[39m\"\u001b[39m)\n\u001b[0;32m    248\u001b[0m     \u001b[39mraise\u001b[39;00m exception_class(message, screen, stacktrace, alert_text)  \u001b[39m# type: ignore[call-arg]  # mypy is not smart enough here\u001b[39;00m\n\u001b[1;32m--> 249\u001b[0m \u001b[39mraise\u001b[39;00m exception_class(message, screen, stacktrace)\n",
      "\u001b[1;31mInvalidArgumentException\u001b[0m: Message: invalid argument: cannot parse capability: goog:chromeOptions\nfrom invalid argument: cannot parse args\nfrom invalid argument: each argument must be a string\nStacktrace:\nBacktrace:\n\tGetHandleVerifier [0x01118893+48451]\n\t(No symbol) [0x010AB8A1]\n\t(No symbol) [0x00FB5058]\n\t(No symbol) [0x00FCDEC2]\n\t(No symbol) [0x00FCF8D0]\n\t(No symbol) [0x00FCCD14]\n\t(No symbol) [0x00FCF8D0]\n\t(No symbol) [0x00FCA4DB]\n\t(No symbol) [0x00FFF831]\n\t(No symbol) [0x00FFF4E8]\n\t(No symbol) [0x01000620]\n\t(No symbol) [0x0100047C]\n\t(No symbol) [0x00FFA0B6]\n\t(No symbol) [0x00FD7E08]\n\t(No symbol) [0x00FD8F2D]\n\tGetHandleVerifier [0x01378E3A+2540266]\n\tGetHandleVerifier [0x013B8959+2801161]\n\tGetHandleVerifier [0x013B295C+2776588]\n\tGetHandleVerifier [0x011A2280+612144]\n\t(No symbol) [0x010B4F6C]\n\t(No symbol) [0x010B11D8]\n\t(No symbol) [0x010B12BB]\n\t(No symbol) [0x010A4857]\n\tBaseThreadInitThunk [0x754500C9+25]\n\tRtlGetAppContainerNamedObjectPath [0x773F7B4E+286]\n\tRtlGetAppContainerNamedObjectPath [0x773F7B1E+238]\n"
     ]
    }
   ],
   "source": [
    "# 웹드라이버 오픈\n",
    "driver = chrome_setting()\n",
    "driver.implicitly_wait(10)"
   ]
  },
  {
   "cell_type": "code",
   "execution_count": 16,
   "metadata": {},
   "outputs": [
    {
     "ename": "NoSuchWindowException",
     "evalue": "Message: no such window: target window already closed\nfrom unknown error: web view not found\n  (Session info: chrome=113.0.5672.93)\nStacktrace:\nBacktrace:\n\tGetHandleVerifier [0x01118893+48451]\n\t(No symbol) [0x010AB8A1]\n\t(No symbol) [0x00FB5058]\n\t(No symbol) [0x00F9D073]\n\t(No symbol) [0x00FFDEBB]\n\t(No symbol) [0x0100BFD3]\n\t(No symbol) [0x00FFA0B6]\n\t(No symbol) [0x00FD7E08]\n\t(No symbol) [0x00FD8F2D]\n\tGetHandleVerifier [0x01378E3A+2540266]\n\tGetHandleVerifier [0x013B8959+2801161]\n\tGetHandleVerifier [0x013B295C+2776588]\n\tGetHandleVerifier [0x011A2280+612144]\n\t(No symbol) [0x010B4F6C]\n\t(No symbol) [0x010B11D8]\n\t(No symbol) [0x010B12BB]\n\t(No symbol) [0x010A4857]\n\tBaseThreadInitThunk [0x754500C9+25]\n\tRtlGetAppContainerNamedObjectPath [0x773F7B4E+286]\n\tRtlGetAppContainerNamedObjectPath [0x773F7B1E+238]\n",
     "output_type": "error",
     "traceback": [
      "\u001b[1;31m---------------------------------------------------------------------------\u001b[0m",
      "\u001b[1;31mNoSuchWindowException\u001b[0m                     Traceback (most recent call last)",
      "\u001b[1;32mc:\\Users\\chjy1\\Desktop\\market_sensing\\ConstructionEquipment\\lieb.ipynb Cell 4\u001b[0m in \u001b[0;36m<cell line: 2>\u001b[1;34m()\u001b[0m\n\u001b[0;32m      <a href='vscode-notebook-cell:/c%3A/Users/chjy1/Desktop/market_sensing/ConstructionEquipment/lieb.ipynb#W2sZmlsZQ%3D%3D?line=0'>1</a>\u001b[0m url \u001b[39m=\u001b[39m \u001b[39m\"\u001b[39m\u001b[39mhttps://www.liebherr.com/en/usa/latest-news/news-press-releases/detail/liebherr-wins-esta-award-in-the-training-category.html\u001b[39m\u001b[39m\"\u001b[39m\n\u001b[1;32m----> <a href='vscode-notebook-cell:/c%3A/Users/chjy1/Desktop/market_sensing/ConstructionEquipment/lieb.ipynb#W2sZmlsZQ%3D%3D?line=1'>2</a>\u001b[0m driver\u001b[39m.\u001b[39;49mget(url)\n",
      "File \u001b[1;32mc:\\Users\\chjy1\\anaconda3\\lib\\site-packages\\selenium\\webdriver\\remote\\webdriver.py:455\u001b[0m, in \u001b[0;36mWebDriver.get\u001b[1;34m(self, url)\u001b[0m\n\u001b[0;32m    451\u001b[0m \u001b[39mdef\u001b[39;00m \u001b[39mget\u001b[39m(\u001b[39mself\u001b[39m, url: \u001b[39mstr\u001b[39m) \u001b[39m-\u001b[39m\u001b[39m>\u001b[39m \u001b[39mNone\u001b[39;00m:\n\u001b[0;32m    452\u001b[0m     \u001b[39m\"\"\"\u001b[39;00m\n\u001b[0;32m    453\u001b[0m \u001b[39m    Loads a web page in the current browser session.\u001b[39;00m\n\u001b[0;32m    454\u001b[0m \u001b[39m    \"\"\"\u001b[39;00m\n\u001b[1;32m--> 455\u001b[0m     \u001b[39mself\u001b[39;49m\u001b[39m.\u001b[39;49mexecute(Command\u001b[39m.\u001b[39;49mGET, {\u001b[39m\"\u001b[39;49m\u001b[39murl\u001b[39;49m\u001b[39m\"\u001b[39;49m: url})\n",
      "File \u001b[1;32mc:\\Users\\chjy1\\anaconda3\\lib\\site-packages\\selenium\\webdriver\\remote\\webdriver.py:444\u001b[0m, in \u001b[0;36mWebDriver.execute\u001b[1;34m(self, driver_command, params)\u001b[0m\n\u001b[0;32m    442\u001b[0m response \u001b[39m=\u001b[39m \u001b[39mself\u001b[39m\u001b[39m.\u001b[39mcommand_executor\u001b[39m.\u001b[39mexecute(driver_command, params)\n\u001b[0;32m    443\u001b[0m \u001b[39mif\u001b[39;00m response:\n\u001b[1;32m--> 444\u001b[0m     \u001b[39mself\u001b[39;49m\u001b[39m.\u001b[39;49merror_handler\u001b[39m.\u001b[39;49mcheck_response(response)\n\u001b[0;32m    445\u001b[0m     response[\u001b[39m\"\u001b[39m\u001b[39mvalue\u001b[39m\u001b[39m\"\u001b[39m] \u001b[39m=\u001b[39m \u001b[39mself\u001b[39m\u001b[39m.\u001b[39m_unwrap_value(response\u001b[39m.\u001b[39mget(\u001b[39m\"\u001b[39m\u001b[39mvalue\u001b[39m\u001b[39m\"\u001b[39m, \u001b[39mNone\u001b[39;00m))\n\u001b[0;32m    446\u001b[0m     \u001b[39mreturn\u001b[39;00m response\n",
      "File \u001b[1;32mc:\\Users\\chjy1\\anaconda3\\lib\\site-packages\\selenium\\webdriver\\remote\\errorhandler.py:249\u001b[0m, in \u001b[0;36mErrorHandler.check_response\u001b[1;34m(self, response)\u001b[0m\n\u001b[0;32m    247\u001b[0m         alert_text \u001b[39m=\u001b[39m value[\u001b[39m\"\u001b[39m\u001b[39malert\u001b[39m\u001b[39m\"\u001b[39m]\u001b[39m.\u001b[39mget(\u001b[39m\"\u001b[39m\u001b[39mtext\u001b[39m\u001b[39m\"\u001b[39m)\n\u001b[0;32m    248\u001b[0m     \u001b[39mraise\u001b[39;00m exception_class(message, screen, stacktrace, alert_text)  \u001b[39m# type: ignore[call-arg]  # mypy is not smart enough here\u001b[39;00m\n\u001b[1;32m--> 249\u001b[0m \u001b[39mraise\u001b[39;00m exception_class(message, screen, stacktrace)\n",
      "\u001b[1;31mNoSuchWindowException\u001b[0m: Message: no such window: target window already closed\nfrom unknown error: web view not found\n  (Session info: chrome=113.0.5672.93)\nStacktrace:\nBacktrace:\n\tGetHandleVerifier [0x01118893+48451]\n\t(No symbol) [0x010AB8A1]\n\t(No symbol) [0x00FB5058]\n\t(No symbol) [0x00F9D073]\n\t(No symbol) [0x00FFDEBB]\n\t(No symbol) [0x0100BFD3]\n\t(No symbol) [0x00FFA0B6]\n\t(No symbol) [0x00FD7E08]\n\t(No symbol) [0x00FD8F2D]\n\tGetHandleVerifier [0x01378E3A+2540266]\n\tGetHandleVerifier [0x013B8959+2801161]\n\tGetHandleVerifier [0x013B295C+2776588]\n\tGetHandleVerifier [0x011A2280+612144]\n\t(No symbol) [0x010B4F6C]\n\t(No symbol) [0x010B11D8]\n\t(No symbol) [0x010B12BB]\n\t(No symbol) [0x010A4857]\n\tBaseThreadInitThunk [0x754500C9+25]\n\tRtlGetAppContainerNamedObjectPath [0x773F7B4E+286]\n\tRtlGetAppContainerNamedObjectPath [0x773F7B1E+238]\n"
     ]
    }
   ],
   "source": [
    "url = \"https://www.liebherr.com/en/usa/latest-news/news-press-releases/detail/liebherr-wins-esta-award-in-the-training-category.html\"\n",
    "driver.get(url)\n"
   ]
  },
  {
   "cell_type": "code",
   "execution_count": null,
   "metadata": {},
   "outputs": [],
   "source": []
  },
  {
   "cell_type": "code",
   "execution_count": 12,
   "metadata": {},
   "outputs": [
    {
     "data": {
      "text/plain": [
       "<selenium.webdriver.chrome.webdriver.WebDriver (session=\"cf648510fabb419f89005e5180929837\")>"
      ]
     },
     "execution_count": 12,
     "metadata": {},
     "output_type": "execute_result"
    }
   ],
   "source": [
    "# url 로 이동\n",
    "driver.implicitly_wait(10)\n",
    "driver"
   ]
  },
  {
   "cell_type": "code",
   "execution_count": 13,
   "metadata": {},
   "outputs": [
    {
     "ename": "NoSuchWindowException",
     "evalue": "Message: no such window: target window already closed\nfrom unknown error: web view not found\n  (Session info: chrome=113.0.5672.93)\nStacktrace:\nBacktrace:\n\tGetHandleVerifier [0x01118893+48451]\n\t(No symbol) [0x010AB8A1]\n\t(No symbol) [0x00FB5058]\n\t(No symbol) [0x00F9D073]\n\t(No symbol) [0x00FFDEBB]\n\t(No symbol) [0x0100BFD3]\n\t(No symbol) [0x00FFA0B6]\n\t(No symbol) [0x00FD7E08]\n\t(No symbol) [0x00FD8F2D]\n\tGetHandleVerifier [0x01378E3A+2540266]\n\tGetHandleVerifier [0x013B8959+2801161]\n\tGetHandleVerifier [0x013B295C+2776588]\n\tGetHandleVerifier [0x011A2280+612144]\n\t(No symbol) [0x010B4F6C]\n\t(No symbol) [0x010B11D8]\n\t(No symbol) [0x010B12BB]\n\t(No symbol) [0x010A4857]\n\tBaseThreadInitThunk [0x754500C9+25]\n\tRtlGetAppContainerNamedObjectPath [0x773F7B4E+286]\n\tRtlGetAppContainerNamedObjectPath [0x773F7B1E+238]\n",
     "output_type": "error",
     "traceback": [
      "\u001b[1;31m---------------------------------------------------------------------------\u001b[0m",
      "\u001b[1;31mNoSuchWindowException\u001b[0m                     Traceback (most recent call last)",
      "\u001b[1;32mc:\\Users\\chjy1\\Desktop\\market_sensing\\ConstructionEquipment\\lieb.ipynb Cell 5\u001b[0m in \u001b[0;36m<cell line: 2>\u001b[1;34m()\u001b[0m\n\u001b[0;32m      <a href='vscode-notebook-cell:/c%3A/Users/chjy1/Desktop/market_sensing/ConstructionEquipment/lieb.ipynb#X13sZmlsZQ%3D%3D?line=0'>1</a>\u001b[0m url \u001b[39m=\u001b[39m \u001b[39m\"\u001b[39m\u001b[39mhttps://www.melon.com/genre/song_list.htm?gnrCode=GN0100#params\u001b[39m\u001b[39m%\u001b[39m\u001b[39m5BgnrCode\u001b[39m\u001b[39m%\u001b[39m\u001b[39m5D=GN0100&params\u001b[39m\u001b[39m%\u001b[39m\u001b[39m5BdtlGnrCode\u001b[39m\u001b[39m%\u001b[39m\u001b[39m5D=&params\u001b[39m\u001b[39m%\u001b[39m\u001b[39m5BorderBy\u001b[39m\u001b[39m%\u001b[39m\u001b[39m5D=POP&params\u001b[39m\u001b[39m%\u001b[39m\u001b[39m5BsteadyYn\u001b[39m\u001b[39m%\u001b[39m\u001b[39m5D=N&po=pageObj&startIndex=56501\u001b[39m\u001b[39m\"\u001b[39m\n\u001b[1;32m----> <a href='vscode-notebook-cell:/c%3A/Users/chjy1/Desktop/market_sensing/ConstructionEquipment/lieb.ipynb#X13sZmlsZQ%3D%3D?line=1'>2</a>\u001b[0m driver\u001b[39m.\u001b[39;49mget(url)\n",
      "File \u001b[1;32mc:\\Users\\chjy1\\anaconda3\\lib\\site-packages\\selenium\\webdriver\\remote\\webdriver.py:455\u001b[0m, in \u001b[0;36mWebDriver.get\u001b[1;34m(self, url)\u001b[0m\n\u001b[0;32m    451\u001b[0m \u001b[39mdef\u001b[39;00m \u001b[39mget\u001b[39m(\u001b[39mself\u001b[39m, url: \u001b[39mstr\u001b[39m) \u001b[39m-\u001b[39m\u001b[39m>\u001b[39m \u001b[39mNone\u001b[39;00m:\n\u001b[0;32m    452\u001b[0m     \u001b[39m\"\"\"\u001b[39;00m\n\u001b[0;32m    453\u001b[0m \u001b[39m    Loads a web page in the current browser session.\u001b[39;00m\n\u001b[0;32m    454\u001b[0m \u001b[39m    \"\"\"\u001b[39;00m\n\u001b[1;32m--> 455\u001b[0m     \u001b[39mself\u001b[39;49m\u001b[39m.\u001b[39;49mexecute(Command\u001b[39m.\u001b[39;49mGET, {\u001b[39m\"\u001b[39;49m\u001b[39murl\u001b[39;49m\u001b[39m\"\u001b[39;49m: url})\n",
      "File \u001b[1;32mc:\\Users\\chjy1\\anaconda3\\lib\\site-packages\\selenium\\webdriver\\remote\\webdriver.py:444\u001b[0m, in \u001b[0;36mWebDriver.execute\u001b[1;34m(self, driver_command, params)\u001b[0m\n\u001b[0;32m    442\u001b[0m response \u001b[39m=\u001b[39m \u001b[39mself\u001b[39m\u001b[39m.\u001b[39mcommand_executor\u001b[39m.\u001b[39mexecute(driver_command, params)\n\u001b[0;32m    443\u001b[0m \u001b[39mif\u001b[39;00m response:\n\u001b[1;32m--> 444\u001b[0m     \u001b[39mself\u001b[39;49m\u001b[39m.\u001b[39;49merror_handler\u001b[39m.\u001b[39;49mcheck_response(response)\n\u001b[0;32m    445\u001b[0m     response[\u001b[39m\"\u001b[39m\u001b[39mvalue\u001b[39m\u001b[39m\"\u001b[39m] \u001b[39m=\u001b[39m \u001b[39mself\u001b[39m\u001b[39m.\u001b[39m_unwrap_value(response\u001b[39m.\u001b[39mget(\u001b[39m\"\u001b[39m\u001b[39mvalue\u001b[39m\u001b[39m\"\u001b[39m, \u001b[39mNone\u001b[39;00m))\n\u001b[0;32m    446\u001b[0m     \u001b[39mreturn\u001b[39;00m response\n",
      "File \u001b[1;32mc:\\Users\\chjy1\\anaconda3\\lib\\site-packages\\selenium\\webdriver\\remote\\errorhandler.py:249\u001b[0m, in \u001b[0;36mErrorHandler.check_response\u001b[1;34m(self, response)\u001b[0m\n\u001b[0;32m    247\u001b[0m         alert_text \u001b[39m=\u001b[39m value[\u001b[39m\"\u001b[39m\u001b[39malert\u001b[39m\u001b[39m\"\u001b[39m]\u001b[39m.\u001b[39mget(\u001b[39m\"\u001b[39m\u001b[39mtext\u001b[39m\u001b[39m\"\u001b[39m)\n\u001b[0;32m    248\u001b[0m     \u001b[39mraise\u001b[39;00m exception_class(message, screen, stacktrace, alert_text)  \u001b[39m# type: ignore[call-arg]  # mypy is not smart enough here\u001b[39;00m\n\u001b[1;32m--> 249\u001b[0m \u001b[39mraise\u001b[39;00m exception_class(message, screen, stacktrace)\n",
      "\u001b[1;31mNoSuchWindowException\u001b[0m: Message: no such window: target window already closed\nfrom unknown error: web view not found\n  (Session info: chrome=113.0.5672.93)\nStacktrace:\nBacktrace:\n\tGetHandleVerifier [0x01118893+48451]\n\t(No symbol) [0x010AB8A1]\n\t(No symbol) [0x00FB5058]\n\t(No symbol) [0x00F9D073]\n\t(No symbol) [0x00FFDEBB]\n\t(No symbol) [0x0100BFD3]\n\t(No symbol) [0x00FFA0B6]\n\t(No symbol) [0x00FD7E08]\n\t(No symbol) [0x00FD8F2D]\n\tGetHandleVerifier [0x01378E3A+2540266]\n\tGetHandleVerifier [0x013B8959+2801161]\n\tGetHandleVerifier [0x013B295C+2776588]\n\tGetHandleVerifier [0x011A2280+612144]\n\t(No symbol) [0x010B4F6C]\n\t(No symbol) [0x010B11D8]\n\t(No symbol) [0x010B12BB]\n\t(No symbol) [0x010A4857]\n\tBaseThreadInitThunk [0x754500C9+25]\n\tRtlGetAppContainerNamedObjectPath [0x773F7B4E+286]\n\tRtlGetAppContainerNamedObjectPath [0x773F7B1E+238]\n"
     ]
    }
   ],
   "source": [
    "url = \"https://www.melon.com/genre/song_list.htm?gnrCode=GN0100#params%5BgnrCode%5D=GN0100&params%5BdtlGnrCode%5D=&params%5BorderBy%5D=POP&params%5BsteadyYn%5D=N&po=pageObj&startIndex=56501\"\n",
    "driver.get(url)"
   ]
  },
  {
   "cell_type": "code",
   "execution_count": null,
   "metadata": {},
   "outputs": [],
   "source": [
    "driver.find_element(By.CSS_SELECTOR, \"[aria-label='Decline']\").click()\n",
    "time.sleep(1)\n",
    "\n",
    "html = driver.page_source\n",
    "soup = BeautifulSoup(html, \"lxml\")"
   ]
  },
  {
   "cell_type": "code",
   "execution_count": null,
   "metadata": {},
   "outputs": [],
   "source": []
  },
  {
   "cell_type": "code",
   "execution_count": null,
   "metadata": {},
   "outputs": [],
   "source": []
  },
  {
   "cell_type": "code",
   "execution_count": null,
   "metadata": {},
   "outputs": [],
   "source": []
  },
  {
   "cell_type": "code",
   "execution_count": null,
   "metadata": {},
   "outputs": [],
   "source": []
  },
  {
   "cell_type": "code",
   "execution_count": null,
   "metadata": {},
   "outputs": [],
   "source": []
  }
 ],
 "metadata": {
  "kernelspec": {
   "display_name": "base",
   "language": "python",
   "name": "python3"
  },
  "language_info": {
   "codemirror_mode": {
    "name": "ipython",
    "version": 3
   },
   "file_extension": ".py",
   "mimetype": "text/x-python",
   "name": "python",
   "nbconvert_exporter": "python",
   "pygments_lexer": "ipython3",
   "version": "3.9.12"
  },
  "orig_nbformat": 4
 },
 "nbformat": 4,
 "nbformat_minor": 2
}
