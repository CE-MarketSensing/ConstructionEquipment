{
 "cells": [
  {
   "cell_type": "code",
   "execution_count": 1,
   "id": "37da3c13",
   "metadata": {
    "scrolled": true
   },
   "outputs": [
    {
     "name": "stderr",
     "output_type": "stream",
     "text": [
      "[WDM] - Downloading: 100%|████████████████████████████████████████████████████████| 6.81M/6.81M [00:00<00:00, 19.0MB/s]\n"
     ]
    }
   ],
   "source": [
    "import pandas as pd\n",
    "import time\n",
    "import selenium\n",
    "from selenium import webdriver \n",
    "from selenium.webdriver.chrome.service import Service #chromedriver 자동설치\n",
    "from webdriver_manager.chrome import ChromeDriverManager #chromedriver 자동설치\n",
    "from selenium.webdriver.common.by import By #요소 찾을 때 사용\n",
    "from selenium.webdriver.common.keys import Keys\n",
    "service = Service(executable_path=ChromeDriverManager().install()) #크롬드라이버 설치\n",
    "from selenium.webdriver import ActionChains\n",
    "\n",
    "#인터넷 열어서 원하는 사이트 접속\n",
    "driver = webdriver.Chrome(service=service)\n",
    "driver.get(\"https://www.cat.com/en_US/news/machine-press-releases.html\")\n",
    "\n",
    "#쿠키 설정 들어가기\n",
    "Cookie = driver.find_element(By.ID, 'onetrust-pc-btn-handler')\n",
    "Cookie.click()\n",
    "\n",
    "time.sleep(0.5)\n",
    "\n",
    "#모두 거부\n",
    "No = driver.find_element(By.CLASS_NAME, 'ot-pc-refuse-all-handler')\n",
    "No.click()\n",
    "\n",
    "#모두 동의\n",
    "# Yes = driver.find_element(By.ID 'onetrust-accept-btn-handler')\n",
    "# Yes.click()\n",
    "\n",
    "#모두 동의를 원할시 쿠키 설정 들어가기에서부터 모두거부까지 주석 처리를 해주시고 모두 동의 부분 주석처리를 해제해주세요\n",
    "\n",
    "time.sleep(0.5)\n",
    "\n",
    "#기사내용 더보기\n",
    "Load_more = driver.find_element(By.ID, \"listID-0\")\n",
    "\n",
    "#총 페이지 수\n",
    "page_total = driver.find_element(By.CLASS_NAME, \"pagination--total\")\n",
    "pages = int(page_total.text)\n",
    "\n",
    "#현재 보여지는 페이지 수 \n",
    "page_current = driver.find_element(By.CLASS_NAME, \"pagination--current\")\n",
    "page_currents = int(page_current.text)\n",
    "\n",
    "Mon = ['January','February','March','April','May','June','July','August','September','October','November','December']\n",
    "\n",
    "# #타임슬립을 너무 짧게 설정하면 다른 페이지로 넘어가요\n",
    "# for i in range(1,pages+1,25):\n",
    "#     try:\n",
    "#         Load_more.click()\n",
    "#         time.sleep(1)\n",
    "#     except:\n",
    "#         page_currents == pages\n",
    "        \n",
    "# #기사 날짜와 제목 추출\n",
    "\n",
    "# article = driver.find_element(By.ID, \"container-1237bb0555\")\n",
    "\n",
    "# #기사 날짜와 제목을 리스트로 만들어줘요\n",
    "# i=[]\n",
    "\n",
    "# for news in article.text:\n",
    "#     i.append(news)\n",
    "# #띄어쓰기와 필요없는 첫줄을 제거해요    \n",
    "# df_list = \"\".join(i).split(\"\\n\")\n",
    "# del df_list[0]\n",
    "\n",
    "# #딕셔너리로 바꿔줘요\n",
    "# dictionary = {i : df_list[i] for i in range(len(df_list))}\n",
    "# #날짜와 기사제목을 각각 a,b리스트에 넣어줘요\n",
    "# a=[]\n",
    "# b=[]\n",
    "\n",
    "# for i in dictionary:\n",
    "#     if i == 0 or i % 2 == 0:\n",
    "#         a.append(dictionary[i])\n",
    "#     else:\n",
    "#         b.append(dictionary[i])\n",
    "# #날짜와 기사제목을 시리즈로 만들고 데이터 프레임으로 만들고 데이터프레임을 표시해요.   \n",
    "# a = pd.Series(a, index=None)\n",
    "# b = pd.Series(b)\n",
    "# df = pd.DataFrame(a)\n",
    "# df.columns = [\"Date\"]\n",
    "# df[\"Article\"] = b        \n",
    "# #csv 파일로 추출해요\n",
    "# # df.to_csv(\"Caterpillar.csv\", index=False)"
   ]
  },
  {
   "cell_type": "code",
   "execution_count": 3,
   "id": "bc54af17",
   "metadata": {},
   "outputs": [],
   "source": [
    "news_title = []\n",
    "news_datetime = []\n",
    "news_author = []\n",
    "news_summary = []\n",
    "news_article = []"
   ]
  },
  {
   "cell_type": "code",
   "execution_count": 120,
   "id": "a9e0bb99",
   "metadata": {
    "collapsed": true
   },
   "outputs": [
    {
     "ename": "ElementClickInterceptedException",
     "evalue": "Message: element click intercepted: Element <li class=\"list__item col-3\" data-item-sort=\"1\">...</li> is not clickable at point (471, 22). Other element would receive the click: <ul class=\"breadcrumb__list-msrp\">...</ul>\n  (Session info: chrome=113.0.5672.127)\nStacktrace:\nBacktrace:\n\tGetHandleVerifier [0x00408893+48451]\n\t(No symbol) [0x0039B8A1]\n\t(No symbol) [0x002A5058]\n\t(No symbol) [0x002D4BA4]\n\t(No symbol) [0x002D36E8]\n\t(No symbol) [0x002D1EEB]\n\t(No symbol) [0x002D12FE]\n\t(No symbol) [0x002C9AAC]\n\t(No symbol) [0x002EA2BC]\n\t(No symbol) [0x002C9586]\n\t(No symbol) [0x002EA614]\n\t(No symbol) [0x002FC482]\n\t(No symbol) [0x002EA0B6]\n\t(No symbol) [0x002C7E08]\n\t(No symbol) [0x002C8F2D]\n\tGetHandleVerifier [0x00668E3A+2540266]\n\tGetHandleVerifier [0x006A8959+2801161]\n\tGetHandleVerifier [0x006A295C+2776588]\n\tGetHandleVerifier [0x00492280+612144]\n\t(No symbol) [0x003A4F6C]\n\t(No symbol) [0x003A11D8]\n\t(No symbol) [0x003A12BB]\n\t(No symbol) [0x00394857]\n\tBaseThreadInitThunk [0x762600C9+25]\n\tRtlGetAppContainerNamedObjectPath [0x77C67B4E+286]\n\tRtlGetAppContainerNamedObjectPath [0x77C67B1E+238]\n",
     "output_type": "error",
     "traceback": [
      "\u001b[1;31m---------------------------------------------------------------------------\u001b[0m",
      "\u001b[1;31mElementClickInterceptedException\u001b[0m          Traceback (most recent call last)",
      "Input \u001b[1;32mIn [120]\u001b[0m, in \u001b[0;36m<cell line: 3>\u001b[1;34m()\u001b[0m\n\u001b[0;32m      3\u001b[0m \u001b[38;5;28;01mfor\u001b[39;00m i \u001b[38;5;129;01min\u001b[39;00m \u001b[38;5;28mrange\u001b[39m(\u001b[38;5;241m1\u001b[39m,\u001b[38;5;241m101\u001b[39m):\n\u001b[0;32m      4\u001b[0m     time\u001b[38;5;241m.\u001b[39msleep(\u001b[38;5;241m1\u001b[39m)\n\u001b[1;32m----> 5\u001b[0m     \u001b[43mdriver\u001b[49m\u001b[38;5;241;43m.\u001b[39;49m\u001b[43mfind_element\u001b[49m\u001b[43m(\u001b[49m\u001b[43mBy\u001b[49m\u001b[38;5;241;43m.\u001b[39;49m\u001b[43mXPATH\u001b[49m\u001b[43m \u001b[49m\u001b[43m,\u001b[49m\u001b[38;5;124;43mf\u001b[39;49m\u001b[38;5;124;43m'\u001b[39;49m\u001b[38;5;124;43m//*[@id=\u001b[39;49m\u001b[38;5;124;43m\"\u001b[39;49m\u001b[38;5;124;43mcontainer-1237bb0555\u001b[39;49m\u001b[38;5;124;43m\"\u001b[39;49m\u001b[38;5;124;43m]/div/div/div/div/div/div[2]/div[1]/ul/li[\u001b[39;49m\u001b[38;5;132;43;01m{\u001b[39;49;00m\u001b[43mi\u001b[49m\u001b[38;5;132;43;01m}\u001b[39;49;00m\u001b[38;5;124;43m]\u001b[39;49m\u001b[38;5;124;43m'\u001b[39;49m\u001b[43m)\u001b[49m\u001b[38;5;241;43m.\u001b[39;49m\u001b[43mclick\u001b[49m\u001b[43m(\u001b[49m\u001b[43m)\u001b[49m\n\u001b[0;32m      6\u001b[0m     \u001b[38;5;28;01mtry\u001b[39;00m:\n\u001b[0;32m      7\u001b[0m         article \u001b[38;5;241m=\u001b[39m driver\u001b[38;5;241m.\u001b[39mfind_element(By\u001b[38;5;241m.\u001b[39mCSS_SELECTOR, \u001b[38;5;124m'\u001b[39m\u001b[38;5;124mbody > div.root.responsivegrid > div > div:nth-child(8) > div\u001b[39m\u001b[38;5;124m'\u001b[39m)\u001b[38;5;241m.\u001b[39mtext\n",
      "File \u001b[1;32m~\\anaconda3\\lib\\site-packages\\selenium\\webdriver\\remote\\webelement.py:94\u001b[0m, in \u001b[0;36mWebElement.click\u001b[1;34m(self)\u001b[0m\n\u001b[0;32m     92\u001b[0m \u001b[38;5;28;01mdef\u001b[39;00m \u001b[38;5;21mclick\u001b[39m(\u001b[38;5;28mself\u001b[39m) \u001b[38;5;241m-\u001b[39m\u001b[38;5;241m>\u001b[39m \u001b[38;5;28;01mNone\u001b[39;00m:\n\u001b[0;32m     93\u001b[0m     \u001b[38;5;124;03m\"\"\"Clicks the element.\"\"\"\u001b[39;00m\n\u001b[1;32m---> 94\u001b[0m     \u001b[38;5;28;43mself\u001b[39;49m\u001b[38;5;241;43m.\u001b[39;49m\u001b[43m_execute\u001b[49m\u001b[43m(\u001b[49m\u001b[43mCommand\u001b[49m\u001b[38;5;241;43m.\u001b[39;49m\u001b[43mCLICK_ELEMENT\u001b[49m\u001b[43m)\u001b[49m\n",
      "File \u001b[1;32m~\\anaconda3\\lib\\site-packages\\selenium\\webdriver\\remote\\webelement.py:403\u001b[0m, in \u001b[0;36mWebElement._execute\u001b[1;34m(self, command, params)\u001b[0m\n\u001b[0;32m    401\u001b[0m     params \u001b[38;5;241m=\u001b[39m {}\n\u001b[0;32m    402\u001b[0m params[\u001b[38;5;124m\"\u001b[39m\u001b[38;5;124mid\u001b[39m\u001b[38;5;124m\"\u001b[39m] \u001b[38;5;241m=\u001b[39m \u001b[38;5;28mself\u001b[39m\u001b[38;5;241m.\u001b[39m_id\n\u001b[1;32m--> 403\u001b[0m \u001b[38;5;28;01mreturn\u001b[39;00m \u001b[38;5;28;43mself\u001b[39;49m\u001b[38;5;241;43m.\u001b[39;49m\u001b[43m_parent\u001b[49m\u001b[38;5;241;43m.\u001b[39;49m\u001b[43mexecute\u001b[49m\u001b[43m(\u001b[49m\u001b[43mcommand\u001b[49m\u001b[43m,\u001b[49m\u001b[43m \u001b[49m\u001b[43mparams\u001b[49m\u001b[43m)\u001b[49m\n",
      "File \u001b[1;32m~\\anaconda3\\lib\\site-packages\\selenium\\webdriver\\remote\\webdriver.py:440\u001b[0m, in \u001b[0;36mWebDriver.execute\u001b[1;34m(self, driver_command, params)\u001b[0m\n\u001b[0;32m    438\u001b[0m response \u001b[38;5;241m=\u001b[39m \u001b[38;5;28mself\u001b[39m\u001b[38;5;241m.\u001b[39mcommand_executor\u001b[38;5;241m.\u001b[39mexecute(driver_command, params)\n\u001b[0;32m    439\u001b[0m \u001b[38;5;28;01mif\u001b[39;00m response:\n\u001b[1;32m--> 440\u001b[0m     \u001b[38;5;28;43mself\u001b[39;49m\u001b[38;5;241;43m.\u001b[39;49m\u001b[43merror_handler\u001b[49m\u001b[38;5;241;43m.\u001b[39;49m\u001b[43mcheck_response\u001b[49m\u001b[43m(\u001b[49m\u001b[43mresponse\u001b[49m\u001b[43m)\u001b[49m\n\u001b[0;32m    441\u001b[0m     response[\u001b[38;5;124m\"\u001b[39m\u001b[38;5;124mvalue\u001b[39m\u001b[38;5;124m\"\u001b[39m] \u001b[38;5;241m=\u001b[39m \u001b[38;5;28mself\u001b[39m\u001b[38;5;241m.\u001b[39m_unwrap_value(response\u001b[38;5;241m.\u001b[39mget(\u001b[38;5;124m\"\u001b[39m\u001b[38;5;124mvalue\u001b[39m\u001b[38;5;124m\"\u001b[39m, \u001b[38;5;28;01mNone\u001b[39;00m))\n\u001b[0;32m    442\u001b[0m     \u001b[38;5;28;01mreturn\u001b[39;00m response\n",
      "File \u001b[1;32m~\\anaconda3\\lib\\site-packages\\selenium\\webdriver\\remote\\errorhandler.py:245\u001b[0m, in \u001b[0;36mErrorHandler.check_response\u001b[1;34m(self, response)\u001b[0m\n\u001b[0;32m    243\u001b[0m         alert_text \u001b[38;5;241m=\u001b[39m value[\u001b[38;5;124m\"\u001b[39m\u001b[38;5;124malert\u001b[39m\u001b[38;5;124m\"\u001b[39m]\u001b[38;5;241m.\u001b[39mget(\u001b[38;5;124m\"\u001b[39m\u001b[38;5;124mtext\u001b[39m\u001b[38;5;124m\"\u001b[39m)\n\u001b[0;32m    244\u001b[0m     \u001b[38;5;28;01mraise\u001b[39;00m exception_class(message, screen, stacktrace, alert_text)  \u001b[38;5;66;03m# type: ignore[call-arg]  # mypy is not smart enough here\u001b[39;00m\n\u001b[1;32m--> 245\u001b[0m \u001b[38;5;28;01mraise\u001b[39;00m exception_class(message, screen, stacktrace)\n",
      "\u001b[1;31mElementClickInterceptedException\u001b[0m: Message: element click intercepted: Element <li class=\"list__item col-3\" data-item-sort=\"1\">...</li> is not clickable at point (471, 22). Other element would receive the click: <ul class=\"breadcrumb__list-msrp\">...</ul>\n  (Session info: chrome=113.0.5672.127)\nStacktrace:\nBacktrace:\n\tGetHandleVerifier [0x00408893+48451]\n\t(No symbol) [0x0039B8A1]\n\t(No symbol) [0x002A5058]\n\t(No symbol) [0x002D4BA4]\n\t(No symbol) [0x002D36E8]\n\t(No symbol) [0x002D1EEB]\n\t(No symbol) [0x002D12FE]\n\t(No symbol) [0x002C9AAC]\n\t(No symbol) [0x002EA2BC]\n\t(No symbol) [0x002C9586]\n\t(No symbol) [0x002EA614]\n\t(No symbol) [0x002FC482]\n\t(No symbol) [0x002EA0B6]\n\t(No symbol) [0x002C7E08]\n\t(No symbol) [0x002C8F2D]\n\tGetHandleVerifier [0x00668E3A+2540266]\n\tGetHandleVerifier [0x006A8959+2801161]\n\tGetHandleVerifier [0x006A295C+2776588]\n\tGetHandleVerifier [0x00492280+612144]\n\t(No symbol) [0x003A4F6C]\n\t(No symbol) [0x003A11D8]\n\t(No symbol) [0x003A12BB]\n\t(No symbol) [0x00394857]\n\tBaseThreadInitThunk [0x762600C9+25]\n\tRtlGetAppContainerNamedObjectPath [0x77C67B4E+286]\n\tRtlGetAppContainerNamedObjectPath [0x77C67B1E+238]\n"
     ]
    }
   ],
   "source": [
    "news_article = []\n",
    "\n",
    "for i in range(1,101):\n",
    "    ActionChains(driver).move_to_element(driver.find_element(By.XPATH ,f'//*[@id=\"container-1237bb0555\"]/div/div/div/div/div/div[2]/div[1]/ul/li[{i}]')).perform()\n",
    "    time.sleep(1)\n",
    "    driver.find_element(By.XPATH ,f'//*[@id=\"container-1237bb0555\"]/div/div/div/div/div/div[2]/div[1]/ul/li[{i}]').click()\n",
    "    try:\n",
    "        article = driver.find_element(By.CSS_SELECTOR, 'body > div.root.responsivegrid > div > div:nth-child(8) > div').text\n",
    "        article = article.split()\n",
    "    except:\n",
    "        article = driver.find_element(By.CLASS_NAME,\"cmp-text\").text\n",
    "        article = article.split()\n",
    "        del article[:3]\n",
    "    time.sleep(1)\n",
    "    try:\n",
    "        if \"Release\" in article:\n",
    "            r = article[:].index(\"Release\",3)+3\n",
    "            del article[:r]\n",
    "    except:\n",
    "        pass\n",
    "    article = \" \".join(article)\n",
    "    news_article.append(article)\n",
    "    driver.find_element(By.CSS_SELECTOR,'body > div.root.responsivegrid > div > div.cmp-breadcrumb.aem-GridColumn.aem-GridColumn--default--12 > div > div > div > div > ul > li:nth-child(2) > a > span').click()\n",
    "    driver.implicitly_wait(10)\n",
    "    driver.execute_script(\"arguments[0].click();\", driver.find_element(By.XPATH ,'//*[@id=\"listID-0\"]/span'))\n",
    "    driver.execute_script(\"arguments[0].click();\", driver.find_element(By.XPATH ,'//*[@id=\"listID-0\"]/span'))\n",
    "    driver.execute_script(\"arguments[0].click();\", driver.find_element(By.XPATH ,'//*[@id=\"listID-0\"]/span'))"
   ]
  },
  {
   "cell_type": "code",
   "execution_count": 8,
   "id": "354280ce",
   "metadata": {},
   "outputs": [],
   "source": [
    "driver.execute_script(\"window.open('https://www.cat.com/en_US/news/machine-press-releases.html');\")"
   ]
  },
  {
   "cell_type": "code",
   "execution_count": 6,
   "id": "e0ab2b7e",
   "metadata": {},
   "outputs": [],
   "source": [
    "driver.switch_to.window(driver.window_handles[0])"
   ]
  },
  {
   "cell_type": "code",
   "execution_count": 6,
   "id": "9a698715",
   "metadata": {},
   "outputs": [],
   "source": [
    "for i in range(25,30):\n",
    "    ActionChains(driver).move_to_element(driver.find_element(By.XPATH ,f'//*[@id=\"container-1237bb0555\"]/div/div/div/div/div/div[2]/div[1]/ul/li[{i}]')).perform()\n",
    "    driver.find_element(By.XPATH ,f'/html/body/div[1]/div/div[8]/div/div[2]/div/div/div/div/div/div/div[2]/div[1]/ul/li[{i}]').click()\n",
    "    time.sleep(1)\n",
    "    driver.back()\n",
    "    Load_more = driver.find_element(By.ID, \"listID-0\").send_keys(Keys.ENTER)\n",
    "    time.sleep(2)"
   ]
  }
 ],
 "metadata": {
  "kernelspec": {
   "display_name": "Python 3 (ipykernel)",
   "language": "python",
   "name": "python3"
  },
  "language_info": {
   "codemirror_mode": {
    "name": "ipython",
    "version": 3
   },
   "file_extension": ".py",
   "mimetype": "text/x-python",
   "name": "python",
   "nbconvert_exporter": "python",
   "pygments_lexer": "ipython3",
   "version": "3.9.13"
  },
  "toc": {
   "base_numbering": 1,
   "nav_menu": {},
   "number_sections": true,
   "sideBar": true,
   "skip_h1_title": false,
   "title_cell": "Table of Contents",
   "title_sidebar": "Contents",
   "toc_cell": false,
   "toc_position": {},
   "toc_section_display": true,
   "toc_window_display": false
  },
  "varInspector": {
   "cols": {
    "lenName": 16,
    "lenType": 16,
    "lenVar": 40
   },
   "kernels_config": {
    "python": {
     "delete_cmd_postfix": "",
     "delete_cmd_prefix": "del ",
     "library": "var_list.py",
     "varRefreshCmd": "print(var_dic_list())"
    },
    "r": {
     "delete_cmd_postfix": ") ",
     "delete_cmd_prefix": "rm(",
     "library": "var_list.r",
     "varRefreshCmd": "cat(var_dic_list()) "
    }
   },
   "types_to_exclude": [
    "module",
    "function",
    "builtin_function_or_method",
    "instance",
    "_Feature"
   ],
   "window_display": false
  }
 },
 "nbformat": 4,
 "nbformat_minor": 5
}
