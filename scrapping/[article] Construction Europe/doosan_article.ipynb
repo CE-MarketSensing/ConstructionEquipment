{
 "cells": [
  {
   "cell_type": "code",
   "execution_count": 9,
   "metadata": {},
   "outputs": [],
   "source": [
    "import time\n",
    "from selenium import webdriver\n",
    "from selenium.webdriver.chrome.service import Service\n",
    "from selenium.webdriver.common.by import By\n",
    "from selenium.webdriver.chrome.options import Options\n",
    "from selenium.webdriver.common.keys import Keys\n",
    "from selenium.webdriver.support.ui import WebDriverWait\n",
    "from selenium.webdriver.support import expected_conditions as EC\n",
    "from selenium.common.exceptions import TimeoutException\n",
    "from bs4 import BeautifulSoup\n",
    "import urllib.request\n",
    "import pandas as pd"
   ]
  },
  {
   "cell_type": "code",
   "execution_count": 10,
   "metadata": {},
   "outputs": [],
   "source": [
    "options = webdriver.ChromeOptions()\n",
    "# options.add_argument(\"--headless\")  # 창 없이 실행\n",
    "options.add_argument(\"--no-sandbox\")\n",
    "options.add_argument(\"--disable-dev-shm-usage\")\n",
    "options.add_argument(\"--disable-gpu\")\n",
    "options.add_argument(\"--start-maximized\")\n",
    "options.add_experimental_option(\"excludeSwitches\", [\"enable-automation\"])\n",
    "options.add_experimental_option(\"useAutomationExtension\", False)\n",
    "driver = webdriver.Chrome(options=options)"
   ]
  },
  {
   "cell_type": "code",
   "execution_count": 11,
   "metadata": {},
   "outputs": [],
   "source": [
    "# Navigate to the website\n",
    "url = \"https://www.construction-europe.com/search?keyword=develon\"\n",
    "driver.get(url)\n",
    "time.sleep(2)"
   ]
  },
  {
   "cell_type": "code",
   "execution_count": 12,
   "metadata": {},
   "outputs": [],
   "source": [
    "# Click the cookie button\n",
    "driver.find_element(By.CSS_SELECTOR, '#cookieConsent > div > div > div > div.col-12.col-md-auto.text-center.py-2.align-self-center > button').click()"
   ]
  },
  {
   "cell_type": "code",
   "execution_count": 13,
   "metadata": {},
   "outputs": [],
   "source": [
    "req = urllib.request.Request(url)\n",
    "sourcecode = urllib.request.urlopen(url).read()\n",
    "soup = BeautifulSoup(sourcecode, \"html.parser\")"
   ]
  },
  {
   "cell_type": "code",
   "execution_count": 14,
   "metadata": {},
   "outputs": [],
   "source": [
    "# Click the options\n",
    "brand = driver.find_element(By.ID, 'BrandFilter_4')\n",
    "driver.execute_script(\"arguments[0].click();\", brand)\n",
    "\n",
    "type = driver.find_element(By.ID, 'TypeFilter_1')\n",
    "driver.execute_script(\"arguments[0].click();\", type)\n",
    "\n",
    "category = driver.find_element(By.ID, 'CategoryFilter_1')\n",
    "driver.execute_script(\"arguments[0].click();\", category)\n",
    "\n",
    "# Apply the selected options\n",
    "driver.find_element(By.CSS_SELECTOR, '#filterOverlay > div > div > div > button.btn.btn-primary.btn-lg.btn-ApplyFilter').click()"
   ]
  },
  {
   "cell_type": "code",
   "execution_count": 15,
   "metadata": {},
   "outputs": [
    {
     "name": "stdout",
     "output_type": "stream",
     "text": [
      "['https://www.construction-europe.com/news/heavy-wheeled-loaders-the-workhorse-of-the-construction-site/8028977.article']\n",
      "['https://www.construction-europe.com/news/heavy-wheeled-loaders-the-workhorse-of-the-construction-site/8028977.article', 'https://www.DemolitionandRecycling.media/news/develon-fleet-helps-clear-former-innocenti-factory-plant/8029288.article']\n",
      "['https://www.construction-europe.com/news/heavy-wheeled-loaders-the-workhorse-of-the-construction-site/8028977.article', 'https://www.DemolitionandRecycling.media/news/develon-fleet-helps-clear-former-innocenti-factory-plant/8029288.article', 'https://www.construction-europe.com/news/hyundai-rebrands-and-reveals-three-new-excavators/8029264.article']\n",
      "['https://www.construction-europe.com/news/heavy-wheeled-loaders-the-workhorse-of-the-construction-site/8028977.article', 'https://www.DemolitionandRecycling.media/news/develon-fleet-helps-clear-former-innocenti-factory-plant/8029288.article', 'https://www.construction-europe.com/news/hyundai-rebrands-and-reveals-three-new-excavators/8029264.article', 'https://www.construcaolatinoamericana.com/news/hd-hyundai-infracore-chile-avanca-o-que-vem-com-develon/8029134.article']\n",
      "['https://www.construction-europe.com/news/heavy-wheeled-loaders-the-workhorse-of-the-construction-site/8028977.article', 'https://www.DemolitionandRecycling.media/news/develon-fleet-helps-clear-former-innocenti-factory-plant/8029288.article', 'https://www.construction-europe.com/news/hyundai-rebrands-and-reveals-three-new-excavators/8029264.article', 'https://www.construcaolatinoamericana.com/news/hd-hyundai-infracore-chile-avanca-o-que-vem-com-develon/8029134.article', 'https://www.construccionlatinoamericana.com/news/hd-hyundai-infracore-chile-adelanta-lo-que-viene-con-develon/8029133.article']\n",
      "['https://www.construction-europe.com/news/heavy-wheeled-loaders-the-workhorse-of-the-construction-site/8028977.article', 'https://www.DemolitionandRecycling.media/news/develon-fleet-helps-clear-former-innocenti-factory-plant/8029288.article', 'https://www.construction-europe.com/news/hyundai-rebrands-and-reveals-three-new-excavators/8029264.article', 'https://www.construcaolatinoamericana.com/news/hd-hyundai-infracore-chile-avanca-o-que-vem-com-develon/8029134.article', 'https://www.construccionlatinoamericana.com/news/hd-hyundai-infracore-chile-adelanta-lo-que-viene-con-develon/8029133.article', 'https://www.international-construction.com/news/construction-industry-takes-over-washington-d.c.-as-sector-highlights-us-1-trillion-value/8029089.article']\n",
      "['https://www.construction-europe.com/news/heavy-wheeled-loaders-the-workhorse-of-the-construction-site/8028977.article', 'https://www.DemolitionandRecycling.media/news/develon-fleet-helps-clear-former-innocenti-factory-plant/8029288.article', 'https://www.construction-europe.com/news/hyundai-rebrands-and-reveals-three-new-excavators/8029264.article', 'https://www.construcaolatinoamericana.com/news/hd-hyundai-infracore-chile-avanca-o-que-vem-com-develon/8029134.article', 'https://www.construccionlatinoamericana.com/news/hd-hyundai-infracore-chile-adelanta-lo-que-viene-con-develon/8029133.article', 'https://www.international-construction.com/news/construction-industry-takes-over-washington-d.c.-as-sector-highlights-us-1-trillion-value/8029089.article', 'https://www.DemolitionandRecycling.media/news/hd-hyundai-infracore-targets-middle-east-and-africa-with-develon/8029040.article']\n",
      "['https://www.construction-europe.com/news/heavy-wheeled-loaders-the-workhorse-of-the-construction-site/8028977.article', 'https://www.DemolitionandRecycling.media/news/develon-fleet-helps-clear-former-innocenti-factory-plant/8029288.article', 'https://www.construction-europe.com/news/hyundai-rebrands-and-reveals-three-new-excavators/8029264.article', 'https://www.construcaolatinoamericana.com/news/hd-hyundai-infracore-chile-avanca-o-que-vem-com-develon/8029134.article', 'https://www.construccionlatinoamericana.com/news/hd-hyundai-infracore-chile-adelanta-lo-que-viene-con-develon/8029133.article', 'https://www.international-construction.com/news/construction-industry-takes-over-washington-d.c.-as-sector-highlights-us-1-trillion-value/8029089.article', 'https://www.DemolitionandRecycling.media/news/hd-hyundai-infracore-targets-middle-east-and-africa-with-develon/8029040.article', 'https://www.international-construction.com/news/develon-launches-new-6-tonne-stage-v-mini-excavators/8028867.article']\n",
      "['https://www.construction-europe.com/news/heavy-wheeled-loaders-the-workhorse-of-the-construction-site/8028977.article', 'https://www.DemolitionandRecycling.media/news/develon-fleet-helps-clear-former-innocenti-factory-plant/8029288.article', 'https://www.construction-europe.com/news/hyundai-rebrands-and-reveals-three-new-excavators/8029264.article', 'https://www.construcaolatinoamericana.com/news/hd-hyundai-infracore-chile-avanca-o-que-vem-com-develon/8029134.article', 'https://www.construccionlatinoamericana.com/news/hd-hyundai-infracore-chile-adelanta-lo-que-viene-con-develon/8029133.article', 'https://www.international-construction.com/news/construction-industry-takes-over-washington-d.c.-as-sector-highlights-us-1-trillion-value/8029089.article', 'https://www.DemolitionandRecycling.media/news/hd-hyundai-infracore-targets-middle-east-and-africa-with-develon/8029040.article', 'https://www.international-construction.com/news/develon-launches-new-6-tonne-stage-v-mini-excavators/8028867.article', 'https://www.construction-europe.com/news/digital-construction-site-steals-show-on-samoter-s-first-day/8028738.article']\n",
      "['https://www.construction-europe.com/news/heavy-wheeled-loaders-the-workhorse-of-the-construction-site/8028977.article', 'https://www.DemolitionandRecycling.media/news/develon-fleet-helps-clear-former-innocenti-factory-plant/8029288.article', 'https://www.construction-europe.com/news/hyundai-rebrands-and-reveals-three-new-excavators/8029264.article', 'https://www.construcaolatinoamericana.com/news/hd-hyundai-infracore-chile-avanca-o-que-vem-com-develon/8029134.article', 'https://www.construccionlatinoamericana.com/news/hd-hyundai-infracore-chile-adelanta-lo-que-viene-con-develon/8029133.article', 'https://www.international-construction.com/news/construction-industry-takes-over-washington-d.c.-as-sector-highlights-us-1-trillion-value/8029089.article', 'https://www.DemolitionandRecycling.media/news/hd-hyundai-infracore-targets-middle-east-and-africa-with-develon/8029040.article', 'https://www.international-construction.com/news/develon-launches-new-6-tonne-stage-v-mini-excavators/8028867.article', 'https://www.construction-europe.com/news/digital-construction-site-steals-show-on-samoter-s-first-day/8028738.article', 'https://www.construcaolatinoamericana.com/news/existe-um-limite-para-o-quanto-o-equipamento-de-construcao-autonomo-pode-obter-/8028743.article']\n",
      "['https://www.construction-europe.com/news/heavy-wheeled-loaders-the-workhorse-of-the-construction-site/8028977.article', 'https://www.DemolitionandRecycling.media/news/develon-fleet-helps-clear-former-innocenti-factory-plant/8029288.article', 'https://www.construction-europe.com/news/hyundai-rebrands-and-reveals-three-new-excavators/8029264.article', 'https://www.construcaolatinoamericana.com/news/hd-hyundai-infracore-chile-avanca-o-que-vem-com-develon/8029134.article', 'https://www.construccionlatinoamericana.com/news/hd-hyundai-infracore-chile-adelanta-lo-que-viene-con-develon/8029133.article', 'https://www.international-construction.com/news/construction-industry-takes-over-washington-d.c.-as-sector-highlights-us-1-trillion-value/8029089.article', 'https://www.DemolitionandRecycling.media/news/hd-hyundai-infracore-targets-middle-east-and-africa-with-develon/8029040.article', 'https://www.international-construction.com/news/develon-launches-new-6-tonne-stage-v-mini-excavators/8028867.article', 'https://www.construction-europe.com/news/digital-construction-site-steals-show-on-samoter-s-first-day/8028738.article', 'https://www.construcaolatinoamericana.com/news/existe-um-limite-para-o-quanto-o-equipamento-de-construcao-autonomo-pode-obter-/8028743.article']\n",
      "['https://www.construction-europe.com/news/heavy-wheeled-loaders-the-workhorse-of-the-construction-site/8028977.article', 'https://www.DemolitionandRecycling.media/news/develon-fleet-helps-clear-former-innocenti-factory-plant/8029288.article', 'https://www.construction-europe.com/news/hyundai-rebrands-and-reveals-three-new-excavators/8029264.article', 'https://www.construcaolatinoamericana.com/news/hd-hyundai-infracore-chile-avanca-o-que-vem-com-develon/8029134.article', 'https://www.construccionlatinoamericana.com/news/hd-hyundai-infracore-chile-adelanta-lo-que-viene-con-develon/8029133.article', 'https://www.international-construction.com/news/construction-industry-takes-over-washington-d.c.-as-sector-highlights-us-1-trillion-value/8029089.article', 'https://www.DemolitionandRecycling.media/news/hd-hyundai-infracore-targets-middle-east-and-africa-with-develon/8029040.article', 'https://www.international-construction.com/news/develon-launches-new-6-tonne-stage-v-mini-excavators/8028867.article', 'https://www.construction-europe.com/news/digital-construction-site-steals-show-on-samoter-s-first-day/8028738.article', 'https://www.construcaolatinoamericana.com/news/existe-um-limite-para-o-quanto-o-equipamento-de-construcao-autonomo-pode-obter-/8028743.article']\n"
     ]
    },
    {
     "data": {
      "text/plain": [
       "['https://www.construction-europe.com/news/heavy-wheeled-loaders-the-workhorse-of-the-construction-site/8028977.article',\n",
       " 'https://www.DemolitionandRecycling.media/news/develon-fleet-helps-clear-former-innocenti-factory-plant/8029288.article',\n",
       " 'https://www.construction-europe.com/news/hyundai-rebrands-and-reveals-three-new-excavators/8029264.article',\n",
       " 'https://www.construcaolatinoamericana.com/news/hd-hyundai-infracore-chile-avanca-o-que-vem-com-develon/8029134.article',\n",
       " 'https://www.construccionlatinoamericana.com/news/hd-hyundai-infracore-chile-adelanta-lo-que-viene-con-develon/8029133.article',\n",
       " 'https://www.international-construction.com/news/construction-industry-takes-over-washington-d.c.-as-sector-highlights-us-1-trillion-value/8029089.article',\n",
       " 'https://www.DemolitionandRecycling.media/news/hd-hyundai-infracore-targets-middle-east-and-africa-with-develon/8029040.article',\n",
       " 'https://www.international-construction.com/news/develon-launches-new-6-tonne-stage-v-mini-excavators/8028867.article',\n",
       " 'https://www.construction-europe.com/news/digital-construction-site-steals-show-on-samoter-s-first-day/8028738.article',\n",
       " 'https://www.construcaolatinoamericana.com/news/existe-um-limite-para-o-quanto-o-equipamento-de-construcao-autonomo-pode-obter-/8028743.article']"
      ]
     },
     "execution_count": 15,
     "metadata": {},
     "output_type": "execute_result"
    }
   ],
   "source": [
    "# Scrape article details\n",
    "full_address = []\n",
    "\n",
    "for i in range(2):\n",
    "    articles = soup.find_all(\"div\", class_=\"khl-article-block-headline font-weight-bold h4\")\n",
    "    for article in articles:\n",
    "        address = article.find(\"a\")[\"href\"]\n",
    "        if address != 'articleurl' and address not in full_address:  # 'articleurl'이 아니고 중복되지 않은 경우에만 추가\n",
    "            full_address.append(address)\n",
    "        print(full_address)\n",
    "        \n",
    "    # next_page_button = driver.find_element(By.CSS_SELECTOR, '#pagination > li.page-item.next > a').click()\n",
    "    # time.sleep(5)\n",
    "    \n",
    "    soup = BeautifulSoup(driver.page_source, \"html.parser\")\n",
    "\n",
    "full_address"
   ]
  },
  {
   "cell_type": "code",
   "execution_count": 16,
   "metadata": {},
   "outputs": [],
   "source": [
    "article_data = []\n",
    "for article_link in full_address:\n",
    "    driver.get(article_link)\n",
    "    time.sleep(2)\n",
    "\n",
    "    soup = BeautifulSoup(driver.page_source, \"html.parser\")\n",
    "    release_date = \"\"\n",
    "    title = \"\"\n",
    "    content = \"\"\n",
    "   \n",
    "    # Scrape release date\n",
    "    release_date_elem = soup.find(\"span\", class_=\"PubDate\")\n",
    "    release_date = release_date_elem.text.strip() if release_date_elem else \"\"\n",
    "            \n",
    "    # Scrape news title\n",
    "    title_elem = soup.find(\"h1\", class_=\"khl-article-page-title\")\n",
    "    title = title_elem.text.strip() if title_elem else \"\"\n",
    "\n",
    "    # Scrape article content\n",
    "    first = soup.find(\"div\", class_=\"col-12 khl-article-page-standfirst\").text\n",
    "    content_elem = soup.find(\"div\", class_=\"col-12 khl-article-page-storybody\")\n",
    "    paragraphs = content_elem.find_all(\"p\") if content_elem else []\n",
    "    content = \"\\n\".join([p.text.strip() for p in paragraphs])\n",
    "    content_elem = soup.find(\"div\", class_=\"col-12 khl-article-page-storybody\")\n",
    "    paragraphs = content_elem.find_all(\"p\") if content_elem else []\n",
    "    content = \"\\n\".join([p.text.strip() for p in paragraphs])\n",
    "\n",
    "    # Check if content is empty\n",
    "    if not content:\n",
    "        continue\n",
    "\n",
    "    # Append article data to the list\n",
    "    article_data.append({\"Date\": release_date, \"Title\": title, \"Content\": content})\n",
    "driver.quit()"
   ]
  },
  {
   "cell_type": "code",
   "execution_count": 17,
   "metadata": {},
   "outputs": [
    {
     "data": {
      "text/html": [
       "<div>\n",
       "<style scoped>\n",
       "    .dataframe tbody tr th:only-of-type {\n",
       "        vertical-align: middle;\n",
       "    }\n",
       "\n",
       "    .dataframe tbody tr th {\n",
       "        vertical-align: top;\n",
       "    }\n",
       "\n",
       "    .dataframe thead th {\n",
       "        text-align: right;\n",
       "    }\n",
       "</style>\n",
       "<table border=\"1\" class=\"dataframe\">\n",
       "  <thead>\n",
       "    <tr style=\"text-align: right;\">\n",
       "      <th></th>\n",
       "      <th>Date</th>\n",
       "      <th>Title</th>\n",
       "      <th>Content</th>\n",
       "    </tr>\n",
       "  </thead>\n",
       "  <tbody>\n",
       "    <tr>\n",
       "      <th>0</th>\n",
       "      <td>06 June 2023</td>\n",
       "      <td>Heavy wheeled loaders: The workhorse of the co...</td>\n",
       "      <td>Heavy wheeled loaders have a home in almost ev...</td>\n",
       "    </tr>\n",
       "    <tr>\n",
       "      <th>1</th>\n",
       "      <td>30 May 2023</td>\n",
       "      <td>Develon fleet helps clear former Innocenti fac...</td>\n",
       "      <td>The company, which announced its rebrand earli...</td>\n",
       "    </tr>\n",
       "    <tr>\n",
       "      <th>2</th>\n",
       "      <td>30 May 2023</td>\n",
       "      <td>Hyundai rebrands and reveals three new excavators</td>\n",
       "      <td>It has been announced that HD Hyundai Construc...</td>\n",
       "    </tr>\n",
       "    <tr>\n",
       "      <th>3</th>\n",
       "      <td>24 May 2023</td>\n",
       "      <td>HD Hyundai Infracore Chile avança o que vem co...</td>\n",
       "      <td>\\nHD Hyundai Infracore Chile S.A. (HDIC), real...</td>\n",
       "    </tr>\n",
       "    <tr>\n",
       "      <th>4</th>\n",
       "      <td>22 May 2023</td>\n",
       "      <td>HD Hyundai Infracore Chile adelanta lo que vie...</td>\n",
       "      <td>\\nHD Hyundai Infracore Chile S.A. (HDIC), real...</td>\n",
       "    </tr>\n",
       "    <tr>\n",
       "      <th>5</th>\n",
       "      <td>18 May 2023</td>\n",
       "      <td>Construction industry takes over Washington, D...</td>\n",
       "      <td>Heavy equipment manufacturers have been displa...</td>\n",
       "    </tr>\n",
       "    <tr>\n",
       "      <th>6</th>\n",
       "      <td></td>\n",
       "      <td>HD Hyundai Infracore targets Middle East and A...</td>\n",
       "      <td>The announcement comes after the company poste...</td>\n",
       "    </tr>\n",
       "    <tr>\n",
       "      <th>7</th>\n",
       "      <td>10 May 2023</td>\n",
       "      <td>Develon launches new 6-tonne Stage V mini-exca...</td>\n",
       "      <td>\\n\\nDevelon has launched the new DX62R-7 and D...</td>\n",
       "    </tr>\n",
       "    <tr>\n",
       "      <th>8</th>\n",
       "      <td>03 May 2023</td>\n",
       "      <td>Digital construction site steals show on Samot...</td>\n",
       "      <td>\\n\\n\\n\\n\\nMachine control, remote control, aut...</td>\n",
       "    </tr>\n",
       "    <tr>\n",
       "      <th>9</th>\n",
       "      <td>03 May 2023</td>\n",
       "      <td>Existe um limite para o quanto o equipamento d...</td>\n",
       "      <td>A automação de equipamentos de construção já e...</td>\n",
       "    </tr>\n",
       "  </tbody>\n",
       "</table>\n",
       "</div>"
      ],
      "text/plain": [
       "           Date                                              Title  \\\n",
       "0  06 June 2023  Heavy wheeled loaders: The workhorse of the co...   \n",
       "1   30 May 2023  Develon fleet helps clear former Innocenti fac...   \n",
       "2   30 May 2023  Hyundai rebrands and reveals three new excavators   \n",
       "3   24 May 2023  HD Hyundai Infracore Chile avança o que vem co...   \n",
       "4   22 May 2023  HD Hyundai Infracore Chile adelanta lo que vie...   \n",
       "5   18 May 2023  Construction industry takes over Washington, D...   \n",
       "6                HD Hyundai Infracore targets Middle East and A...   \n",
       "7   10 May 2023  Develon launches new 6-tonne Stage V mini-exca...   \n",
       "8   03 May 2023  Digital construction site steals show on Samot...   \n",
       "9   03 May 2023  Existe um limite para o quanto o equipamento d...   \n",
       "\n",
       "                                             Content  \n",
       "0  Heavy wheeled loaders have a home in almost ev...  \n",
       "1  The company, which announced its rebrand earli...  \n",
       "2  It has been announced that HD Hyundai Construc...  \n",
       "3  \\nHD Hyundai Infracore Chile S.A. (HDIC), real...  \n",
       "4  \\nHD Hyundai Infracore Chile S.A. (HDIC), real...  \n",
       "5  Heavy equipment manufacturers have been displa...  \n",
       "6  The announcement comes after the company poste...  \n",
       "7  \\n\\nDevelon has launched the new DX62R-7 and D...  \n",
       "8  \\n\\n\\n\\n\\nMachine control, remote control, aut...  \n",
       "9  A automação de equipamentos de construção já e...  "
      ]
     },
     "execution_count": 17,
     "metadata": {},
     "output_type": "execute_result"
    }
   ],
   "source": [
    "# Create DataFrame from article data\n",
    "df = pd.DataFrame(article_data)\n",
    "df"
   ]
  },
  {
   "cell_type": "code",
   "execution_count": 18,
   "metadata": {},
   "outputs": [],
   "source": [
    "# Save DataFrame to CSV\n",
    "df.to_csv(\"doosan_article_final.csv\", index=False)"
   ]
  }
 ],
 "metadata": {
  "kernelspec": {
   "display_name": "base",
   "language": "python",
   "name": "python3"
  },
  "language_info": {
   "codemirror_mode": {
    "name": "ipython",
    "version": 3
   },
   "file_extension": ".py",
   "mimetype": "text/x-python",
   "name": "python",
   "nbconvert_exporter": "python",
   "pygments_lexer": "ipython3",
   "version": "3.9.13"
  },
  "orig_nbformat": 4
 },
 "nbformat": 4,
 "nbformat_minor": 2
}
