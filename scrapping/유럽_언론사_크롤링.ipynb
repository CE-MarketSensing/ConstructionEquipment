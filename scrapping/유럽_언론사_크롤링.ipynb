{
 "cells": [
  {
   "cell_type": "markdown",
   "id": "0d87f1e7",
   "metadata": {},
   "source": [
    "## 원하는 페이지까지 크롤링하기"
   ]
  },
  {
   "cell_type": "code",
   "execution_count": 1,
   "id": "740014cb",
   "metadata": {
    "ExecuteTime": {
     "end_time": "2023-05-22T09:28:54.730095Z",
     "start_time": "2023-05-22T09:28:54.240003Z"
    }
   },
   "outputs": [],
   "source": [
    "import requests\n",
    "from bs4 import BeautifulSoup\n",
    "import pandas as pd\n",
    "from tqdm import tqdm\n",
    "from time import sleep\n",
    "import re"
   ]
  },
  {
   "cell_type": "code",
   "execution_count": 2,
   "id": "b29e5d61",
   "metadata": {
    "ExecuteTime": {
     "end_time": "2023-05-22T09:34:28.092486Z",
     "start_time": "2023-05-22T09:28:54.731335Z"
    }
   },
   "outputs": [
    {
     "name": "stderr",
     "output_type": "stream",
     "text": [
      "100%|██████████████████████████████████████████████████████████████████████████████████| 21/21 [00:45<00:00,  2.19s/it]\n",
      "100%|████████████████████████████████████████████████████████████████████████████████| 169/169 [04:45<00:00,  1.69s/it]\n"
     ]
    }
   ],
   "source": [
    "article_dict = {\"날짜\":[],\n",
    "               \"기사_제목\": [],\n",
    "               \"기사_url\" : [],\n",
    "               \"기사_내용\":[]\n",
    "               }\n",
    "\n",
    "# 첫 번째 기사 url \n",
    "links = []\n",
    "first_url = 'https://www.earthmoversmagazine.co.uk/news.htm?news_pg=1'\n",
    "first_html = requests.get(first_url).text\n",
    "first_soup = BeautifulSoup(first_html, 'lxml')\n",
    "\n",
    "first_news = first_soup.find('div', class_='news')\n",
    "first_link = 'https://www.earthmoversmagazine.co.uk' + first_news.find('a')['href']\n",
    "links.append(first_link)\n",
    "article_dict['기사_url'].append(first_link)\n",
    "\n",
    "for i in tqdm(range(1,22)):\n",
    "    article_url = 'https://www.earthmoversmagazine.co.uk/news.htm?news_pg={}'.format(i)\n",
    "    article_html = requests.get(article_url).text\n",
    "    soup = BeautifulSoup(article_html, 'lxml')\n",
    "    \n",
    "    # 날짜, 기사 제목 태그 조회\n",
    "    remains = soup.find_all('div', class_='col paddedSlim fullWidth')\n",
    "\n",
    "    for remain in remains:\n",
    "        # 날짜\n",
    "        day = \" \".join(remain.find_all('span')[0].text.split()[-3:])\n",
    "        article_dict['날짜'].append(day) \n",
    "        # 기사 제목\n",
    "        title = remain.find('h3').text\n",
    "        article_dict['기사_제목'].append(title)\n",
    "    sleep(0.3)\n",
    "    \n",
    "    # 두 번째 기사부터~ url 태그 조회\n",
    "    the_rest = soup.find('div', class_='col_thirds_offset colPadded')\n",
    "    \n",
    "    for href in the_rest.find_all('li'):\n",
    "        if len(href.find('a')['href']) <= 22 : continue\n",
    "        url = 'https://www.earthmoversmagazine.co.uk' + href.find('a')['href']\n",
    "        article_dict['기사_url'].append(url)\n",
    "        # 기사 본문을 추출하기 위한 links 리스트\n",
    "        links.append(url)\n",
    "    sleep(0.3) \n",
    "    \n",
    "# 기사 본문\n",
    "for link in tqdm(links):\n",
    "    contents_html = requests.get(link).text\n",
    "    contents_soup = BeautifulSoup(contents_html, 'lxml')\n",
    "\n",
    "    refine_text = str(contents_soup.find('article', class_='newsview').find_all('p')[1:-1])\n",
    "    refine_text = re.sub('<br/>|<p>|\\n|</p>,|</p>|<b>|</b>|<strong>|</strong>|amp;','', refine_text).strip()\n",
    "    refine_text = re.sub('\\r|\\xa0',' ', refine_text).strip()\n",
    "    # print(refine_text)\n",
    "    # 위 코드를 출력하면 리스트로 출력된다.\n",
    "    # 출력된 리스트를 문자열로 바꾸기 위해 아래의 과정을 거친다.\n",
    "    str_refine_text = refine_text.replace('[', '')\n",
    "    str_refine_text = str_refine_text.replace(']', '')\n",
    "\n",
    "    # 같은 p태그로 출력되는 내용 중\n",
    "    # 'Got a news story?' 이후에 출력되는 부분을 제거하고 본문만 출력한다.\n",
    "    string = \"Got a news story?\"\n",
    "    clear_text = str_refine_text.split(string)\n",
    "    if len(clear_text) -1 == 1:\n",
    "        article_dict['기사_내용'].append(clear_text[0])\n",
    "    else:\n",
    "        n = len(clear_text) - (len(clear_text)-1)\n",
    "        article_dict['기사_내용'].append(clear_text[:n])\n",
    "    sleep(0.3) \n",
    "        "
   ]
  },
  {
   "cell_type": "code",
   "execution_count": 3,
   "id": "b96af770",
   "metadata": {
    "ExecuteTime": {
     "end_time": "2023-05-22T09:34:28.108018Z",
     "start_time": "2023-05-22T09:34:28.093970Z"
    }
   },
   "outputs": [
    {
     "name": "stdout",
     "output_type": "stream",
     "text": [
      "key값 개수: 4\n",
      "value값 개수: 4\n"
     ]
    }
   ],
   "source": [
    "print('key값 개수:', len(list(article_dict.keys())))\n",
    "print('value값 개수:', len(list(article_dict.values())))"
   ]
  },
  {
   "cell_type": "markdown",
   "id": "23eaac62",
   "metadata": {},
   "source": [
    "### 기사_내용에 중복값 확인"
   ]
  },
  {
   "cell_type": "code",
   "execution_count": 4,
   "id": "93867a16",
   "metadata": {
    "ExecuteTime": {
     "end_time": "2023-05-22T09:34:28.124087Z",
     "start_time": "2023-05-22T09:34:28.110036Z"
    }
   },
   "outputs": [
    {
     "name": "stdout",
     "output_type": "stream",
     "text": [
      "169\n",
      "169\n",
      "169\n",
      "169\n"
     ]
    }
   ],
   "source": [
    "print(len(article_dict['날짜']))\n",
    "print(len(article_dict['기사_제목']))\n",
    "print(len(article_dict['기사_url']))\n",
    "print(len(article_dict['기사_내용']))"
   ]
  },
  {
   "cell_type": "markdown",
   "id": "0a8dbcc3",
   "metadata": {},
   "source": [
    "### DataFrame 으로 저장하기"
   ]
  },
  {
   "cell_type": "code",
   "execution_count": 5,
   "id": "597d2baf",
   "metadata": {
    "ExecuteTime": {
     "end_time": "2023-05-22T09:34:28.262196Z",
     "start_time": "2023-05-22T09:34:28.125547Z"
    }
   },
   "outputs": [],
   "source": [
    "df = pd.DataFrame(article_dict)\n",
    "df.to_csv(\"europe_crawling/earthmoversmagazine.csv\", index=False)\n",
    "df.to_excel(\"europe_crawling/earthmoversmagazine.xlsx\", encoding='utf-8', index=False)"
   ]
  },
  {
   "cell_type": "code",
   "execution_count": 6,
   "id": "778c9146",
   "metadata": {
    "ExecuteTime": {
     "end_time": "2023-05-22T09:34:28.294422Z",
     "start_time": "2023-05-22T09:34:28.263725Z"
    },
    "scrolled": true
   },
   "outputs": [
    {
     "data": {
      "text/plain": [
       "(169, 4)"
      ]
     },
     "metadata": {},
     "output_type": "display_data"
    },
    {
     "data": {
      "text/html": [
       "<div>\n",
       "<style scoped>\n",
       "    .dataframe tbody tr th:only-of-type {\n",
       "        vertical-align: middle;\n",
       "    }\n",
       "\n",
       "    .dataframe tbody tr th {\n",
       "        vertical-align: top;\n",
       "    }\n",
       "\n",
       "    .dataframe thead th {\n",
       "        text-align: right;\n",
       "    }\n",
       "</style>\n",
       "<table border=\"1\" class=\"dataframe\">\n",
       "  <thead>\n",
       "    <tr style=\"text-align: right;\">\n",
       "      <th></th>\n",
       "      <th>날짜</th>\n",
       "      <th>기사_제목</th>\n",
       "      <th>기사_url</th>\n",
       "      <th>기사_내용</th>\n",
       "    </tr>\n",
       "  </thead>\n",
       "  <tbody>\n",
       "    <tr>\n",
       "      <th>0</th>\n",
       "      <td>22 May 2023</td>\n",
       "      <td>EMS to display Optimas kit at Plantworx</td>\n",
       "      <td>https://www.earthmoversmagazine.co.uk/news/vie...</td>\n",
       "      <td>South Wales-based machinery dealer EMS Limited...</td>\n",
       "    </tr>\n",
       "    <tr>\n",
       "      <th>1</th>\n",
       "      <td>19 May 2023</td>\n",
       "      <td>Screencore XJ Dual-Power tracked jaw crusher</td>\n",
       "      <td>https://www.earthmoversmagazine.co.uk/news/vie...</td>\n",
       "      <td>Screencore has launched a new XJ Dual-Power tr...</td>\n",
       "    </tr>\n",
       "    <tr>\n",
       "      <th>2</th>\n",
       "      <td>18 May 2023</td>\n",
       "      <td>Engcon DC3 control system for Cat excavators</td>\n",
       "      <td>https://www.earthmoversmagazine.co.uk/news/vie...</td>\n",
       "      <td>Engcon’s next generation DC3 control system is...</td>\n",
       "    </tr>\n",
       "    <tr>\n",
       "      <th>3</th>\n",
       "      <td>18 May 2023</td>\n",
       "      <td>HWM Group launches new website</td>\n",
       "      <td>https://www.earthmoversmagazine.co.uk/news/vie...</td>\n",
       "      <td>Winchester-based company, HWM Group is celebra...</td>\n",
       "    </tr>\n",
       "    <tr>\n",
       "      <th>4</th>\n",
       "      <td>17 May 2023</td>\n",
       "      <td>Sennebogen 728e with Xwatch Safety System</td>\n",
       "      <td>https://www.earthmoversmagazine.co.uk/news/vie...</td>\n",
       "      <td>Coombes, a provider of forestry and rail servi...</td>\n",
       "    </tr>\n",
       "  </tbody>\n",
       "</table>\n",
       "</div>"
      ],
      "text/plain": [
       "            날짜                                         기사_제목  \\\n",
       "0  22 May 2023       EMS to display Optimas kit at Plantworx   \n",
       "1  19 May 2023  Screencore XJ Dual-Power tracked jaw crusher   \n",
       "2  18 May 2023  Engcon DC3 control system for Cat excavators   \n",
       "3  18 May 2023                HWM Group launches new website   \n",
       "4  17 May 2023     Sennebogen 728e with Xwatch Safety System   \n",
       "\n",
       "                                              기사_url  \\\n",
       "0  https://www.earthmoversmagazine.co.uk/news/vie...   \n",
       "1  https://www.earthmoversmagazine.co.uk/news/vie...   \n",
       "2  https://www.earthmoversmagazine.co.uk/news/vie...   \n",
       "3  https://www.earthmoversmagazine.co.uk/news/vie...   \n",
       "4  https://www.earthmoversmagazine.co.uk/news/vie...   \n",
       "\n",
       "                                               기사_내용  \n",
       "0  South Wales-based machinery dealer EMS Limited...  \n",
       "1  Screencore has launched a new XJ Dual-Power tr...  \n",
       "2  Engcon’s next generation DC3 control system is...  \n",
       "3  Winchester-based company, HWM Group is celebra...  \n",
       "4  Coombes, a provider of forestry and rail servi...  "
      ]
     },
     "metadata": {},
     "output_type": "display_data"
    }
   ],
   "source": [
    "df1 = pd.read_csv(\"europe_crawling/earthmoversmagazine.csv\")\n",
    "display(df1.shape, df1.head())"
   ]
  }
 ],
 "metadata": {
  "kernelspec": {
   "display_name": "Python 3 (ipykernel)",
   "language": "python",
   "name": "python3"
  },
  "language_info": {
   "codemirror_mode": {
    "name": "ipython",
    "version": 3
   },
   "file_extension": ".py",
   "mimetype": "text/x-python",
   "name": "python",
   "nbconvert_exporter": "python",
   "pygments_lexer": "ipython3",
   "version": "3.9.13"
  },
  "toc": {
   "base_numbering": 1,
   "nav_menu": {},
   "number_sections": true,
   "sideBar": true,
   "skip_h1_title": false,
   "title_cell": "Table of Contents",
   "title_sidebar": "Contents",
   "toc_cell": false,
   "toc_position": {},
   "toc_section_display": true,
   "toc_window_display": true
  }
 },
 "nbformat": 4,
 "nbformat_minor": 5
}
